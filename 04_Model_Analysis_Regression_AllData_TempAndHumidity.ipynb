{
 "cells": [
  {
   "cell_type": "markdown",
   "metadata": {},
   "source": [
    "# Preface"
   ]
  },
  {
   "cell_type": "markdown",
   "metadata": {},
   "source": [
    "Purpose:\n",
    "\n",
    "Covid-19 Analysis with Weather Data (Temp and Humidity) for seleceted two Cities- Sao Paulo(Brazil) and New York (USA) to show if these weather variables impact Covid new cases increase.\n",
    "\n",
    "Data:\n",
    "\n",
    "1. Resources folder under Main Branch- https://github.com/archinarula/Group-5-Project/Resources\n"
   ]
  },
  {
   "cell_type": "markdown",
   "metadata": {},
   "source": [
    "# Dependencies and Load Data"
   ]
  },
  {
   "cell_type": "code",
   "execution_count": 3,
   "metadata": {},
   "outputs": [],
   "source": [
    "# first import the dependencies\n",
    "import pandas as pd\n",
    "import numpy as np\n",
    "import math\n",
    "import matplotlib.pyplot as plt\n",
    "import seaborn as sns\n",
    "import plotly.graph_objects as go\n",
    "from plotly.subplots import make_subplots\n",
    "%matplotlib inline"
   ]
  },
  {
   "cell_type": "markdown",
   "metadata": {},
   "source": [
    "## Import the combined data"
   ]
  },
  {
   "cell_type": "code",
   "execution_count": 4,
   "metadata": {},
   "outputs": [],
   "source": [
    "# Add the Resources path variables:\n",
    "Combined_data=\"Resources/Final_Combine_Data.csv\"\n",
    "\n",
    "#Read CSVs and Create Dataframes:\n",
    "Combined_df_all= pd.read_csv(Combined_data, parse_dates=['Reported_Date'], encoding=\"ISO-8859-1\",low_memory=False)\n"
   ]
  },
  {
   "cell_type": "code",
   "execution_count": 5,
   "metadata": {},
   "outputs": [
    {
     "name": "stdout",
     "output_type": "stream",
     "text": [
      "(886, 16)\n"
     ]
    },
    {
     "data": {
      "text/html": [
       "<div>\n",
       "<style scoped>\n",
       "    .dataframe tbody tr th:only-of-type {\n",
       "        vertical-align: middle;\n",
       "    }\n",
       "\n",
       "    .dataframe tbody tr th {\n",
       "        vertical-align: top;\n",
       "    }\n",
       "\n",
       "    .dataframe thead th {\n",
       "        text-align: right;\n",
       "    }\n",
       "</style>\n",
       "<table border=\"1\" class=\"dataframe\">\n",
       "  <thead>\n",
       "    <tr style=\"text-align: right;\">\n",
       "      <th></th>\n",
       "      <th>Extract_Date</th>\n",
       "      <th>Reported_Date</th>\n",
       "      <th>City</th>\n",
       "      <th>is_newyork</th>\n",
       "      <th>Population</th>\n",
       "      <th>Data_Source</th>\n",
       "      <th>New_Cases</th>\n",
       "      <th>mavg_7day_new_cases</th>\n",
       "      <th>new_cases_per_100K</th>\n",
       "      <th>mavg_7day_per_100k_new_cases</th>\n",
       "      <th>daily_temp</th>\n",
       "      <th>daily_humidity</th>\n",
       "      <th>mavg_7_temp</th>\n",
       "      <th>mavg_7_humidity</th>\n",
       "      <th>mavg_15_temp</th>\n",
       "      <th>mavg_15_humidity</th>\n",
       "    </tr>\n",
       "  </thead>\n",
       "  <tbody>\n",
       "    <tr>\n",
       "      <th>0</th>\n",
       "      <td>2021-05-30</td>\n",
       "      <td>2020-02-29</td>\n",
       "      <td>New York</td>\n",
       "      <td>1</td>\n",
       "      <td>18804000</td>\n",
       "      <td>https://github.com/nychealth/coronavirus-data/...</td>\n",
       "      <td>1</td>\n",
       "      <td>0.0</td>\n",
       "      <td>0.01</td>\n",
       "      <td>0.01</td>\n",
       "      <td>0.40</td>\n",
       "      <td>44.08</td>\n",
       "      <td>5.702857</td>\n",
       "      <td>58.961429</td>\n",
       "      <td>3.500000</td>\n",
       "      <td>56.268000</td>\n",
       "    </tr>\n",
       "    <tr>\n",
       "      <th>1</th>\n",
       "      <td>2021-05-30</td>\n",
       "      <td>2020-03-01</td>\n",
       "      <td>New York</td>\n",
       "      <td>1</td>\n",
       "      <td>18804000</td>\n",
       "      <td>https://github.com/nychealth/coronavirus-data/...</td>\n",
       "      <td>0</td>\n",
       "      <td>0.0</td>\n",
       "      <td>0.00</td>\n",
       "      <td>0.00</td>\n",
       "      <td>-0.10</td>\n",
       "      <td>45.71</td>\n",
       "      <td>5.394286</td>\n",
       "      <td>59.610000</td>\n",
       "      <td>3.432000</td>\n",
       "      <td>55.587333</td>\n",
       "    </tr>\n",
       "    <tr>\n",
       "      <th>2</th>\n",
       "      <td>2021-05-30</td>\n",
       "      <td>2020-03-02</td>\n",
       "      <td>New York</td>\n",
       "      <td>1</td>\n",
       "      <td>18804000</td>\n",
       "      <td>https://github.com/nychealth/coronavirus-data/...</td>\n",
       "      <td>0</td>\n",
       "      <td>0.0</td>\n",
       "      <td>0.00</td>\n",
       "      <td>0.00</td>\n",
       "      <td>6.61</td>\n",
       "      <td>52.25</td>\n",
       "      <td>4.487143</td>\n",
       "      <td>61.085714</td>\n",
       "      <td>3.816000</td>\n",
       "      <td>55.348667</td>\n",
       "    </tr>\n",
       "    <tr>\n",
       "      <th>3</th>\n",
       "      <td>2021-05-30</td>\n",
       "      <td>2020-03-03</td>\n",
       "      <td>New York</td>\n",
       "      <td>1</td>\n",
       "      <td>18804000</td>\n",
       "      <td>https://github.com/nychealth/coronavirus-data/...</td>\n",
       "      <td>1</td>\n",
       "      <td>0.0</td>\n",
       "      <td>0.01</td>\n",
       "      <td>0.00</td>\n",
       "      <td>11.27</td>\n",
       "      <td>70.72</td>\n",
       "      <td>4.317143</td>\n",
       "      <td>61.561429</td>\n",
       "      <td>4.190667</td>\n",
       "      <td>54.404000</td>\n",
       "    </tr>\n",
       "    <tr>\n",
       "      <th>4</th>\n",
       "      <td>2021-05-30</td>\n",
       "      <td>2020-03-04</td>\n",
       "      <td>New York</td>\n",
       "      <td>1</td>\n",
       "      <td>18804000</td>\n",
       "      <td>https://github.com/nychealth/coronavirus-data/...</td>\n",
       "      <td>5</td>\n",
       "      <td>0.0</td>\n",
       "      <td>0.03</td>\n",
       "      <td>0.01</td>\n",
       "      <td>10.21</td>\n",
       "      <td>58.76</td>\n",
       "      <td>4.688571</td>\n",
       "      <td>60.670000</td>\n",
       "      <td>4.576667</td>\n",
       "      <td>55.585333</td>\n",
       "    </tr>\n",
       "  </tbody>\n",
       "</table>\n",
       "</div>"
      ],
      "text/plain": [
       "  Extract_Date Reported_Date      City  is_newyork  Population  \\\n",
       "0   2021-05-30    2020-02-29  New York           1    18804000   \n",
       "1   2021-05-30    2020-03-01  New York           1    18804000   \n",
       "2   2021-05-30    2020-03-02  New York           1    18804000   \n",
       "3   2021-05-30    2020-03-03  New York           1    18804000   \n",
       "4   2021-05-30    2020-03-04  New York           1    18804000   \n",
       "\n",
       "                                         Data_Source  New_Cases  \\\n",
       "0  https://github.com/nychealth/coronavirus-data/...          1   \n",
       "1  https://github.com/nychealth/coronavirus-data/...          0   \n",
       "2  https://github.com/nychealth/coronavirus-data/...          0   \n",
       "3  https://github.com/nychealth/coronavirus-data/...          1   \n",
       "4  https://github.com/nychealth/coronavirus-data/...          5   \n",
       "\n",
       "   mavg_7day_new_cases  new_cases_per_100K  mavg_7day_per_100k_new_cases  \\\n",
       "0                  0.0                0.01                          0.01   \n",
       "1                  0.0                0.00                          0.00   \n",
       "2                  0.0                0.00                          0.00   \n",
       "3                  0.0                0.01                          0.00   \n",
       "4                  0.0                0.03                          0.01   \n",
       "\n",
       "   daily_temp  daily_humidity  mavg_7_temp  mavg_7_humidity  mavg_15_temp  \\\n",
       "0        0.40           44.08     5.702857        58.961429      3.500000   \n",
       "1       -0.10           45.71     5.394286        59.610000      3.432000   \n",
       "2        6.61           52.25     4.487143        61.085714      3.816000   \n",
       "3       11.27           70.72     4.317143        61.561429      4.190667   \n",
       "4       10.21           58.76     4.688571        60.670000      4.576667   \n",
       "\n",
       "   mavg_15_humidity  \n",
       "0         56.268000  \n",
       "1         55.587333  \n",
       "2         55.348667  \n",
       "3         54.404000  \n",
       "4         55.585333  "
      ]
     },
     "execution_count": 5,
     "metadata": {},
     "output_type": "execute_result"
    }
   ],
   "source": [
    "#Combined dataframe\n",
    "print (Combined_df_all.shape)\n",
    "Combined_df_all.head()\n"
   ]
  },
  {
   "cell_type": "code",
   "execution_count": 7,
   "metadata": {},
   "outputs": [
    {
     "data": {
      "text/html": [
       "<div>\n",
       "<style scoped>\n",
       "    .dataframe tbody tr th:only-of-type {\n",
       "        vertical-align: middle;\n",
       "    }\n",
       "\n",
       "    .dataframe tbody tr th {\n",
       "        vertical-align: top;\n",
       "    }\n",
       "\n",
       "    .dataframe thead th {\n",
       "        text-align: right;\n",
       "    }\n",
       "</style>\n",
       "<table border=\"1\" class=\"dataframe\">\n",
       "  <thead>\n",
       "    <tr style=\"text-align: right;\">\n",
       "      <th></th>\n",
       "      <th>Extract_Date</th>\n",
       "      <th>Reported_Date</th>\n",
       "      <th>City</th>\n",
       "      <th>New_Cases</th>\n",
       "      <th>mavg_7day_new_cases</th>\n",
       "      <th>new_cases_per_100K</th>\n",
       "      <th>mavg_7day_per_100k_new_cases</th>\n",
       "      <th>daily_temp</th>\n",
       "      <th>daily_humidity</th>\n",
       "      <th>mavg_7_temp</th>\n",
       "      <th>mavg_7_humidity</th>\n",
       "      <th>mavg_15_temp</th>\n",
       "      <th>mavg_15_humidity</th>\n",
       "    </tr>\n",
       "  </thead>\n",
       "  <tbody>\n",
       "    <tr>\n",
       "      <th>0</th>\n",
       "      <td>2021-05-30</td>\n",
       "      <td>2020-02-29</td>\n",
       "      <td>New York</td>\n",
       "      <td>1</td>\n",
       "      <td>0.0</td>\n",
       "      <td>0.01</td>\n",
       "      <td>0.01</td>\n",
       "      <td>0.40</td>\n",
       "      <td>44.08</td>\n",
       "      <td>5.702857</td>\n",
       "      <td>58.961429</td>\n",
       "      <td>3.500000</td>\n",
       "      <td>56.268000</td>\n",
       "    </tr>\n",
       "    <tr>\n",
       "      <th>1</th>\n",
       "      <td>2021-05-30</td>\n",
       "      <td>2020-03-01</td>\n",
       "      <td>New York</td>\n",
       "      <td>0</td>\n",
       "      <td>0.0</td>\n",
       "      <td>0.00</td>\n",
       "      <td>0.00</td>\n",
       "      <td>-0.10</td>\n",
       "      <td>45.71</td>\n",
       "      <td>5.394286</td>\n",
       "      <td>59.610000</td>\n",
       "      <td>3.432000</td>\n",
       "      <td>55.587333</td>\n",
       "    </tr>\n",
       "    <tr>\n",
       "      <th>2</th>\n",
       "      <td>2021-05-30</td>\n",
       "      <td>2020-03-02</td>\n",
       "      <td>New York</td>\n",
       "      <td>0</td>\n",
       "      <td>0.0</td>\n",
       "      <td>0.00</td>\n",
       "      <td>0.00</td>\n",
       "      <td>6.61</td>\n",
       "      <td>52.25</td>\n",
       "      <td>4.487143</td>\n",
       "      <td>61.085714</td>\n",
       "      <td>3.816000</td>\n",
       "      <td>55.348667</td>\n",
       "    </tr>\n",
       "    <tr>\n",
       "      <th>3</th>\n",
       "      <td>2021-05-30</td>\n",
       "      <td>2020-03-03</td>\n",
       "      <td>New York</td>\n",
       "      <td>1</td>\n",
       "      <td>0.0</td>\n",
       "      <td>0.01</td>\n",
       "      <td>0.00</td>\n",
       "      <td>11.27</td>\n",
       "      <td>70.72</td>\n",
       "      <td>4.317143</td>\n",
       "      <td>61.561429</td>\n",
       "      <td>4.190667</td>\n",
       "      <td>54.404000</td>\n",
       "    </tr>\n",
       "    <tr>\n",
       "      <th>4</th>\n",
       "      <td>2021-05-30</td>\n",
       "      <td>2020-03-04</td>\n",
       "      <td>New York</td>\n",
       "      <td>5</td>\n",
       "      <td>0.0</td>\n",
       "      <td>0.03</td>\n",
       "      <td>0.01</td>\n",
       "      <td>10.21</td>\n",
       "      <td>58.76</td>\n",
       "      <td>4.688571</td>\n",
       "      <td>60.670000</td>\n",
       "      <td>4.576667</td>\n",
       "      <td>55.585333</td>\n",
       "    </tr>\n",
       "  </tbody>\n",
       "</table>\n",
       "</div>"
      ],
      "text/plain": [
       "  Extract_Date Reported_Date      City  New_Cases  mavg_7day_new_cases  \\\n",
       "0   2021-05-30    2020-02-29  New York          1                  0.0   \n",
       "1   2021-05-30    2020-03-01  New York          0                  0.0   \n",
       "2   2021-05-30    2020-03-02  New York          0                  0.0   \n",
       "3   2021-05-30    2020-03-03  New York          1                  0.0   \n",
       "4   2021-05-30    2020-03-04  New York          5                  0.0   \n",
       "\n",
       "   new_cases_per_100K  mavg_7day_per_100k_new_cases  daily_temp  \\\n",
       "0                0.01                          0.01        0.40   \n",
       "1                0.00                          0.00       -0.10   \n",
       "2                0.00                          0.00        6.61   \n",
       "3                0.01                          0.00       11.27   \n",
       "4                0.03                          0.01       10.21   \n",
       "\n",
       "   daily_humidity  mavg_7_temp  mavg_7_humidity  mavg_15_temp  \\\n",
       "0           44.08     5.702857        58.961429      3.500000   \n",
       "1           45.71     5.394286        59.610000      3.432000   \n",
       "2           52.25     4.487143        61.085714      3.816000   \n",
       "3           70.72     4.317143        61.561429      4.190667   \n",
       "4           58.76     4.688571        60.670000      4.576667   \n",
       "\n",
       "   mavg_15_humidity  \n",
       "0         56.268000  \n",
       "1         55.587333  \n",
       "2         55.348667  \n",
       "3         54.404000  \n",
       "4         55.585333  "
      ]
     },
     "execution_count": 7,
     "metadata": {},
     "output_type": "execute_result"
    }
   ],
   "source": [
    "# Delete extraneous columns\n",
    "Combined_df=Combined_df_all.drop([\"is_newyork\",\"Population\",\"Data_Source\"], axis=1)\n",
    "Combined_df.head()"
   ]
  },
  {
   "cell_type": "code",
   "execution_count": 8,
   "metadata": {},
   "outputs": [
    {
     "name": "stdout",
     "output_type": "stream",
     "text": [
      "<class 'pandas.core.frame.DataFrame'>\n",
      "RangeIndex: 886 entries, 0 to 885\n",
      "Data columns (total 13 columns):\n",
      " #   Column                        Non-Null Count  Dtype         \n",
      "---  ------                        --------------  -----         \n",
      " 0   Extract_Date                  886 non-null    object        \n",
      " 1   Reported_Date                 886 non-null    datetime64[ns]\n",
      " 2   City                          886 non-null    object        \n",
      " 3   New_Cases                     886 non-null    int64         \n",
      " 4   mavg_7day_new_cases           886 non-null    float64       \n",
      " 5   new_cases_per_100K            886 non-null    float64       \n",
      " 6   mavg_7day_per_100k_new_cases  886 non-null    float64       \n",
      " 7   daily_temp                    886 non-null    float64       \n",
      " 8   daily_humidity                886 non-null    float64       \n",
      " 9   mavg_7_temp                   886 non-null    float64       \n",
      " 10  mavg_7_humidity               886 non-null    float64       \n",
      " 11  mavg_15_temp                  886 non-null    float64       \n",
      " 12  mavg_15_humidity              886 non-null    float64       \n",
      "dtypes: datetime64[ns](1), float64(9), int64(1), object(2)\n",
      "memory usage: 90.1+ KB\n"
     ]
    }
   ],
   "source": [
    "Combined_df.info()"
   ]
  },
  {
   "cell_type": "code",
   "execution_count": 9,
   "metadata": {},
   "outputs": [],
   "source": [
    "import warnings\n",
    "warnings.filterwarnings(\"ignore\")"
   ]
  },
  {
   "cell_type": "code",
   "execution_count": 10,
   "metadata": {},
   "outputs": [
    {
     "name": "stdout",
     "output_type": "stream",
     "text": [
      "(443, 13)\n"
     ]
    },
    {
     "data": {
      "text/html": [
       "<div>\n",
       "<style scoped>\n",
       "    .dataframe tbody tr th:only-of-type {\n",
       "        vertical-align: middle;\n",
       "    }\n",
       "\n",
       "    .dataframe tbody tr th {\n",
       "        vertical-align: top;\n",
       "    }\n",
       "\n",
       "    .dataframe thead th {\n",
       "        text-align: right;\n",
       "    }\n",
       "</style>\n",
       "<table border=\"1\" class=\"dataframe\">\n",
       "  <thead>\n",
       "    <tr style=\"text-align: right;\">\n",
       "      <th></th>\n",
       "      <th>Extract_Date</th>\n",
       "      <th>Reported_Date</th>\n",
       "      <th>City</th>\n",
       "      <th>New_Cases</th>\n",
       "      <th>mavg_7day_new_cases</th>\n",
       "      <th>new_cases_per_100K</th>\n",
       "      <th>mavg_7day_per_100k_new_cases</th>\n",
       "      <th>daily_temp</th>\n",
       "      <th>daily_humidity</th>\n",
       "      <th>mavg_7_temp</th>\n",
       "      <th>mavg_7_humidity</th>\n",
       "      <th>mavg_15_temp</th>\n",
       "      <th>mavg_15_humidity</th>\n",
       "    </tr>\n",
       "  </thead>\n",
       "  <tbody>\n",
       "    <tr>\n",
       "      <th>0</th>\n",
       "      <td>2021-05-30</td>\n",
       "      <td>2020-02-29</td>\n",
       "      <td>New York</td>\n",
       "      <td>1</td>\n",
       "      <td>0.0</td>\n",
       "      <td>0.01</td>\n",
       "      <td>0.01</td>\n",
       "      <td>0.40</td>\n",
       "      <td>44.08</td>\n",
       "      <td>5.702857</td>\n",
       "      <td>58.961429</td>\n",
       "      <td>3.500000</td>\n",
       "      <td>56.268000</td>\n",
       "    </tr>\n",
       "    <tr>\n",
       "      <th>1</th>\n",
       "      <td>2021-05-30</td>\n",
       "      <td>2020-03-01</td>\n",
       "      <td>New York</td>\n",
       "      <td>0</td>\n",
       "      <td>0.0</td>\n",
       "      <td>0.00</td>\n",
       "      <td>0.00</td>\n",
       "      <td>-0.10</td>\n",
       "      <td>45.71</td>\n",
       "      <td>5.394286</td>\n",
       "      <td>59.610000</td>\n",
       "      <td>3.432000</td>\n",
       "      <td>55.587333</td>\n",
       "    </tr>\n",
       "    <tr>\n",
       "      <th>2</th>\n",
       "      <td>2021-05-30</td>\n",
       "      <td>2020-03-02</td>\n",
       "      <td>New York</td>\n",
       "      <td>0</td>\n",
       "      <td>0.0</td>\n",
       "      <td>0.00</td>\n",
       "      <td>0.00</td>\n",
       "      <td>6.61</td>\n",
       "      <td>52.25</td>\n",
       "      <td>4.487143</td>\n",
       "      <td>61.085714</td>\n",
       "      <td>3.816000</td>\n",
       "      <td>55.348667</td>\n",
       "    </tr>\n",
       "    <tr>\n",
       "      <th>3</th>\n",
       "      <td>2021-05-30</td>\n",
       "      <td>2020-03-03</td>\n",
       "      <td>New York</td>\n",
       "      <td>1</td>\n",
       "      <td>0.0</td>\n",
       "      <td>0.01</td>\n",
       "      <td>0.00</td>\n",
       "      <td>11.27</td>\n",
       "      <td>70.72</td>\n",
       "      <td>4.317143</td>\n",
       "      <td>61.561429</td>\n",
       "      <td>4.190667</td>\n",
       "      <td>54.404000</td>\n",
       "    </tr>\n",
       "    <tr>\n",
       "      <th>4</th>\n",
       "      <td>2021-05-30</td>\n",
       "      <td>2020-03-04</td>\n",
       "      <td>New York</td>\n",
       "      <td>5</td>\n",
       "      <td>0.0</td>\n",
       "      <td>0.03</td>\n",
       "      <td>0.01</td>\n",
       "      <td>10.21</td>\n",
       "      <td>58.76</td>\n",
       "      <td>4.688571</td>\n",
       "      <td>60.670000</td>\n",
       "      <td>4.576667</td>\n",
       "      <td>55.585333</td>\n",
       "    </tr>\n",
       "  </tbody>\n",
       "</table>\n",
       "</div>"
      ],
      "text/plain": [
       "  Extract_Date Reported_Date      City  New_Cases  mavg_7day_new_cases  \\\n",
       "0   2021-05-30    2020-02-29  New York          1                  0.0   \n",
       "1   2021-05-30    2020-03-01  New York          0                  0.0   \n",
       "2   2021-05-30    2020-03-02  New York          0                  0.0   \n",
       "3   2021-05-30    2020-03-03  New York          1                  0.0   \n",
       "4   2021-05-30    2020-03-04  New York          5                  0.0   \n",
       "\n",
       "   new_cases_per_100K  mavg_7day_per_100k_new_cases  daily_temp  \\\n",
       "0                0.01                          0.01        0.40   \n",
       "1                0.00                          0.00       -0.10   \n",
       "2                0.00                          0.00        6.61   \n",
       "3                0.01                          0.00       11.27   \n",
       "4                0.03                          0.01       10.21   \n",
       "\n",
       "   daily_humidity  mavg_7_temp  mavg_7_humidity  mavg_15_temp  \\\n",
       "0           44.08     5.702857        58.961429      3.500000   \n",
       "1           45.71     5.394286        59.610000      3.432000   \n",
       "2           52.25     4.487143        61.085714      3.816000   \n",
       "3           70.72     4.317143        61.561429      4.190667   \n",
       "4           58.76     4.688571        60.670000      4.576667   \n",
       "\n",
       "   mavg_15_humidity  \n",
       "0         56.268000  \n",
       "1         55.587333  \n",
       "2         55.348667  \n",
       "3         54.404000  \n",
       "4         55.585333  "
      ]
     },
     "execution_count": 10,
     "metadata": {},
     "output_type": "execute_result"
    }
   ],
   "source": [
    "#extract only NY data\n",
    "NY_Combined_df = Combined_df.loc[Combined_df['City']=='New York']\n",
    "print (NY_Combined_df.shape)\n",
    "NY_Combined_df.head()"
   ]
  },
  {
   "cell_type": "code",
   "execution_count": 11,
   "metadata": {},
   "outputs": [
    {
     "name": "stdout",
     "output_type": "stream",
     "text": [
      "(443, 13)\n"
     ]
    },
    {
     "data": {
      "text/html": [
       "<div>\n",
       "<style scoped>\n",
       "    .dataframe tbody tr th:only-of-type {\n",
       "        vertical-align: middle;\n",
       "    }\n",
       "\n",
       "    .dataframe tbody tr th {\n",
       "        vertical-align: top;\n",
       "    }\n",
       "\n",
       "    .dataframe thead th {\n",
       "        text-align: right;\n",
       "    }\n",
       "</style>\n",
       "<table border=\"1\" class=\"dataframe\">\n",
       "  <thead>\n",
       "    <tr style=\"text-align: right;\">\n",
       "      <th></th>\n",
       "      <th>Extract_Date</th>\n",
       "      <th>Reported_Date</th>\n",
       "      <th>City</th>\n",
       "      <th>New_Cases</th>\n",
       "      <th>mavg_7day_new_cases</th>\n",
       "      <th>new_cases_per_100K</th>\n",
       "      <th>mavg_7day_per_100k_new_cases</th>\n",
       "      <th>daily_temp</th>\n",
       "      <th>daily_humidity</th>\n",
       "      <th>mavg_7_temp</th>\n",
       "      <th>mavg_7_humidity</th>\n",
       "      <th>mavg_15_temp</th>\n",
       "      <th>mavg_15_humidity</th>\n",
       "    </tr>\n",
       "  </thead>\n",
       "  <tbody>\n",
       "    <tr>\n",
       "      <th>443</th>\n",
       "      <td>2021-05-30</td>\n",
       "      <td>2020-02-29</td>\n",
       "      <td>Sao Paulo</td>\n",
       "      <td>0</td>\n",
       "      <td>0.20</td>\n",
       "      <td>0.00</td>\n",
       "      <td>0.0</td>\n",
       "      <td>20.47</td>\n",
       "      <td>85.96</td>\n",
       "      <td>20.224286</td>\n",
       "      <td>83.507143</td>\n",
       "      <td>22.213333</td>\n",
       "      <td>80.343333</td>\n",
       "    </tr>\n",
       "    <tr>\n",
       "      <th>444</th>\n",
       "      <td>2021-05-30</td>\n",
       "      <td>2020-03-01</td>\n",
       "      <td>Sao Paulo</td>\n",
       "      <td>0</td>\n",
       "      <td>0.17</td>\n",
       "      <td>0.00</td>\n",
       "      <td>0.0</td>\n",
       "      <td>19.50</td>\n",
       "      <td>85.50</td>\n",
       "      <td>20.374286</td>\n",
       "      <td>83.578571</td>\n",
       "      <td>22.159333</td>\n",
       "      <td>80.812667</td>\n",
       "    </tr>\n",
       "    <tr>\n",
       "      <th>445</th>\n",
       "      <td>2021-05-30</td>\n",
       "      <td>2020-03-02</td>\n",
       "      <td>Sao Paulo</td>\n",
       "      <td>0</td>\n",
       "      <td>0.14</td>\n",
       "      <td>0.00</td>\n",
       "      <td>0.0</td>\n",
       "      <td>19.61</td>\n",
       "      <td>85.81</td>\n",
       "      <td>20.490000</td>\n",
       "      <td>84.471429</td>\n",
       "      <td>21.902000</td>\n",
       "      <td>81.646000</td>\n",
       "    </tr>\n",
       "    <tr>\n",
       "      <th>446</th>\n",
       "      <td>2021-05-30</td>\n",
       "      <td>2020-03-03</td>\n",
       "      <td>Sao Paulo</td>\n",
       "      <td>0</td>\n",
       "      <td>0.14</td>\n",
       "      <td>0.00</td>\n",
       "      <td>0.0</td>\n",
       "      <td>19.17</td>\n",
       "      <td>85.53</td>\n",
       "      <td>20.321429</td>\n",
       "      <td>85.334286</td>\n",
       "      <td>21.606667</td>\n",
       "      <td>82.187333</td>\n",
       "    </tr>\n",
       "    <tr>\n",
       "      <th>447</th>\n",
       "      <td>2021-05-30</td>\n",
       "      <td>2020-03-04</td>\n",
       "      <td>Sao Paulo</td>\n",
       "      <td>1</td>\n",
       "      <td>0.29</td>\n",
       "      <td>0.01</td>\n",
       "      <td>0.0</td>\n",
       "      <td>19.61</td>\n",
       "      <td>79.08</td>\n",
       "      <td>19.787143</td>\n",
       "      <td>85.832857</td>\n",
       "      <td>21.242000</td>\n",
       "      <td>82.764000</td>\n",
       "    </tr>\n",
       "  </tbody>\n",
       "</table>\n",
       "</div>"
      ],
      "text/plain": [
       "    Extract_Date Reported_Date       City  New_Cases  mavg_7day_new_cases  \\\n",
       "443   2021-05-30    2020-02-29  Sao Paulo          0                 0.20   \n",
       "444   2021-05-30    2020-03-01  Sao Paulo          0                 0.17   \n",
       "445   2021-05-30    2020-03-02  Sao Paulo          0                 0.14   \n",
       "446   2021-05-30    2020-03-03  Sao Paulo          0                 0.14   \n",
       "447   2021-05-30    2020-03-04  Sao Paulo          1                 0.29   \n",
       "\n",
       "     new_cases_per_100K  mavg_7day_per_100k_new_cases  daily_temp  \\\n",
       "443                0.00                           0.0       20.47   \n",
       "444                0.00                           0.0       19.50   \n",
       "445                0.00                           0.0       19.61   \n",
       "446                0.00                           0.0       19.17   \n",
       "447                0.01                           0.0       19.61   \n",
       "\n",
       "     daily_humidity  mavg_7_temp  mavg_7_humidity  mavg_15_temp  \\\n",
       "443           85.96    20.224286        83.507143     22.213333   \n",
       "444           85.50    20.374286        83.578571     22.159333   \n",
       "445           85.81    20.490000        84.471429     21.902000   \n",
       "446           85.53    20.321429        85.334286     21.606667   \n",
       "447           79.08    19.787143        85.832857     21.242000   \n",
       "\n",
       "     mavg_15_humidity  \n",
       "443         80.343333  \n",
       "444         80.812667  \n",
       "445         81.646000  \n",
       "446         82.187333  \n",
       "447         82.764000  "
      ]
     },
     "execution_count": 11,
     "metadata": {},
     "output_type": "execute_result"
    }
   ],
   "source": [
    "#extract only SP data\n",
    "SP_Combined_df = Combined_df.loc[Combined_df['City']=='Sao Paulo']\n",
    "print (SP_Combined_df.shape)\n",
    "SP_Combined_df.head()"
   ]
  },
  {
   "cell_type": "markdown",
   "metadata": {},
   "source": [
    "## Linear Regression Analysis-Both Cities"
   ]
  },
  {
   "cell_type": "code",
   "execution_count": 12,
   "metadata": {},
   "outputs": [
    {
     "name": "stdout",
     "output_type": "stream",
     "text": [
      "(886, 16)\n"
     ]
    },
    {
     "data": {
      "text/html": [
       "<div>\n",
       "<style scoped>\n",
       "    .dataframe tbody tr th:only-of-type {\n",
       "        vertical-align: middle;\n",
       "    }\n",
       "\n",
       "    .dataframe tbody tr th {\n",
       "        vertical-align: top;\n",
       "    }\n",
       "\n",
       "    .dataframe thead th {\n",
       "        text-align: right;\n",
       "    }\n",
       "</style>\n",
       "<table border=\"1\" class=\"dataframe\">\n",
       "  <thead>\n",
       "    <tr style=\"text-align: right;\">\n",
       "      <th></th>\n",
       "      <th>Extract_Date</th>\n",
       "      <th>Reported_Date</th>\n",
       "      <th>City</th>\n",
       "      <th>is_newyork</th>\n",
       "      <th>Population</th>\n",
       "      <th>Data_Source</th>\n",
       "      <th>New_Cases</th>\n",
       "      <th>mavg_7day_new_cases</th>\n",
       "      <th>new_cases_per_100K</th>\n",
       "      <th>mavg_7day_per_100k_new_cases</th>\n",
       "      <th>daily_temp</th>\n",
       "      <th>daily_humidity</th>\n",
       "      <th>mavg_7_temp</th>\n",
       "      <th>mavg_7_humidity</th>\n",
       "      <th>mavg_15_temp</th>\n",
       "      <th>mavg_15_humidity</th>\n",
       "    </tr>\n",
       "  </thead>\n",
       "  <tbody>\n",
       "    <tr>\n",
       "      <th>0</th>\n",
       "      <td>2021-05-30</td>\n",
       "      <td>2020-02-29</td>\n",
       "      <td>New York</td>\n",
       "      <td>1</td>\n",
       "      <td>18804000</td>\n",
       "      <td>https://github.com/nychealth/coronavirus-data/...</td>\n",
       "      <td>1</td>\n",
       "      <td>0.0</td>\n",
       "      <td>0.01</td>\n",
       "      <td>0.01</td>\n",
       "      <td>0.40</td>\n",
       "      <td>44.08</td>\n",
       "      <td>5.702857</td>\n",
       "      <td>58.961429</td>\n",
       "      <td>3.500000</td>\n",
       "      <td>56.268000</td>\n",
       "    </tr>\n",
       "    <tr>\n",
       "      <th>1</th>\n",
       "      <td>2021-05-30</td>\n",
       "      <td>2020-03-01</td>\n",
       "      <td>New York</td>\n",
       "      <td>1</td>\n",
       "      <td>18804000</td>\n",
       "      <td>https://github.com/nychealth/coronavirus-data/...</td>\n",
       "      <td>0</td>\n",
       "      <td>0.0</td>\n",
       "      <td>0.00</td>\n",
       "      <td>0.00</td>\n",
       "      <td>-0.10</td>\n",
       "      <td>45.71</td>\n",
       "      <td>5.394286</td>\n",
       "      <td>59.610000</td>\n",
       "      <td>3.432000</td>\n",
       "      <td>55.587333</td>\n",
       "    </tr>\n",
       "    <tr>\n",
       "      <th>2</th>\n",
       "      <td>2021-05-30</td>\n",
       "      <td>2020-03-02</td>\n",
       "      <td>New York</td>\n",
       "      <td>1</td>\n",
       "      <td>18804000</td>\n",
       "      <td>https://github.com/nychealth/coronavirus-data/...</td>\n",
       "      <td>0</td>\n",
       "      <td>0.0</td>\n",
       "      <td>0.00</td>\n",
       "      <td>0.00</td>\n",
       "      <td>6.61</td>\n",
       "      <td>52.25</td>\n",
       "      <td>4.487143</td>\n",
       "      <td>61.085714</td>\n",
       "      <td>3.816000</td>\n",
       "      <td>55.348667</td>\n",
       "    </tr>\n",
       "    <tr>\n",
       "      <th>3</th>\n",
       "      <td>2021-05-30</td>\n",
       "      <td>2020-03-03</td>\n",
       "      <td>New York</td>\n",
       "      <td>1</td>\n",
       "      <td>18804000</td>\n",
       "      <td>https://github.com/nychealth/coronavirus-data/...</td>\n",
       "      <td>1</td>\n",
       "      <td>0.0</td>\n",
       "      <td>0.01</td>\n",
       "      <td>0.00</td>\n",
       "      <td>11.27</td>\n",
       "      <td>70.72</td>\n",
       "      <td>4.317143</td>\n",
       "      <td>61.561429</td>\n",
       "      <td>4.190667</td>\n",
       "      <td>54.404000</td>\n",
       "    </tr>\n",
       "    <tr>\n",
       "      <th>4</th>\n",
       "      <td>2021-05-30</td>\n",
       "      <td>2020-03-04</td>\n",
       "      <td>New York</td>\n",
       "      <td>1</td>\n",
       "      <td>18804000</td>\n",
       "      <td>https://github.com/nychealth/coronavirus-data/...</td>\n",
       "      <td>5</td>\n",
       "      <td>0.0</td>\n",
       "      <td>0.03</td>\n",
       "      <td>0.01</td>\n",
       "      <td>10.21</td>\n",
       "      <td>58.76</td>\n",
       "      <td>4.688571</td>\n",
       "      <td>60.670000</td>\n",
       "      <td>4.576667</td>\n",
       "      <td>55.585333</td>\n",
       "    </tr>\n",
       "  </tbody>\n",
       "</table>\n",
       "</div>"
      ],
      "text/plain": [
       "  Extract_Date Reported_Date      City  is_newyork  Population  \\\n",
       "0   2021-05-30    2020-02-29  New York           1    18804000   \n",
       "1   2021-05-30    2020-03-01  New York           1    18804000   \n",
       "2   2021-05-30    2020-03-02  New York           1    18804000   \n",
       "3   2021-05-30    2020-03-03  New York           1    18804000   \n",
       "4   2021-05-30    2020-03-04  New York           1    18804000   \n",
       "\n",
       "                                         Data_Source  New_Cases  \\\n",
       "0  https://github.com/nychealth/coronavirus-data/...          1   \n",
       "1  https://github.com/nychealth/coronavirus-data/...          0   \n",
       "2  https://github.com/nychealth/coronavirus-data/...          0   \n",
       "3  https://github.com/nychealth/coronavirus-data/...          1   \n",
       "4  https://github.com/nychealth/coronavirus-data/...          5   \n",
       "\n",
       "   mavg_7day_new_cases  new_cases_per_100K  mavg_7day_per_100k_new_cases  \\\n",
       "0                  0.0                0.01                          0.01   \n",
       "1                  0.0                0.00                          0.00   \n",
       "2                  0.0                0.00                          0.00   \n",
       "3                  0.0                0.01                          0.00   \n",
       "4                  0.0                0.03                          0.01   \n",
       "\n",
       "   daily_temp  daily_humidity  mavg_7_temp  mavg_7_humidity  mavg_15_temp  \\\n",
       "0        0.40           44.08     5.702857        58.961429      3.500000   \n",
       "1       -0.10           45.71     5.394286        59.610000      3.432000   \n",
       "2        6.61           52.25     4.487143        61.085714      3.816000   \n",
       "3       11.27           70.72     4.317143        61.561429      4.190667   \n",
       "4       10.21           58.76     4.688571        60.670000      4.576667   \n",
       "\n",
       "   mavg_15_humidity  \n",
       "0         56.268000  \n",
       "1         55.587333  \n",
       "2         55.348667  \n",
       "3         54.404000  \n",
       "4         55.585333  "
      ]
     },
     "execution_count": 12,
     "metadata": {},
     "output_type": "execute_result"
    }
   ],
   "source": [
    "print(Combined_df_all.shape)\n",
    "Combined_df_all.head()\n"
   ]
  },
  {
   "cell_type": "code",
   "execution_count": 13,
   "metadata": {},
   "outputs": [
    {
     "data": {
      "text/html": [
       "<div>\n",
       "<style scoped>\n",
       "    .dataframe tbody tr th:only-of-type {\n",
       "        vertical-align: middle;\n",
       "    }\n",
       "\n",
       "    .dataframe tbody tr th {\n",
       "        vertical-align: top;\n",
       "    }\n",
       "\n",
       "    .dataframe thead th {\n",
       "        text-align: right;\n",
       "    }\n",
       "</style>\n",
       "<table border=\"1\" class=\"dataframe\">\n",
       "  <thead>\n",
       "    <tr style=\"text-align: right;\">\n",
       "      <th></th>\n",
       "      <th>Extract_Date</th>\n",
       "      <th>is_newyork</th>\n",
       "      <th>New_Cases</th>\n",
       "      <th>mavg_7day_new_cases</th>\n",
       "      <th>new_cases_per_100K</th>\n",
       "      <th>mavg_7day_per_100k_new_cases</th>\n",
       "      <th>daily_temp</th>\n",
       "      <th>daily_humidity</th>\n",
       "      <th>mavg_7_temp</th>\n",
       "      <th>mavg_7_humidity</th>\n",
       "      <th>mavg_15_temp</th>\n",
       "      <th>mavg_15_humidity</th>\n",
       "    </tr>\n",
       "  </thead>\n",
       "  <tbody>\n",
       "    <tr>\n",
       "      <th>0</th>\n",
       "      <td>2021-05-30</td>\n",
       "      <td>1</td>\n",
       "      <td>1</td>\n",
       "      <td>0.0</td>\n",
       "      <td>0.01</td>\n",
       "      <td>0.01</td>\n",
       "      <td>0.40</td>\n",
       "      <td>44.08</td>\n",
       "      <td>5.702857</td>\n",
       "      <td>58.961429</td>\n",
       "      <td>3.500000</td>\n",
       "      <td>56.268000</td>\n",
       "    </tr>\n",
       "    <tr>\n",
       "      <th>1</th>\n",
       "      <td>2021-05-30</td>\n",
       "      <td>1</td>\n",
       "      <td>0</td>\n",
       "      <td>0.0</td>\n",
       "      <td>0.00</td>\n",
       "      <td>0.00</td>\n",
       "      <td>-0.10</td>\n",
       "      <td>45.71</td>\n",
       "      <td>5.394286</td>\n",
       "      <td>59.610000</td>\n",
       "      <td>3.432000</td>\n",
       "      <td>55.587333</td>\n",
       "    </tr>\n",
       "    <tr>\n",
       "      <th>2</th>\n",
       "      <td>2021-05-30</td>\n",
       "      <td>1</td>\n",
       "      <td>0</td>\n",
       "      <td>0.0</td>\n",
       "      <td>0.00</td>\n",
       "      <td>0.00</td>\n",
       "      <td>6.61</td>\n",
       "      <td>52.25</td>\n",
       "      <td>4.487143</td>\n",
       "      <td>61.085714</td>\n",
       "      <td>3.816000</td>\n",
       "      <td>55.348667</td>\n",
       "    </tr>\n",
       "    <tr>\n",
       "      <th>3</th>\n",
       "      <td>2021-05-30</td>\n",
       "      <td>1</td>\n",
       "      <td>1</td>\n",
       "      <td>0.0</td>\n",
       "      <td>0.01</td>\n",
       "      <td>0.00</td>\n",
       "      <td>11.27</td>\n",
       "      <td>70.72</td>\n",
       "      <td>4.317143</td>\n",
       "      <td>61.561429</td>\n",
       "      <td>4.190667</td>\n",
       "      <td>54.404000</td>\n",
       "    </tr>\n",
       "    <tr>\n",
       "      <th>4</th>\n",
       "      <td>2021-05-30</td>\n",
       "      <td>1</td>\n",
       "      <td>5</td>\n",
       "      <td>0.0</td>\n",
       "      <td>0.03</td>\n",
       "      <td>0.01</td>\n",
       "      <td>10.21</td>\n",
       "      <td>58.76</td>\n",
       "      <td>4.688571</td>\n",
       "      <td>60.670000</td>\n",
       "      <td>4.576667</td>\n",
       "      <td>55.585333</td>\n",
       "    </tr>\n",
       "  </tbody>\n",
       "</table>\n",
       "</div>"
      ],
      "text/plain": [
       "  Extract_Date  is_newyork  New_Cases  mavg_7day_new_cases  \\\n",
       "0   2021-05-30           1          1                  0.0   \n",
       "1   2021-05-30           1          0                  0.0   \n",
       "2   2021-05-30           1          0                  0.0   \n",
       "3   2021-05-30           1          1                  0.0   \n",
       "4   2021-05-30           1          5                  0.0   \n",
       "\n",
       "   new_cases_per_100K  mavg_7day_per_100k_new_cases  daily_temp  \\\n",
       "0                0.01                          0.01        0.40   \n",
       "1                0.00                          0.00       -0.10   \n",
       "2                0.00                          0.00        6.61   \n",
       "3                0.01                          0.00       11.27   \n",
       "4                0.03                          0.01       10.21   \n",
       "\n",
       "   daily_humidity  mavg_7_temp  mavg_7_humidity  mavg_15_temp  \\\n",
       "0           44.08     5.702857        58.961429      3.500000   \n",
       "1           45.71     5.394286        59.610000      3.432000   \n",
       "2           52.25     4.487143        61.085714      3.816000   \n",
       "3           70.72     4.317143        61.561429      4.190667   \n",
       "4           58.76     4.688571        60.670000      4.576667   \n",
       "\n",
       "   mavg_15_humidity  \n",
       "0         56.268000  \n",
       "1         55.587333  \n",
       "2         55.348667  \n",
       "3         54.404000  \n",
       "4         55.585333  "
      ]
     },
     "execution_count": 13,
     "metadata": {},
     "output_type": "execute_result"
    }
   ],
   "source": [
    "Combined_df_all_Reg= Combined_df_all.drop([\"Reported_Date\",\"City\",\"Population\",\"Data_Source\"], axis=1)\n",
    "Combined_df_all_Reg.head()"
   ]
  },
  {
   "cell_type": "markdown",
   "metadata": {},
   "source": [
    "### Regression Visual- 15 Day Avg Temp' and '15 Day Avg Humidity' against 'mavg_7day_per_100k_new_cases'"
   ]
  },
  {
   "cell_type": "code",
   "execution_count": 14,
   "metadata": {},
   "outputs": [
    {
     "data": {
      "text/plain": [
       "<AxesSubplot:xlabel='mavg_15_humidity', ylabel='mavg_7day_per_100k_new_cases'>"
      ]
     },
     "execution_count": 14,
     "metadata": {},
     "output_type": "execute_result"
    },
    {
     "data": {
      "image/png": "[encoded data removed]",
      "text/plain": [
       "<Figure size 432x288 with 1 Axes>"
      ]
     },
     "metadata": {
      "needs_background": "light"
     },
     "output_type": "display_data"
    },
    {
     "data": {
      "image/png": "[encoded data removed]",
      "text/plain": [
       "<Figure size 432x288 with 1 Axes>"
      ]
     },
     "metadata": {
      "needs_background": "light"
     },
     "output_type": "display_data"
    }
   ],
   "source": [
    "# Plot a scatter plot of '15 Day Avg Temp' and '15 Day Avg Humidity' against 'mavg_7day_per_100k_new_cases'\n",
    "Combined_df_all_Reg.plot(kind='scatter', x='mavg_15_temp', y='mavg_7day_per_100k_new_cases')\n",
    "Combined_df_all_Reg.plot(kind='scatter', x='mavg_15_humidity', y='mavg_7day_per_100k_new_cases')"
   ]
  },
  {
   "cell_type": "markdown",
   "metadata": {},
   "source": [
    "### Simple Linear Regression Model- TEMPRETURE, HUMIDITY, CITY CODE with MAVG_7day_per_100k_new_cases\n"
   ]
  },
  {
   "cell_type": "code",
   "execution_count": 15,
   "metadata": {},
   "outputs": [],
   "source": [
    "from sklearn import linear_model\n",
    "from sklearn.metrics import mean_squared_error, r2_score\n",
    "from sklearn.model_selection import train_test_split # Use the Sklearn `train_test_split()` function to split the data into training"
   ]
  },
  {
   "cell_type": "code",
   "execution_count": 16,
   "metadata": {},
   "outputs": [
    {
     "name": "stdout",
     "output_type": "stream",
     "text": [
      "Shape:  (886, 3) (886, 1)\n"
     ]
    }
   ],
   "source": [
    "# Assign the data to X and y\n",
    "# Note: Sklearn requires a two-dimensional array of values\n",
    "# so we use reshape() to create this\n",
    "\n",
    "X_all = Combined_df_all_Reg[[\"mavg_15_temp\",\"mavg_15_humidity\",\"is_newyork\"]]\n",
    "y_all = Combined_df_all_Reg[\"mavg_7day_per_100k_new_cases\"].values.reshape(-1, 1)\n",
    "\n",
    "print(\"Shape: \", X_all.shape, y_all.shape)\n",
    "#print(X_all)\n",
    "#print(y_all)"
   ]
  },
  {
   "cell_type": "code",
   "execution_count": 17,
   "metadata": {},
   "outputs": [],
   "source": [
    "#WE are not splitting the data as we want to use all data into the train  \n",
    "#X_all_train, X_all_test, y_all_train, y_all_test = train_test_split(X_all, y_all, random_state=42,stratify = True)\n",
    "#X_all_train, X_all_test, y_all_train, y_all_test = train_test_split(X_all, y_all, train_size=1.0,test_size=0.0, random_state=42)"
   ]
  },
  {
   "cell_type": "code",
   "execution_count": 18,
   "metadata": {},
   "outputs": [
    {
     "data": {
      "text/plain": [
       "LinearRegression()"
      ]
     },
     "execution_count": 18,
     "metadata": {},
     "output_type": "execute_result"
    }
   ],
   "source": [
    "# Create the model\n",
    "model_all = linear_model.LinearRegression()\n",
    "# Fit the model to the training data. \n",
    "model_all.fit(X_all, y_all)"
   ]
  },
  {
   "cell_type": "code",
   "execution_count": 23,
   "metadata": {},
   "outputs": [
    {
     "name": "stdout",
     "output_type": "stream",
     "text": [
      "Regression Report using All 14.5 months data ,temperature and humidity for both NYC and SPC\n",
      "mean squared error (MSE): 48.810605381818455\n",
      "R-squared (R2): 0.31776051480478473\n",
      "Coefficients: \n",
      " [[ -0.67300796  -0.02490274 -10.390247  ]]\n",
      "intercept: [29.8543551]\n"
     ]
    }
   ],
   "source": [
    "# Use our model to make predictions\n",
    "predicted= model_all.predict(X_all)\n",
    "\n",
    "# Score the predictions with mse and r2\n",
    "# Calculate the mean_squared_error and the r-squared value for the testing data\n",
    "mse = mean_squared_error(y_all, predicted) #There is no correct value for MSE. Simply put, the lower the value the better and 0 means the model is perfect. Since there is no correct answer, the MSE’s basic value is in selecting one prediction model over another.\n",
    "r2 = r2_score(y_all, predicted) #there is also no correct answer as to what R2 should be. 100% means perfect correlation. Yet, there are models with a low R2 that are still good models.\n",
    "\n",
    "print(f\"Regression Report using All 14.5 months data ,temperature and humidity for both NYC and SPC\")\n",
    "print(f\"mean squared error (MSE): {mse}\")\n",
    "print(f\"R-squared (R2): {r2}\")\n",
    "print('Coefficients: \\n', model_all.coef_)\n",
    "print('intercept:', model_all.intercept_)"
   ]
  },
  {
   "cell_type": "code",
   "execution_count": 24,
   "metadata": {},
   "outputs": [
    {
     "name": "stdout",
     "output_type": "stream",
     "text": [
      "Regression accuracy score using All 14.5 months data ,temperature and humidity for both NYC and SPC\n"
     ]
    },
    {
     "data": {
      "text/plain": [
       "0.31776051480478473"
      ]
     },
     "execution_count": 24,
     "metadata": {},
     "output_type": "execute_result"
    }
   ],
   "source": [
    "# Call the `score()` method on the model to show the R2 score\n",
    "print(f\"Regression accuracy score using All 14.5 months data ,temperature and humidity for both NYC and SPC\")\n",
    "model_all.score(X_all, y_all)"
   ]
  },
  {
   "cell_type": "markdown",
   "metadata": {},
   "source": [
    "## Linear Regression- New York alone"
   ]
  },
  {
   "cell_type": "code",
   "execution_count": 25,
   "metadata": {},
   "outputs": [
    {
     "name": "stdout",
     "output_type": "stream",
     "text": [
      "(443, 13)\n"
     ]
    },
    {
     "data": {
      "text/html": [
       "<div>\n",
       "<style scoped>\n",
       "    .dataframe tbody tr th:only-of-type {\n",
       "        vertical-align: middle;\n",
       "    }\n",
       "\n",
       "    .dataframe tbody tr th {\n",
       "        vertical-align: top;\n",
       "    }\n",
       "\n",
       "    .dataframe thead th {\n",
       "        text-align: right;\n",
       "    }\n",
       "</style>\n",
       "<table border=\"1\" class=\"dataframe\">\n",
       "  <thead>\n",
       "    <tr style=\"text-align: right;\">\n",
       "      <th></th>\n",
       "      <th>Extract_Date</th>\n",
       "      <th>Reported_Date</th>\n",
       "      <th>City</th>\n",
       "      <th>New_Cases</th>\n",
       "      <th>mavg_7day_new_cases</th>\n",
       "      <th>new_cases_per_100K</th>\n",
       "      <th>mavg_7day_per_100k_new_cases</th>\n",
       "      <th>daily_temp</th>\n",
       "      <th>daily_humidity</th>\n",
       "      <th>mavg_7_temp</th>\n",
       "      <th>mavg_7_humidity</th>\n",
       "      <th>mavg_15_temp</th>\n",
       "      <th>mavg_15_humidity</th>\n",
       "    </tr>\n",
       "  </thead>\n",
       "  <tbody>\n",
       "    <tr>\n",
       "      <th>0</th>\n",
       "      <td>2021-05-30</td>\n",
       "      <td>2020-02-29</td>\n",
       "      <td>New York</td>\n",
       "      <td>1</td>\n",
       "      <td>0.0</td>\n",
       "      <td>0.01</td>\n",
       "      <td>0.01</td>\n",
       "      <td>0.40</td>\n",
       "      <td>44.08</td>\n",
       "      <td>5.702857</td>\n",
       "      <td>58.961429</td>\n",
       "      <td>3.500000</td>\n",
       "      <td>56.268000</td>\n",
       "    </tr>\n",
       "    <tr>\n",
       "      <th>1</th>\n",
       "      <td>2021-05-30</td>\n",
       "      <td>2020-03-01</td>\n",
       "      <td>New York</td>\n",
       "      <td>0</td>\n",
       "      <td>0.0</td>\n",
       "      <td>0.00</td>\n",
       "      <td>0.00</td>\n",
       "      <td>-0.10</td>\n",
       "      <td>45.71</td>\n",
       "      <td>5.394286</td>\n",
       "      <td>59.610000</td>\n",
       "      <td>3.432000</td>\n",
       "      <td>55.587333</td>\n",
       "    </tr>\n",
       "    <tr>\n",
       "      <th>2</th>\n",
       "      <td>2021-05-30</td>\n",
       "      <td>2020-03-02</td>\n",
       "      <td>New York</td>\n",
       "      <td>0</td>\n",
       "      <td>0.0</td>\n",
       "      <td>0.00</td>\n",
       "      <td>0.00</td>\n",
       "      <td>6.61</td>\n",
       "      <td>52.25</td>\n",
       "      <td>4.487143</td>\n",
       "      <td>61.085714</td>\n",
       "      <td>3.816000</td>\n",
       "      <td>55.348667</td>\n",
       "    </tr>\n",
       "    <tr>\n",
       "      <th>3</th>\n",
       "      <td>2021-05-30</td>\n",
       "      <td>2020-03-03</td>\n",
       "      <td>New York</td>\n",
       "      <td>1</td>\n",
       "      <td>0.0</td>\n",
       "      <td>0.01</td>\n",
       "      <td>0.00</td>\n",
       "      <td>11.27</td>\n",
       "      <td>70.72</td>\n",
       "      <td>4.317143</td>\n",
       "      <td>61.561429</td>\n",
       "      <td>4.190667</td>\n",
       "      <td>54.404000</td>\n",
       "    </tr>\n",
       "    <tr>\n",
       "      <th>4</th>\n",
       "      <td>2021-05-30</td>\n",
       "      <td>2020-03-04</td>\n",
       "      <td>New York</td>\n",
       "      <td>5</td>\n",
       "      <td>0.0</td>\n",
       "      <td>0.03</td>\n",
       "      <td>0.01</td>\n",
       "      <td>10.21</td>\n",
       "      <td>58.76</td>\n",
       "      <td>4.688571</td>\n",
       "      <td>60.670000</td>\n",
       "      <td>4.576667</td>\n",
       "      <td>55.585333</td>\n",
       "    </tr>\n",
       "  </tbody>\n",
       "</table>\n",
       "</div>"
      ],
      "text/plain": [
       "  Extract_Date Reported_Date      City  New_Cases  mavg_7day_new_cases  \\\n",
       "0   2021-05-30    2020-02-29  New York          1                  0.0   \n",
       "1   2021-05-30    2020-03-01  New York          0                  0.0   \n",
       "2   2021-05-30    2020-03-02  New York          0                  0.0   \n",
       "3   2021-05-30    2020-03-03  New York          1                  0.0   \n",
       "4   2021-05-30    2020-03-04  New York          5                  0.0   \n",
       "\n",
       "   new_cases_per_100K  mavg_7day_per_100k_new_cases  daily_temp  \\\n",
       "0                0.01                          0.01        0.40   \n",
       "1                0.00                          0.00       -0.10   \n",
       "2                0.00                          0.00        6.61   \n",
       "3                0.01                          0.00       11.27   \n",
       "4                0.03                          0.01       10.21   \n",
       "\n",
       "   daily_humidity  mavg_7_temp  mavg_7_humidity  mavg_15_temp  \\\n",
       "0           44.08     5.702857        58.961429      3.500000   \n",
       "1           45.71     5.394286        59.610000      3.432000   \n",
       "2           52.25     4.487143        61.085714      3.816000   \n",
       "3           70.72     4.317143        61.561429      4.190667   \n",
       "4           58.76     4.688571        60.670000      4.576667   \n",
       "\n",
       "   mavg_15_humidity  \n",
       "0         56.268000  \n",
       "1         55.587333  \n",
       "2         55.348667  \n",
       "3         54.404000  \n",
       "4         55.585333  "
      ]
     },
     "execution_count": 25,
     "metadata": {},
     "output_type": "execute_result"
    }
   ],
   "source": [
    "print(NY_Combined_df.shape)\n",
    "NY_Combined_df.head()\n"
   ]
  },
  {
   "cell_type": "code",
   "execution_count": 26,
   "metadata": {},
   "outputs": [
    {
     "data": {
      "text/html": [
       "<div>\n",
       "<style scoped>\n",
       "    .dataframe tbody tr th:only-of-type {\n",
       "        vertical-align: middle;\n",
       "    }\n",
       "\n",
       "    .dataframe tbody tr th {\n",
       "        vertical-align: top;\n",
       "    }\n",
       "\n",
       "    .dataframe thead th {\n",
       "        text-align: right;\n",
       "    }\n",
       "</style>\n",
       "<table border=\"1\" class=\"dataframe\">\n",
       "  <thead>\n",
       "    <tr style=\"text-align: right;\">\n",
       "      <th></th>\n",
       "      <th>Extract_Date</th>\n",
       "      <th>New_Cases</th>\n",
       "      <th>mavg_7day_new_cases</th>\n",
       "      <th>new_cases_per_100K</th>\n",
       "      <th>mavg_7day_per_100k_new_cases</th>\n",
       "      <th>daily_temp</th>\n",
       "      <th>daily_humidity</th>\n",
       "      <th>mavg_7_temp</th>\n",
       "      <th>mavg_7_humidity</th>\n",
       "      <th>mavg_15_temp</th>\n",
       "      <th>mavg_15_humidity</th>\n",
       "    </tr>\n",
       "  </thead>\n",
       "  <tbody>\n",
       "    <tr>\n",
       "      <th>0</th>\n",
       "      <td>2021-05-30</td>\n",
       "      <td>1</td>\n",
       "      <td>0.0</td>\n",
       "      <td>0.01</td>\n",
       "      <td>0.01</td>\n",
       "      <td>0.40</td>\n",
       "      <td>44.08</td>\n",
       "      <td>5.702857</td>\n",
       "      <td>58.961429</td>\n",
       "      <td>3.500000</td>\n",
       "      <td>56.268000</td>\n",
       "    </tr>\n",
       "    <tr>\n",
       "      <th>1</th>\n",
       "      <td>2021-05-30</td>\n",
       "      <td>0</td>\n",
       "      <td>0.0</td>\n",
       "      <td>0.00</td>\n",
       "      <td>0.00</td>\n",
       "      <td>-0.10</td>\n",
       "      <td>45.71</td>\n",
       "      <td>5.394286</td>\n",
       "      <td>59.610000</td>\n",
       "      <td>3.432000</td>\n",
       "      <td>55.587333</td>\n",
       "    </tr>\n",
       "    <tr>\n",
       "      <th>2</th>\n",
       "      <td>2021-05-30</td>\n",
       "      <td>0</td>\n",
       "      <td>0.0</td>\n",
       "      <td>0.00</td>\n",
       "      <td>0.00</td>\n",
       "      <td>6.61</td>\n",
       "      <td>52.25</td>\n",
       "      <td>4.487143</td>\n",
       "      <td>61.085714</td>\n",
       "      <td>3.816000</td>\n",
       "      <td>55.348667</td>\n",
       "    </tr>\n",
       "    <tr>\n",
       "      <th>3</th>\n",
       "      <td>2021-05-30</td>\n",
       "      <td>1</td>\n",
       "      <td>0.0</td>\n",
       "      <td>0.01</td>\n",
       "      <td>0.00</td>\n",
       "      <td>11.27</td>\n",
       "      <td>70.72</td>\n",
       "      <td>4.317143</td>\n",
       "      <td>61.561429</td>\n",
       "      <td>4.190667</td>\n",
       "      <td>54.404000</td>\n",
       "    </tr>\n",
       "    <tr>\n",
       "      <th>4</th>\n",
       "      <td>2021-05-30</td>\n",
       "      <td>5</td>\n",
       "      <td>0.0</td>\n",
       "      <td>0.03</td>\n",
       "      <td>0.01</td>\n",
       "      <td>10.21</td>\n",
       "      <td>58.76</td>\n",
       "      <td>4.688571</td>\n",
       "      <td>60.670000</td>\n",
       "      <td>4.576667</td>\n",
       "      <td>55.585333</td>\n",
       "    </tr>\n",
       "  </tbody>\n",
       "</table>\n",
       "</div>"
      ],
      "text/plain": [
       "  Extract_Date  New_Cases  mavg_7day_new_cases  new_cases_per_100K  \\\n",
       "0   2021-05-30          1                  0.0                0.01   \n",
       "1   2021-05-30          0                  0.0                0.00   \n",
       "2   2021-05-30          0                  0.0                0.00   \n",
       "3   2021-05-30          1                  0.0                0.01   \n",
       "4   2021-05-30          5                  0.0                0.03   \n",
       "\n",
       "   mavg_7day_per_100k_new_cases  daily_temp  daily_humidity  mavg_7_temp  \\\n",
       "0                          0.01        0.40           44.08     5.702857   \n",
       "1                          0.00       -0.10           45.71     5.394286   \n",
       "2                          0.00        6.61           52.25     4.487143   \n",
       "3                          0.00       11.27           70.72     4.317143   \n",
       "4                          0.01       10.21           58.76     4.688571   \n",
       "\n",
       "   mavg_7_humidity  mavg_15_temp  mavg_15_humidity  \n",
       "0        58.961429      3.500000         56.268000  \n",
       "1        59.610000      3.432000         55.587333  \n",
       "2        61.085714      3.816000         55.348667  \n",
       "3        61.561429      4.190667         54.404000  \n",
       "4        60.670000      4.576667         55.585333  "
      ]
     },
     "execution_count": 26,
     "metadata": {},
     "output_type": "execute_result"
    }
   ],
   "source": [
    "NY_Combined_Reg= NY_Combined_df.drop([\"Reported_Date\",\"City\"], axis=1)\n",
    "NY_Combined_Reg.head()"
   ]
  },
  {
   "cell_type": "markdown",
   "metadata": {},
   "source": [
    "### Regression- 15 Day Avg Temp' and '15 Day Avg Humidity' against 'mavg_7day_per_100k_new_cases'"
   ]
  },
  {
   "cell_type": "code",
   "execution_count": 27,
   "metadata": {},
   "outputs": [
    {
     "data": {
      "text/plain": [
       "<AxesSubplot:xlabel='mavg_15_humidity', ylabel='mavg_7day_per_100k_new_cases'>"
      ]
     },
     "execution_count": 27,
     "metadata": {},
     "output_type": "execute_result"
    },
    {
     "data": {
      "image/png": "[encoded data removed]",
      "text/plain": [
       "<Figure size 432x288 with 1 Axes>"
      ]
     },
     "metadata": {
      "needs_background": "light"
     },
     "output_type": "display_data"
    },
    {
     "data": {
      "image/png": "[encoded data removed]",
      "text/plain": [
       "<Figure size 432x288 with 1 Axes>"
      ]
     },
     "metadata": {
      "needs_background": "light"
     },
     "output_type": "display_data"
    }
   ],
   "source": [
    "# Plot a scatter plot of '15 Day Avg Temp' and '15 Day Avg Humidity' against 'mavg_7day_per_100k_new_cases'\n",
    "NY_Combined_Reg.plot(kind='scatter', x='mavg_15_temp', y='mavg_7day_per_100k_new_cases')\n",
    "NY_Combined_Reg.plot(kind='scatter', x='mavg_15_humidity', y='mavg_7day_per_100k_new_cases')"
   ]
  },
  {
   "cell_type": "markdown",
   "metadata": {},
   "source": [
    "### Simple Linear Regression Model- TEMPRETURE, HUMIDITY with MAVG_7day_per_100k_new_cases"
   ]
  },
  {
   "cell_type": "code",
   "execution_count": 28,
   "metadata": {},
   "outputs": [],
   "source": [
    "from sklearn import linear_model\n",
    "from sklearn.metrics import mean_squared_error, r2_score\n",
    "from sklearn.model_selection import train_test_split # Use the Sklearn `train_test_split()` function to split the data into training and testing data"
   ]
  },
  {
   "cell_type": "code",
   "execution_count": 29,
   "metadata": {},
   "outputs": [
    {
     "name": "stdout",
     "output_type": "stream",
     "text": [
      "Shape:  (443, 2) (443, 1)\n"
     ]
    }
   ],
   "source": [
    "# Assign the data to X and y\n",
    "# Note: Sklearn requires a two-dimensional array of values\n",
    "# so we use reshape() to create this\n",
    "\n",
    "X_NY_both = NY_Combined_Reg[[\"mavg_15_temp\",\"mavg_15_humidity\"]]\n",
    "y_NY_both = NY_Combined_Reg[\"mavg_7day_per_100k_new_cases\"].values.reshape(-1, 1)\n",
    "\n",
    "print(\"Shape: \", X_NY_both.shape, y_NY_both.shape)\n",
    "#print(X_NY_both)\n",
    "#print(y_NY_both)"
   ]
  },
  {
   "cell_type": "code",
   "execution_count": 30,
   "metadata": {},
   "outputs": [],
   "source": [
    "#WE are not splitting the data as we want to use all data into the train  \n"
   ]
  },
  {
   "cell_type": "code",
   "execution_count": 31,
   "metadata": {},
   "outputs": [],
   "source": [
    "# Create the model\n",
    "model_NY_both = linear_model.LinearRegression()"
   ]
  },
  {
   "cell_type": "code",
   "execution_count": 32,
   "metadata": {},
   "outputs": [
    {
     "data": {
      "text/plain": [
       "LinearRegression()"
      ]
     },
     "execution_count": 32,
     "metadata": {},
     "output_type": "execute_result"
    }
   ],
   "source": [
    "# Fit the model to the training data. \n",
    "#model.fit(X_train, y_train)\n",
    "model_NY_both.fit(X_NY_both, y_NY_both)"
   ]
  },
  {
   "cell_type": "code",
   "execution_count": 33,
   "metadata": {},
   "outputs": [
    {
     "name": "stdout",
     "output_type": "stream",
     "text": [
      "Regression Report using All 14.5 months data ,temperature and humidity for NYC ONLY\n",
      "mean squared error (MSE): 26.14873887863949\n",
      "R-squared (R2): 0.5994502644121156\n",
      "Coefficients: \n",
      " [[-0.79145292  0.14536244]]\n",
      "intercept: [10.09588598]\n"
     ]
    }
   ],
   "source": [
    "# Use our model to make predictions\n",
    "predicted = model_NY_both.predict(X_NY_both)\n",
    "\n",
    "# Score the predictions with mse and r2\n",
    "# Calculate the mean_squared_error and the r-squared value for the testing data\n",
    "mse = mean_squared_error(y_NY_both, predicted) #There is no correct value for MSE. Simply put, the lower the value the better and 0 means the model is perfect. Since there is no correct answer, the MSE’s basic value is in selecting one prediction model over another.\n",
    "r2 = r2_score(y_NY_both, predicted) #there is also no correct answer as to what R2 should be. 100% means perfect correlation. Yet, there are models with a low R2 that are still good models.\n",
    "\n",
    "print(f\"Regression Report using All 14.5 months data ,temperature and humidity for NYC ONLY\")\n",
    "print(f\"mean squared error (MSE): {mse}\")\n",
    "print(f\"R-squared (R2): {r2}\")\n",
    "print('Coefficients: \\n', model_NY_both.coef_)\n",
    "print('intercept:', model_NY_both.intercept_)\n"
   ]
  },
  {
   "cell_type": "code",
   "execution_count": 34,
   "metadata": {},
   "outputs": [
    {
     "name": "stdout",
     "output_type": "stream",
     "text": [
      "Regression accuracy score using All 14.5 months data ,temperature and humidity for NYC ONLY\n"
     ]
    },
    {
     "data": {
      "text/plain": [
       "0.5994502644121156"
      ]
     },
     "execution_count": 34,
     "metadata": {},
     "output_type": "execute_result"
    }
   ],
   "source": [
    "# Call the `score()` method on the model to show the R2 score\n",
    "print(f\"Regression accuracy score using All 14.5 months data ,temperature and humidity for NYC ONLY\")\n",
    "model_NY_both.score(X_NY_both, y_NY_both)"
   ]
  },
  {
   "cell_type": "markdown",
   "metadata": {},
   "source": [
    "## Linear Regression- Sao Paulo alone"
   ]
  },
  {
   "cell_type": "code",
   "execution_count": 36,
   "metadata": {},
   "outputs": [
    {
     "name": "stdout",
     "output_type": "stream",
     "text": [
      "(443, 13)\n"
     ]
    },
    {
     "data": {
      "text/html": [
       "<div>\n",
       "<style scoped>\n",
       "    .dataframe tbody tr th:only-of-type {\n",
       "        vertical-align: middle;\n",
       "    }\n",
       "\n",
       "    .dataframe tbody tr th {\n",
       "        vertical-align: top;\n",
       "    }\n",
       "\n",
       "    .dataframe thead th {\n",
       "        text-align: right;\n",
       "    }\n",
       "</style>\n",
       "<table border=\"1\" class=\"dataframe\">\n",
       "  <thead>\n",
       "    <tr style=\"text-align: right;\">\n",
       "      <th></th>\n",
       "      <th>Extract_Date</th>\n",
       "      <th>Reported_Date</th>\n",
       "      <th>City</th>\n",
       "      <th>New_Cases</th>\n",
       "      <th>mavg_7day_new_cases</th>\n",
       "      <th>new_cases_per_100K</th>\n",
       "      <th>mavg_7day_per_100k_new_cases</th>\n",
       "      <th>daily_temp</th>\n",
       "      <th>daily_humidity</th>\n",
       "      <th>mavg_7_temp</th>\n",
       "      <th>mavg_7_humidity</th>\n",
       "      <th>mavg_15_temp</th>\n",
       "      <th>mavg_15_humidity</th>\n",
       "    </tr>\n",
       "  </thead>\n",
       "  <tbody>\n",
       "    <tr>\n",
       "      <th>443</th>\n",
       "      <td>2021-05-30</td>\n",
       "      <td>2020-02-29</td>\n",
       "      <td>Sao Paulo</td>\n",
       "      <td>0</td>\n",
       "      <td>0.20</td>\n",
       "      <td>0.00</td>\n",
       "      <td>0.0</td>\n",
       "      <td>20.47</td>\n",
       "      <td>85.96</td>\n",
       "      <td>20.224286</td>\n",
       "      <td>83.507143</td>\n",
       "      <td>22.213333</td>\n",
       "      <td>80.343333</td>\n",
       "    </tr>\n",
       "    <tr>\n",
       "      <th>444</th>\n",
       "      <td>2021-05-30</td>\n",
       "      <td>2020-03-01</td>\n",
       "      <td>Sao Paulo</td>\n",
       "      <td>0</td>\n",
       "      <td>0.17</td>\n",
       "      <td>0.00</td>\n",
       "      <td>0.0</td>\n",
       "      <td>19.50</td>\n",
       "      <td>85.50</td>\n",
       "      <td>20.374286</td>\n",
       "      <td>83.578571</td>\n",
       "      <td>22.159333</td>\n",
       "      <td>80.812667</td>\n",
       "    </tr>\n",
       "    <tr>\n",
       "      <th>445</th>\n",
       "      <td>2021-05-30</td>\n",
       "      <td>2020-03-02</td>\n",
       "      <td>Sao Paulo</td>\n",
       "      <td>0</td>\n",
       "      <td>0.14</td>\n",
       "      <td>0.00</td>\n",
       "      <td>0.0</td>\n",
       "      <td>19.61</td>\n",
       "      <td>85.81</td>\n",
       "      <td>20.490000</td>\n",
       "      <td>84.471429</td>\n",
       "      <td>21.902000</td>\n",
       "      <td>81.646000</td>\n",
       "    </tr>\n",
       "    <tr>\n",
       "      <th>446</th>\n",
       "      <td>2021-05-30</td>\n",
       "      <td>2020-03-03</td>\n",
       "      <td>Sao Paulo</td>\n",
       "      <td>0</td>\n",
       "      <td>0.14</td>\n",
       "      <td>0.00</td>\n",
       "      <td>0.0</td>\n",
       "      <td>19.17</td>\n",
       "      <td>85.53</td>\n",
       "      <td>20.321429</td>\n",
       "      <td>85.334286</td>\n",
       "      <td>21.606667</td>\n",
       "      <td>82.187333</td>\n",
       "    </tr>\n",
       "    <tr>\n",
       "      <th>447</th>\n",
       "      <td>2021-05-30</td>\n",
       "      <td>2020-03-04</td>\n",
       "      <td>Sao Paulo</td>\n",
       "      <td>1</td>\n",
       "      <td>0.29</td>\n",
       "      <td>0.01</td>\n",
       "      <td>0.0</td>\n",
       "      <td>19.61</td>\n",
       "      <td>79.08</td>\n",
       "      <td>19.787143</td>\n",
       "      <td>85.832857</td>\n",
       "      <td>21.242000</td>\n",
       "      <td>82.764000</td>\n",
       "    </tr>\n",
       "  </tbody>\n",
       "</table>\n",
       "</div>"
      ],
      "text/plain": [
       "    Extract_Date Reported_Date       City  New_Cases  mavg_7day_new_cases  \\\n",
       "443   2021-05-30    2020-02-29  Sao Paulo          0                 0.20   \n",
       "444   2021-05-30    2020-03-01  Sao Paulo          0                 0.17   \n",
       "445   2021-05-30    2020-03-02  Sao Paulo          0                 0.14   \n",
       "446   2021-05-30    2020-03-03  Sao Paulo          0                 0.14   \n",
       "447   2021-05-30    2020-03-04  Sao Paulo          1                 0.29   \n",
       "\n",
       "     new_cases_per_100K  mavg_7day_per_100k_new_cases  daily_temp  \\\n",
       "443                0.00                           0.0       20.47   \n",
       "444                0.00                           0.0       19.50   \n",
       "445                0.00                           0.0       19.61   \n",
       "446                0.00                           0.0       19.17   \n",
       "447                0.01                           0.0       19.61   \n",
       "\n",
       "     daily_humidity  mavg_7_temp  mavg_7_humidity  mavg_15_temp  \\\n",
       "443           85.96    20.224286        83.507143     22.213333   \n",
       "444           85.50    20.374286        83.578571     22.159333   \n",
       "445           85.81    20.490000        84.471429     21.902000   \n",
       "446           85.53    20.321429        85.334286     21.606667   \n",
       "447           79.08    19.787143        85.832857     21.242000   \n",
       "\n",
       "     mavg_15_humidity  \n",
       "443         80.343333  \n",
       "444         80.812667  \n",
       "445         81.646000  \n",
       "446         82.187333  \n",
       "447         82.764000  "
      ]
     },
     "execution_count": 36,
     "metadata": {},
     "output_type": "execute_result"
    }
   ],
   "source": [
    "print(SP_Combined_df.shape)\n",
    "SP_Combined_df.head()"
   ]
  },
  {
   "cell_type": "code",
   "execution_count": 37,
   "metadata": {},
   "outputs": [
    {
     "data": {
      "text/html": [
       "<div>\n",
       "<style scoped>\n",
       "    .dataframe tbody tr th:only-of-type {\n",
       "        vertical-align: middle;\n",
       "    }\n",
       "\n",
       "    .dataframe tbody tr th {\n",
       "        vertical-align: top;\n",
       "    }\n",
       "\n",
       "    .dataframe thead th {\n",
       "        text-align: right;\n",
       "    }\n",
       "</style>\n",
       "<table border=\"1\" class=\"dataframe\">\n",
       "  <thead>\n",
       "    <tr style=\"text-align: right;\">\n",
       "      <th></th>\n",
       "      <th>Extract_Date</th>\n",
       "      <th>New_Cases</th>\n",
       "      <th>mavg_7day_new_cases</th>\n",
       "      <th>new_cases_per_100K</th>\n",
       "      <th>mavg_7day_per_100k_new_cases</th>\n",
       "      <th>daily_temp</th>\n",
       "      <th>daily_humidity</th>\n",
       "      <th>mavg_7_temp</th>\n",
       "      <th>mavg_7_humidity</th>\n",
       "      <th>mavg_15_temp</th>\n",
       "      <th>mavg_15_humidity</th>\n",
       "    </tr>\n",
       "  </thead>\n",
       "  <tbody>\n",
       "    <tr>\n",
       "      <th>443</th>\n",
       "      <td>2021-05-30</td>\n",
       "      <td>0</td>\n",
       "      <td>0.20</td>\n",
       "      <td>0.00</td>\n",
       "      <td>0.0</td>\n",
       "      <td>20.47</td>\n",
       "      <td>85.96</td>\n",
       "      <td>20.224286</td>\n",
       "      <td>83.507143</td>\n",
       "      <td>22.213333</td>\n",
       "      <td>80.343333</td>\n",
       "    </tr>\n",
       "    <tr>\n",
       "      <th>444</th>\n",
       "      <td>2021-05-30</td>\n",
       "      <td>0</td>\n",
       "      <td>0.17</td>\n",
       "      <td>0.00</td>\n",
       "      <td>0.0</td>\n",
       "      <td>19.50</td>\n",
       "      <td>85.50</td>\n",
       "      <td>20.374286</td>\n",
       "      <td>83.578571</td>\n",
       "      <td>22.159333</td>\n",
       "      <td>80.812667</td>\n",
       "    </tr>\n",
       "    <tr>\n",
       "      <th>445</th>\n",
       "      <td>2021-05-30</td>\n",
       "      <td>0</td>\n",
       "      <td>0.14</td>\n",
       "      <td>0.00</td>\n",
       "      <td>0.0</td>\n",
       "      <td>19.61</td>\n",
       "      <td>85.81</td>\n",
       "      <td>20.490000</td>\n",
       "      <td>84.471429</td>\n",
       "      <td>21.902000</td>\n",
       "      <td>81.646000</td>\n",
       "    </tr>\n",
       "    <tr>\n",
       "      <th>446</th>\n",
       "      <td>2021-05-30</td>\n",
       "      <td>0</td>\n",
       "      <td>0.14</td>\n",
       "      <td>0.00</td>\n",
       "      <td>0.0</td>\n",
       "      <td>19.17</td>\n",
       "      <td>85.53</td>\n",
       "      <td>20.321429</td>\n",
       "      <td>85.334286</td>\n",
       "      <td>21.606667</td>\n",
       "      <td>82.187333</td>\n",
       "    </tr>\n",
       "    <tr>\n",
       "      <th>447</th>\n",
       "      <td>2021-05-30</td>\n",
       "      <td>1</td>\n",
       "      <td>0.29</td>\n",
       "      <td>0.01</td>\n",
       "      <td>0.0</td>\n",
       "      <td>19.61</td>\n",
       "      <td>79.08</td>\n",
       "      <td>19.787143</td>\n",
       "      <td>85.832857</td>\n",
       "      <td>21.242000</td>\n",
       "      <td>82.764000</td>\n",
       "    </tr>\n",
       "  </tbody>\n",
       "</table>\n",
       "</div>"
      ],
      "text/plain": [
       "    Extract_Date  New_Cases  mavg_7day_new_cases  new_cases_per_100K  \\\n",
       "443   2021-05-30          0                 0.20                0.00   \n",
       "444   2021-05-30          0                 0.17                0.00   \n",
       "445   2021-05-30          0                 0.14                0.00   \n",
       "446   2021-05-30          0                 0.14                0.00   \n",
       "447   2021-05-30          1                 0.29                0.01   \n",
       "\n",
       "     mavg_7day_per_100k_new_cases  daily_temp  daily_humidity  mavg_7_temp  \\\n",
       "443                           0.0       20.47           85.96    20.224286   \n",
       "444                           0.0       19.50           85.50    20.374286   \n",
       "445                           0.0       19.61           85.81    20.490000   \n",
       "446                           0.0       19.17           85.53    20.321429   \n",
       "447                           0.0       19.61           79.08    19.787143   \n",
       "\n",
       "     mavg_7_humidity  mavg_15_temp  mavg_15_humidity  \n",
       "443        83.507143     22.213333         80.343333  \n",
       "444        83.578571     22.159333         80.812667  \n",
       "445        84.471429     21.902000         81.646000  \n",
       "446        85.334286     21.606667         82.187333  \n",
       "447        85.832857     21.242000         82.764000  "
      ]
     },
     "execution_count": 37,
     "metadata": {},
     "output_type": "execute_result"
    }
   ],
   "source": [
    "SP_Combined_Reg= SP_Combined_df.drop([\"Reported_Date\",\"City\"], axis=1)\n",
    "SP_Combined_Reg.head()"
   ]
  },
  {
   "cell_type": "markdown",
   "metadata": {},
   "source": [
    "### Regression- 15 Day Avg Temp' and '15 Day Avg Humidity' against 'mavg_7day_per_100k_new_cases'"
   ]
  },
  {
   "cell_type": "code",
   "execution_count": 38,
   "metadata": {},
   "outputs": [
    {
     "data": {
      "text/plain": [
       "<AxesSubplot:xlabel='mavg_15_humidity', ylabel='mavg_7day_per_100k_new_cases'>"
      ]
     },
     "execution_count": 38,
     "metadata": {},
     "output_type": "execute_result"
    },
    {
     "data": {
      "image/png": "[encoded data removed]",
      "text/plain": [
       "<Figure size 432x288 with 1 Axes>"
      ]
     },
     "metadata": {
      "needs_background": "light"
     },
     "output_type": "display_data"
    },
    {
     "data": {
      "image/png": "[encoded data removed]",
      "text/plain": [
       "<Figure size 432x288 with 1 Axes>"
      ]
     },
     "metadata": {
      "needs_background": "light"
     },
     "output_type": "display_data"
    }
   ],
   "source": [
    "# Plot a scatter plot of '15 Day Avg Temp' and '15 Day Avg Humidity' against 'mavg_7day_per_100k_new_cases'\n",
    "SP_Combined_Reg.plot(kind='scatter', x='mavg_15_temp', y='mavg_7day_per_100k_new_cases')\n",
    "SP_Combined_Reg.plot(kind='scatter', x='mavg_15_humidity', y='mavg_7day_per_100k_new_cases')"
   ]
  },
  {
   "cell_type": "markdown",
   "metadata": {},
   "source": [
    "### Simple Linear Regression Model- TEMPRETURE, HUMIDITY with MAVG_7day_per_100k_new_cases"
   ]
  },
  {
   "cell_type": "code",
   "execution_count": 46,
   "metadata": {},
   "outputs": [],
   "source": [
    "from sklearn import linear_model\n",
    "from sklearn.metrics import mean_squared_error, r2_score\n",
    "from sklearn.model_selection import train_test_split # Use the Sklearn `train_test_split()` function to split the data into training and testing data"
   ]
  },
  {
   "cell_type": "code",
   "execution_count": 47,
   "metadata": {},
   "outputs": [
    {
     "name": "stdout",
     "output_type": "stream",
     "text": [
      "Shape:  (443, 2) (443, 1)\n"
     ]
    }
   ],
   "source": [
    "# Assign the data to X and y\n",
    "# Note: Sklearn requires a two-dimensional array of values\n",
    "# so we use reshape() to create this\n",
    "\n",
    "X_SP_both = SP_Combined_Reg[[\"mavg_15_temp\",\"mavg_15_humidity\"]]\n",
    "y_SP_both = SP_Combined_Reg[\"mavg_7day_per_100k_new_cases\"].values.reshape(-1, 1)\n",
    "\n",
    "print(\"Shape: \", X_SP_both.shape, y_SP_both.shape)\n",
    "#print(X_SP_both)\n",
    "#print(y_SP_both)\n",
    "\n"
   ]
  },
  {
   "cell_type": "code",
   "execution_count": 48,
   "metadata": {},
   "outputs": [],
   "source": [
    "#WE are not splitting the data as we want to use all data into the train  \n",
    "#split the data\n",
    "#X_train, X_test, y_train, y_test = train_test_split(X, y, train_size=0.60,test_size=0.40, random_state=42)"
   ]
  },
  {
   "cell_type": "code",
   "execution_count": 49,
   "metadata": {},
   "outputs": [],
   "source": [
    "# Create the model\n",
    "model_SP_both = linear_model.LinearRegression()"
   ]
  },
  {
   "cell_type": "code",
   "execution_count": 50,
   "metadata": {},
   "outputs": [
    {
     "data": {
      "text/plain": [
       "LinearRegression()"
      ]
     },
     "execution_count": 50,
     "metadata": {},
     "output_type": "execute_result"
    }
   ],
   "source": [
    "# Fit the model to the training data. \n",
    "model_SP_both.fit(X_SP_both, y_SP_both)"
   ]
  },
  {
   "cell_type": "code",
   "execution_count": 51,
   "metadata": {},
   "outputs": [
    {
     "name": "stdout",
     "output_type": "stream",
     "text": [
      "Regression Report using All 14.5 months data ,temperature and humidity for SPC ONLY\n",
      "mean squared error (MSE): 62.715091522372305\n",
      "R-squared (R2): 0.05167092331862788\n",
      "Coefficients: \n",
      " [[ 0.40795695 -0.46836384]]\n",
      "intercept: [39.05235338]\n"
     ]
    }
   ],
   "source": [
    "# Use our model to make predictions\n",
    "predicted = model_SP_both.predict(X_SP_both)\n",
    "\n",
    "# Score the predictions with mse and r2\n",
    "# Calculate the mean_squared_error and the r-squared value for the testing data\n",
    "mse = mean_squared_error(y_SP_both, predicted) #There is no correct value for MSE. Simply put, the lower the value the better and 0 means the model is perfect. Since there is no correct answer, the MSE’s basic value is in selecting one prediction model over another.\n",
    "r2 = r2_score(y_SP_both, predicted) #there is also no correct answer as to what R2 should be. 100% means perfect correlation. Yet, there are models with a low R2 that are still good models.\n",
    "\n",
    "print(f\"Regression Report using All 14.5 months data ,temperature and humidity for SPC ONLY\")\n",
    "print(f\"mean squared error (MSE): {mse}\")\n",
    "print(f\"R-squared (R2): {r2}\")\n",
    "print('Coefficients: \\n', model_SP_both.coef_)\n",
    "print('intercept:', model_SP_both.intercept_)"
   ]
  },
  {
   "cell_type": "code",
   "execution_count": 53,
   "metadata": {},
   "outputs": [
    {
     "name": "stdout",
     "output_type": "stream",
     "text": [
      "Regression accuracy score using All 14.5 months data ,temperature and humidity for SPC ONLY\n"
     ]
    },
    {
     "data": {
      "text/plain": [
       "0.05167092331862788"
      ]
     },
     "execution_count": 53,
     "metadata": {},
     "output_type": "execute_result"
    }
   ],
   "source": [
    "# Call the `score()` method on the model to show the R2 score\n",
    "print(f\"Regression accuracy score using All 14.5 months data ,temperature and humidity for SPC ONLY\")\n",
    "model_SP_both.score(X_SP_both, y_SP_both)"
   ]
  },
  {
   "cell_type": "markdown",
   "metadata": {},
   "source": [
    "Modifying model to check difference if only temp is used as a variable"
   ]
  },
  {
   "cell_type": "code",
   "execution_count": 110,
   "metadata": {},
   "outputs": [
    {
     "name": "stdout",
     "output_type": "stream",
     "text": [
      "Shape:  (443, 1) (443, 1)\n"
     ]
    }
   ],
   "source": [
    "# Assign the data to X and y\n",
    "# Note: Sklearn requires a two-dimensional array of values\n",
    "# so we use reshape() to create this\n",
    "\n",
    "X_SP_temp = SP_Combined_Reg[\"mavg_15_temp\"].values.reshape(-1, 1)\n",
    "y_SP_temp = SP_Combined_Reg[\"mavg_7day_per_100k_new_cases\"].values.reshape(-1, 1)\n",
    "\n",
    "print(\"Shape: \", X_SP_temp.shape, y_SP_temp.shape)\n",
    "#print(X_SP_temp)\n",
    "#print(y_SP_temp)\n"
   ]
  },
  {
   "cell_type": "code",
   "execution_count": 111,
   "metadata": {},
   "outputs": [],
   "source": [
    "# Create the model\n",
    "model_SP_temp = linear_model.LinearRegression()"
   ]
  },
  {
   "cell_type": "code",
   "execution_count": 112,
   "metadata": {},
   "outputs": [
    {
     "data": {
      "text/plain": [
       "LinearRegression()"
      ]
     },
     "execution_count": 112,
     "metadata": {},
     "output_type": "execute_result"
    }
   ],
   "source": [
    "# Fit the model to the training data. \n",
    "model_SP_temp.fit(X_SP_temp, y_SP_temp)"
   ]
  },
  {
   "cell_type": "code",
   "execution_count": 113,
   "metadata": {},
   "outputs": [
    {
     "name": "stdout",
     "output_type": "stream",
     "text": [
      "mean squared error (MSE): 65.72903528872156\n",
      "R-squared (R2): 0.006196186621425737\n",
      "Coefficients: \n",
      " [[0.28607747]]\n",
      "intercept: [8.25924912]\n"
     ]
    }
   ],
   "source": [
    "# Use our model to make predictions\n",
    "predicted = model_SP_temp.predict(X_SP_temp)\n",
    "\n",
    "# Score the predictions with mse and r2\n",
    "# Calculate the mean_squared_error and the r-squared value for the testing data\n",
    "mse = mean_squared_error(y_SP_temp, predicted) #There is no correct value for MSE. Simply put, the lower the value the better and 0 means the model is perfect. Since there is no correct answer, the MSE’s basic value is in selecting one prediction model over another.\n",
    "r2 = r2_score(y_SP_temp, predicted) #there is also no correct answer as to what R2 should be. 100% means perfect correlation. Yet, there are models with a low R2 that are still good models.\n",
    "\n",
    "print(f\"mean squared error (MSE): {mse}\")\n",
    "print(f\"R-squared (R2): {r2}\")\n",
    "print('Coefficients: \\n', model_SP_temp.coef_)\n",
    "print('intercept:', model_SP_temp.intercept_)"
   ]
  },
  {
   "cell_type": "code",
   "execution_count": null,
   "metadata": {},
   "outputs": [],
   "source": [
    "# Call the `score()` method on the model to show the R2 score\n",
    "model_SP_temp.score(X_SP_temp, y_SP_temp)"
   ]
  }
 ],
 "metadata": {
  "kernelspec": {
   "display_name": "PythonData",
   "language": "python",
   "name": "pythondata"
  },
  "language_info": {
   "codemirror_mode": {
    "name": "ipython",
    "version": 3
   },
   "file_extension": ".py",
   "mimetype": "text/x-python",
   "name": "python",
   "nbconvert_exporter": "python",
   "pygments_lexer": "ipython3",
   "version": "3.8.8"
  }
 },
 "nbformat": 4,
 "nbformat_minor": 4
}
