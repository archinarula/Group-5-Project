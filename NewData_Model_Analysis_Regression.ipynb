{
 "cells": [
  {
   "cell_type": "markdown",
   "metadata": {},
   "source": [
    "# Preface"
   ]
  },
  {
   "cell_type": "markdown",
   "metadata": {},
   "source": [
    "Purpose:\n",
    "\n",
    "Covid-19 Analysis with Weather Data (Temp and Humidity) for seleceted two Cities- Sao Paulo(Brazil) and New York (USA) to show if these weather variables impact Covid new cases increase.\n",
    "\n",
    "Data:\n",
    "\n",
    "1. Resources folder under Archana Branch- https://github.com/archinarula/Group-5-Project/tree/Archana/Archana_WorkingFolder/Resources\n",
    "\n"
   ]
  },
  {
   "cell_type": "markdown",
   "metadata": {},
   "source": [
    "# Dependencies and Load Data"
   ]
  },
  {
   "cell_type": "code",
   "execution_count": 69,
   "metadata": {},
   "outputs": [],
   "source": [
    "# first import the dependencies\n",
    "import pandas as pd\n",
    "import numpy as np\n",
    "import math\n",
    "import matplotlib.pyplot as plt\n",
    "import seaborn as sns\n",
    "import plotly.graph_objects as go\n",
    "from plotly.subplots import make_subplots\n",
    "%matplotlib inline"
   ]
  },
  {
   "cell_type": "markdown",
   "metadata": {},
   "source": [
    "Import the combined data"
   ]
  },
  {
   "cell_type": "code",
   "execution_count": 70,
   "metadata": {},
   "outputs": [],
   "source": [
    "# Add the Resources path variables:\n",
    "Combined_data=\"Resources/Final_Combine_Data.csv\"\n",
    "\n",
    "#Read CSVs and Create Dataframes:\n",
    "Combined_df_all= pd.read_csv(Combined_data, parse_dates=['Reported_Date'], encoding=\"ISO-8859-1\",low_memory=False)\n"
   ]
  },
  {
   "cell_type": "code",
   "execution_count": 71,
   "metadata": {},
   "outputs": [
    {
     "name": "stdout",
     "output_type": "stream",
     "text": [
      "(886, 15)\n"
     ]
    },
    {
     "data": {
      "text/html": [
       "<div>\n",
       "<style scoped>\n",
       "    .dataframe tbody tr th:only-of-type {\n",
       "        vertical-align: middle;\n",
       "    }\n",
       "\n",
       "    .dataframe tbody tr th {\n",
       "        vertical-align: top;\n",
       "    }\n",
       "\n",
       "    .dataframe thead th {\n",
       "        text-align: right;\n",
       "    }\n",
       "</style>\n",
       "<table border=\"1\" class=\"dataframe\">\n",
       "  <thead>\n",
       "    <tr style=\"text-align: right;\">\n",
       "      <th></th>\n",
       "      <th>Reported_Date</th>\n",
       "      <th>City</th>\n",
       "      <th>is_newyork</th>\n",
       "      <th>Population</th>\n",
       "      <th>Data Source</th>\n",
       "      <th>New_Cases</th>\n",
       "      <th>mavg_7day_new_cases</th>\n",
       "      <th>new_cases_per_100K</th>\n",
       "      <th>mavg_7day_per_100k_new_cases</th>\n",
       "      <th>daily_temp</th>\n",
       "      <th>daily_humidity</th>\n",
       "      <th>mavg_7_temp</th>\n",
       "      <th>mavg_7_humidity</th>\n",
       "      <th>mavg_15_temp</th>\n",
       "      <th>mavg_15_humidity</th>\n",
       "    </tr>\n",
       "  </thead>\n",
       "  <tbody>\n",
       "    <tr>\n",
       "      <th>0</th>\n",
       "      <td>2020-02-29</td>\n",
       "      <td>New York</td>\n",
       "      <td>1</td>\n",
       "      <td>18804000</td>\n",
       "      <td>'https://github.com/nychealth/coronavirus-data...</td>\n",
       "      <td>1</td>\n",
       "      <td>0</td>\n",
       "      <td>0.01</td>\n",
       "      <td>0.0</td>\n",
       "      <td>0.40</td>\n",
       "      <td>44.08</td>\n",
       "      <td>5.70</td>\n",
       "      <td>58.96</td>\n",
       "      <td>3.50</td>\n",
       "      <td>56.27</td>\n",
       "    </tr>\n",
       "    <tr>\n",
       "      <th>1</th>\n",
       "      <td>2020-03-01</td>\n",
       "      <td>New York</td>\n",
       "      <td>1</td>\n",
       "      <td>18804000</td>\n",
       "      <td>'https://github.com/nychealth/coronavirus-data...</td>\n",
       "      <td>0</td>\n",
       "      <td>0</td>\n",
       "      <td>0.00</td>\n",
       "      <td>0.0</td>\n",
       "      <td>-0.10</td>\n",
       "      <td>45.71</td>\n",
       "      <td>5.39</td>\n",
       "      <td>59.61</td>\n",
       "      <td>3.43</td>\n",
       "      <td>55.59</td>\n",
       "    </tr>\n",
       "    <tr>\n",
       "      <th>2</th>\n",
       "      <td>2020-03-02</td>\n",
       "      <td>New York</td>\n",
       "      <td>1</td>\n",
       "      <td>18804000</td>\n",
       "      <td>'https://github.com/nychealth/coronavirus-data...</td>\n",
       "      <td>0</td>\n",
       "      <td>0</td>\n",
       "      <td>0.00</td>\n",
       "      <td>0.0</td>\n",
       "      <td>6.61</td>\n",
       "      <td>52.25</td>\n",
       "      <td>4.49</td>\n",
       "      <td>61.09</td>\n",
       "      <td>3.82</td>\n",
       "      <td>55.35</td>\n",
       "    </tr>\n",
       "    <tr>\n",
       "      <th>3</th>\n",
       "      <td>2020-03-03</td>\n",
       "      <td>New York</td>\n",
       "      <td>1</td>\n",
       "      <td>18804000</td>\n",
       "      <td>'https://github.com/nychealth/coronavirus-data...</td>\n",
       "      <td>1</td>\n",
       "      <td>0</td>\n",
       "      <td>0.01</td>\n",
       "      <td>0.0</td>\n",
       "      <td>11.27</td>\n",
       "      <td>70.72</td>\n",
       "      <td>4.32</td>\n",
       "      <td>61.56</td>\n",
       "      <td>4.19</td>\n",
       "      <td>54.40</td>\n",
       "    </tr>\n",
       "    <tr>\n",
       "      <th>4</th>\n",
       "      <td>2020-03-04</td>\n",
       "      <td>New York</td>\n",
       "      <td>1</td>\n",
       "      <td>18804000</td>\n",
       "      <td>'https://github.com/nychealth/coronavirus-data...</td>\n",
       "      <td>5</td>\n",
       "      <td>0</td>\n",
       "      <td>0.03</td>\n",
       "      <td>0.0</td>\n",
       "      <td>10.21</td>\n",
       "      <td>58.76</td>\n",
       "      <td>4.69</td>\n",
       "      <td>60.67</td>\n",
       "      <td>4.58</td>\n",
       "      <td>55.59</td>\n",
       "    </tr>\n",
       "  </tbody>\n",
       "</table>\n",
       "</div>"
      ],
      "text/plain": [
       "  Reported_Date      City  is_newyork  Population  \\\n",
       "0    2020-02-29  New York           1    18804000   \n",
       "1    2020-03-01  New York           1    18804000   \n",
       "2    2020-03-02  New York           1    18804000   \n",
       "3    2020-03-03  New York           1    18804000   \n",
       "4    2020-03-04  New York           1    18804000   \n",
       "\n",
       "                                         Data Source  New_Cases  \\\n",
       "0  'https://github.com/nychealth/coronavirus-data...          1   \n",
       "1  'https://github.com/nychealth/coronavirus-data...          0   \n",
       "2  'https://github.com/nychealth/coronavirus-data...          0   \n",
       "3  'https://github.com/nychealth/coronavirus-data...          1   \n",
       "4  'https://github.com/nychealth/coronavirus-data...          5   \n",
       "\n",
       "   mavg_7day_new_cases  new_cases_per_100K  mavg_7day_per_100k_new_cases  \\\n",
       "0                    0                0.01                           0.0   \n",
       "1                    0                0.00                           0.0   \n",
       "2                    0                0.00                           0.0   \n",
       "3                    0                0.01                           0.0   \n",
       "4                    0                0.03                           0.0   \n",
       "\n",
       "   daily_temp  daily_humidity  mavg_7_temp  mavg_7_humidity  mavg_15_temp  \\\n",
       "0        0.40           44.08         5.70            58.96          3.50   \n",
       "1       -0.10           45.71         5.39            59.61          3.43   \n",
       "2        6.61           52.25         4.49            61.09          3.82   \n",
       "3       11.27           70.72         4.32            61.56          4.19   \n",
       "4       10.21           58.76         4.69            60.67          4.58   \n",
       "\n",
       "   mavg_15_humidity  \n",
       "0             56.27  \n",
       "1             55.59  \n",
       "2             55.35  \n",
       "3             54.40  \n",
       "4             55.59  "
      ]
     },
     "execution_count": 71,
     "metadata": {},
     "output_type": "execute_result"
    }
   ],
   "source": [
    "#Combined dataframe\n",
    "print (Combined_df_all.shape)\n",
    "Combined_df_all.head()\n"
   ]
  },
  {
   "cell_type": "code",
   "execution_count": 72,
   "metadata": {},
   "outputs": [
    {
     "data": {
      "text/html": [
       "<div>\n",
       "<style scoped>\n",
       "    .dataframe tbody tr th:only-of-type {\n",
       "        vertical-align: middle;\n",
       "    }\n",
       "\n",
       "    .dataframe tbody tr th {\n",
       "        vertical-align: top;\n",
       "    }\n",
       "\n",
       "    .dataframe thead th {\n",
       "        text-align: right;\n",
       "    }\n",
       "</style>\n",
       "<table border=\"1\" class=\"dataframe\">\n",
       "  <thead>\n",
       "    <tr style=\"text-align: right;\">\n",
       "      <th></th>\n",
       "      <th>Reported_Date</th>\n",
       "      <th>City</th>\n",
       "      <th>New_Cases</th>\n",
       "      <th>mavg_7day_new_cases</th>\n",
       "      <th>new_cases_per_100K</th>\n",
       "      <th>mavg_7day_per_100k_new_cases</th>\n",
       "      <th>daily_temp</th>\n",
       "      <th>daily_humidity</th>\n",
       "      <th>mavg_7_temp</th>\n",
       "      <th>mavg_7_humidity</th>\n",
       "      <th>mavg_15_temp</th>\n",
       "      <th>mavg_15_humidity</th>\n",
       "    </tr>\n",
       "  </thead>\n",
       "  <tbody>\n",
       "    <tr>\n",
       "      <th>0</th>\n",
       "      <td>2020-02-29</td>\n",
       "      <td>New York</td>\n",
       "      <td>1</td>\n",
       "      <td>0</td>\n",
       "      <td>0.01</td>\n",
       "      <td>0.0</td>\n",
       "      <td>0.40</td>\n",
       "      <td>44.08</td>\n",
       "      <td>5.70</td>\n",
       "      <td>58.96</td>\n",
       "      <td>3.50</td>\n",
       "      <td>56.27</td>\n",
       "    </tr>\n",
       "    <tr>\n",
       "      <th>1</th>\n",
       "      <td>2020-03-01</td>\n",
       "      <td>New York</td>\n",
       "      <td>0</td>\n",
       "      <td>0</td>\n",
       "      <td>0.00</td>\n",
       "      <td>0.0</td>\n",
       "      <td>-0.10</td>\n",
       "      <td>45.71</td>\n",
       "      <td>5.39</td>\n",
       "      <td>59.61</td>\n",
       "      <td>3.43</td>\n",
       "      <td>55.59</td>\n",
       "    </tr>\n",
       "    <tr>\n",
       "      <th>2</th>\n",
       "      <td>2020-03-02</td>\n",
       "      <td>New York</td>\n",
       "      <td>0</td>\n",
       "      <td>0</td>\n",
       "      <td>0.00</td>\n",
       "      <td>0.0</td>\n",
       "      <td>6.61</td>\n",
       "      <td>52.25</td>\n",
       "      <td>4.49</td>\n",
       "      <td>61.09</td>\n",
       "      <td>3.82</td>\n",
       "      <td>55.35</td>\n",
       "    </tr>\n",
       "    <tr>\n",
       "      <th>3</th>\n",
       "      <td>2020-03-03</td>\n",
       "      <td>New York</td>\n",
       "      <td>1</td>\n",
       "      <td>0</td>\n",
       "      <td>0.01</td>\n",
       "      <td>0.0</td>\n",
       "      <td>11.27</td>\n",
       "      <td>70.72</td>\n",
       "      <td>4.32</td>\n",
       "      <td>61.56</td>\n",
       "      <td>4.19</td>\n",
       "      <td>54.40</td>\n",
       "    </tr>\n",
       "    <tr>\n",
       "      <th>4</th>\n",
       "      <td>2020-03-04</td>\n",
       "      <td>New York</td>\n",
       "      <td>5</td>\n",
       "      <td>0</td>\n",
       "      <td>0.03</td>\n",
       "      <td>0.0</td>\n",
       "      <td>10.21</td>\n",
       "      <td>58.76</td>\n",
       "      <td>4.69</td>\n",
       "      <td>60.67</td>\n",
       "      <td>4.58</td>\n",
       "      <td>55.59</td>\n",
       "    </tr>\n",
       "  </tbody>\n",
       "</table>\n",
       "</div>"
      ],
      "text/plain": [
       "  Reported_Date      City  New_Cases  mavg_7day_new_cases  new_cases_per_100K  \\\n",
       "0    2020-02-29  New York          1                    0                0.01   \n",
       "1    2020-03-01  New York          0                    0                0.00   \n",
       "2    2020-03-02  New York          0                    0                0.00   \n",
       "3    2020-03-03  New York          1                    0                0.01   \n",
       "4    2020-03-04  New York          5                    0                0.03   \n",
       "\n",
       "   mavg_7day_per_100k_new_cases  daily_temp  daily_humidity  mavg_7_temp  \\\n",
       "0                           0.0        0.40           44.08         5.70   \n",
       "1                           0.0       -0.10           45.71         5.39   \n",
       "2                           0.0        6.61           52.25         4.49   \n",
       "3                           0.0       11.27           70.72         4.32   \n",
       "4                           0.0       10.21           58.76         4.69   \n",
       "\n",
       "   mavg_7_humidity  mavg_15_temp  mavg_15_humidity  \n",
       "0            58.96          3.50             56.27  \n",
       "1            59.61          3.43             55.59  \n",
       "2            61.09          3.82             55.35  \n",
       "3            61.56          4.19             54.40  \n",
       "4            60.67          4.58             55.59  "
      ]
     },
     "execution_count": 72,
     "metadata": {},
     "output_type": "execute_result"
    }
   ],
   "source": [
    "# Delete extraneous columns\n",
    "Combined_df=Combined_df_all.drop([\"is_newyork\",\"Population\",\"Data Source\"], axis=1)\n",
    "Combined_df.head()"
   ]
  },
  {
   "cell_type": "code",
   "execution_count": 73,
   "metadata": {},
   "outputs": [
    {
     "name": "stdout",
     "output_type": "stream",
     "text": [
      "<class 'pandas.core.frame.DataFrame'>\n",
      "RangeIndex: 886 entries, 0 to 885\n",
      "Data columns (total 12 columns):\n",
      " #   Column                        Non-Null Count  Dtype         \n",
      "---  ------                        --------------  -----         \n",
      " 0   Reported_Date                 886 non-null    datetime64[ns]\n",
      " 1   City                          886 non-null    object        \n",
      " 2   New_Cases                     886 non-null    int64         \n",
      " 3   mavg_7day_new_cases           886 non-null    int64         \n",
      " 4   new_cases_per_100K            886 non-null    float64       \n",
      " 5   mavg_7day_per_100k_new_cases  886 non-null    float64       \n",
      " 6   daily_temp                    886 non-null    float64       \n",
      " 7   daily_humidity                886 non-null    float64       \n",
      " 8   mavg_7_temp                   886 non-null    float64       \n",
      " 9   mavg_7_humidity               886 non-null    float64       \n",
      " 10  mavg_15_temp                  886 non-null    float64       \n",
      " 11  mavg_15_humidity              886 non-null    float64       \n",
      "dtypes: datetime64[ns](1), float64(8), int64(2), object(1)\n",
      "memory usage: 83.2+ KB\n"
     ]
    }
   ],
   "source": [
    "Combined_df.info()"
   ]
  },
  {
   "cell_type": "code",
   "execution_count": 74,
   "metadata": {},
   "outputs": [],
   "source": [
    "import warnings\n",
    "warnings.filterwarnings(\"ignore\")"
   ]
  },
  {
   "cell_type": "code",
   "execution_count": 75,
   "metadata": {},
   "outputs": [
    {
     "name": "stdout",
     "output_type": "stream",
     "text": [
      "(443, 12)\n"
     ]
    },
    {
     "data": {
      "text/html": [
       "<div>\n",
       "<style scoped>\n",
       "    .dataframe tbody tr th:only-of-type {\n",
       "        vertical-align: middle;\n",
       "    }\n",
       "\n",
       "    .dataframe tbody tr th {\n",
       "        vertical-align: top;\n",
       "    }\n",
       "\n",
       "    .dataframe thead th {\n",
       "        text-align: right;\n",
       "    }\n",
       "</style>\n",
       "<table border=\"1\" class=\"dataframe\">\n",
       "  <thead>\n",
       "    <tr style=\"text-align: right;\">\n",
       "      <th></th>\n",
       "      <th>Reported_Date</th>\n",
       "      <th>City</th>\n",
       "      <th>New_Cases</th>\n",
       "      <th>mavg_7day_new_cases</th>\n",
       "      <th>new_cases_per_100K</th>\n",
       "      <th>mavg_7day_per_100k_new_cases</th>\n",
       "      <th>daily_temp</th>\n",
       "      <th>daily_humidity</th>\n",
       "      <th>mavg_7_temp</th>\n",
       "      <th>mavg_7_humidity</th>\n",
       "      <th>mavg_15_temp</th>\n",
       "      <th>mavg_15_humidity</th>\n",
       "    </tr>\n",
       "  </thead>\n",
       "  <tbody>\n",
       "    <tr>\n",
       "      <th>0</th>\n",
       "      <td>2020-02-29</td>\n",
       "      <td>New York</td>\n",
       "      <td>1</td>\n",
       "      <td>0</td>\n",
       "      <td>0.01</td>\n",
       "      <td>0.0</td>\n",
       "      <td>0.40</td>\n",
       "      <td>44.08</td>\n",
       "      <td>5.70</td>\n",
       "      <td>58.96</td>\n",
       "      <td>3.50</td>\n",
       "      <td>56.27</td>\n",
       "    </tr>\n",
       "    <tr>\n",
       "      <th>1</th>\n",
       "      <td>2020-03-01</td>\n",
       "      <td>New York</td>\n",
       "      <td>0</td>\n",
       "      <td>0</td>\n",
       "      <td>0.00</td>\n",
       "      <td>0.0</td>\n",
       "      <td>-0.10</td>\n",
       "      <td>45.71</td>\n",
       "      <td>5.39</td>\n",
       "      <td>59.61</td>\n",
       "      <td>3.43</td>\n",
       "      <td>55.59</td>\n",
       "    </tr>\n",
       "    <tr>\n",
       "      <th>2</th>\n",
       "      <td>2020-03-02</td>\n",
       "      <td>New York</td>\n",
       "      <td>0</td>\n",
       "      <td>0</td>\n",
       "      <td>0.00</td>\n",
       "      <td>0.0</td>\n",
       "      <td>6.61</td>\n",
       "      <td>52.25</td>\n",
       "      <td>4.49</td>\n",
       "      <td>61.09</td>\n",
       "      <td>3.82</td>\n",
       "      <td>55.35</td>\n",
       "    </tr>\n",
       "    <tr>\n",
       "      <th>3</th>\n",
       "      <td>2020-03-03</td>\n",
       "      <td>New York</td>\n",
       "      <td>1</td>\n",
       "      <td>0</td>\n",
       "      <td>0.01</td>\n",
       "      <td>0.0</td>\n",
       "      <td>11.27</td>\n",
       "      <td>70.72</td>\n",
       "      <td>4.32</td>\n",
       "      <td>61.56</td>\n",
       "      <td>4.19</td>\n",
       "      <td>54.40</td>\n",
       "    </tr>\n",
       "    <tr>\n",
       "      <th>4</th>\n",
       "      <td>2020-03-04</td>\n",
       "      <td>New York</td>\n",
       "      <td>5</td>\n",
       "      <td>0</td>\n",
       "      <td>0.03</td>\n",
       "      <td>0.0</td>\n",
       "      <td>10.21</td>\n",
       "      <td>58.76</td>\n",
       "      <td>4.69</td>\n",
       "      <td>60.67</td>\n",
       "      <td>4.58</td>\n",
       "      <td>55.59</td>\n",
       "    </tr>\n",
       "  </tbody>\n",
       "</table>\n",
       "</div>"
      ],
      "text/plain": [
       "  Reported_Date      City  New_Cases  mavg_7day_new_cases  new_cases_per_100K  \\\n",
       "0    2020-02-29  New York          1                    0                0.01   \n",
       "1    2020-03-01  New York          0                    0                0.00   \n",
       "2    2020-03-02  New York          0                    0                0.00   \n",
       "3    2020-03-03  New York          1                    0                0.01   \n",
       "4    2020-03-04  New York          5                    0                0.03   \n",
       "\n",
       "   mavg_7day_per_100k_new_cases  daily_temp  daily_humidity  mavg_7_temp  \\\n",
       "0                           0.0        0.40           44.08         5.70   \n",
       "1                           0.0       -0.10           45.71         5.39   \n",
       "2                           0.0        6.61           52.25         4.49   \n",
       "3                           0.0       11.27           70.72         4.32   \n",
       "4                           0.0       10.21           58.76         4.69   \n",
       "\n",
       "   mavg_7_humidity  mavg_15_temp  mavg_15_humidity  \n",
       "0            58.96          3.50             56.27  \n",
       "1            59.61          3.43             55.59  \n",
       "2            61.09          3.82             55.35  \n",
       "3            61.56          4.19             54.40  \n",
       "4            60.67          4.58             55.59  "
      ]
     },
     "execution_count": 75,
     "metadata": {},
     "output_type": "execute_result"
    }
   ],
   "source": [
    "#extract only NY data\n",
    "NY_Combined_df = Combined_df.loc[Combined_df['City']=='New York']\n",
    "print (NY_Combined_df.shape)\n",
    "NY_Combined_df.head()"
   ]
  },
  {
   "cell_type": "code",
   "execution_count": 76,
   "metadata": {},
   "outputs": [
    {
     "name": "stdout",
     "output_type": "stream",
     "text": [
      "(443, 12)\n"
     ]
    },
    {
     "data": {
      "text/html": [
       "<div>\n",
       "<style scoped>\n",
       "    .dataframe tbody tr th:only-of-type {\n",
       "        vertical-align: middle;\n",
       "    }\n",
       "\n",
       "    .dataframe tbody tr th {\n",
       "        vertical-align: top;\n",
       "    }\n",
       "\n",
       "    .dataframe thead th {\n",
       "        text-align: right;\n",
       "    }\n",
       "</style>\n",
       "<table border=\"1\" class=\"dataframe\">\n",
       "  <thead>\n",
       "    <tr style=\"text-align: right;\">\n",
       "      <th></th>\n",
       "      <th>Reported_Date</th>\n",
       "      <th>City</th>\n",
       "      <th>New_Cases</th>\n",
       "      <th>mavg_7day_new_cases</th>\n",
       "      <th>new_cases_per_100K</th>\n",
       "      <th>mavg_7day_per_100k_new_cases</th>\n",
       "      <th>daily_temp</th>\n",
       "      <th>daily_humidity</th>\n",
       "      <th>mavg_7_temp</th>\n",
       "      <th>mavg_7_humidity</th>\n",
       "      <th>mavg_15_temp</th>\n",
       "      <th>mavg_15_humidity</th>\n",
       "    </tr>\n",
       "  </thead>\n",
       "  <tbody>\n",
       "    <tr>\n",
       "      <th>443</th>\n",
       "      <td>2020-02-29</td>\n",
       "      <td>Sao Paulo</td>\n",
       "      <td>0</td>\n",
       "      <td>0</td>\n",
       "      <td>0.00</td>\n",
       "      <td>0.0</td>\n",
       "      <td>20.47</td>\n",
       "      <td>85.96</td>\n",
       "      <td>20.22</td>\n",
       "      <td>83.51</td>\n",
       "      <td>22.21</td>\n",
       "      <td>80.34</td>\n",
       "    </tr>\n",
       "    <tr>\n",
       "      <th>444</th>\n",
       "      <td>2020-03-01</td>\n",
       "      <td>Sao Paulo</td>\n",
       "      <td>0</td>\n",
       "      <td>0</td>\n",
       "      <td>0.00</td>\n",
       "      <td>0.0</td>\n",
       "      <td>19.50</td>\n",
       "      <td>85.50</td>\n",
       "      <td>20.37</td>\n",
       "      <td>83.58</td>\n",
       "      <td>22.16</td>\n",
       "      <td>80.81</td>\n",
       "    </tr>\n",
       "    <tr>\n",
       "      <th>445</th>\n",
       "      <td>2020-03-02</td>\n",
       "      <td>Sao Paulo</td>\n",
       "      <td>0</td>\n",
       "      <td>0</td>\n",
       "      <td>0.00</td>\n",
       "      <td>0.0</td>\n",
       "      <td>19.61</td>\n",
       "      <td>85.81</td>\n",
       "      <td>20.49</td>\n",
       "      <td>84.47</td>\n",
       "      <td>21.90</td>\n",
       "      <td>81.65</td>\n",
       "    </tr>\n",
       "    <tr>\n",
       "      <th>446</th>\n",
       "      <td>2020-03-03</td>\n",
       "      <td>Sao Paulo</td>\n",
       "      <td>0</td>\n",
       "      <td>0</td>\n",
       "      <td>0.00</td>\n",
       "      <td>0.0</td>\n",
       "      <td>19.17</td>\n",
       "      <td>85.53</td>\n",
       "      <td>20.32</td>\n",
       "      <td>85.33</td>\n",
       "      <td>21.61</td>\n",
       "      <td>82.19</td>\n",
       "    </tr>\n",
       "    <tr>\n",
       "      <th>447</th>\n",
       "      <td>2020-03-04</td>\n",
       "      <td>Sao Paulo</td>\n",
       "      <td>1</td>\n",
       "      <td>0</td>\n",
       "      <td>0.01</td>\n",
       "      <td>0.0</td>\n",
       "      <td>19.61</td>\n",
       "      <td>79.08</td>\n",
       "      <td>19.79</td>\n",
       "      <td>85.83</td>\n",
       "      <td>21.24</td>\n",
       "      <td>82.76</td>\n",
       "    </tr>\n",
       "  </tbody>\n",
       "</table>\n",
       "</div>"
      ],
      "text/plain": [
       "    Reported_Date       City  New_Cases  mavg_7day_new_cases  \\\n",
       "443    2020-02-29  Sao Paulo          0                    0   \n",
       "444    2020-03-01  Sao Paulo          0                    0   \n",
       "445    2020-03-02  Sao Paulo          0                    0   \n",
       "446    2020-03-03  Sao Paulo          0                    0   \n",
       "447    2020-03-04  Sao Paulo          1                    0   \n",
       "\n",
       "     new_cases_per_100K  mavg_7day_per_100k_new_cases  daily_temp  \\\n",
       "443                0.00                           0.0       20.47   \n",
       "444                0.00                           0.0       19.50   \n",
       "445                0.00                           0.0       19.61   \n",
       "446                0.00                           0.0       19.17   \n",
       "447                0.01                           0.0       19.61   \n",
       "\n",
       "     daily_humidity  mavg_7_temp  mavg_7_humidity  mavg_15_temp  \\\n",
       "443           85.96        20.22            83.51         22.21   \n",
       "444           85.50        20.37            83.58         22.16   \n",
       "445           85.81        20.49            84.47         21.90   \n",
       "446           85.53        20.32            85.33         21.61   \n",
       "447           79.08        19.79            85.83         21.24   \n",
       "\n",
       "     mavg_15_humidity  \n",
       "443             80.34  \n",
       "444             80.81  \n",
       "445             81.65  \n",
       "446             82.19  \n",
       "447             82.76  "
      ]
     },
     "execution_count": 76,
     "metadata": {},
     "output_type": "execute_result"
    }
   ],
   "source": [
    "#extract only SP data\n",
    "SP_Combined_df = Combined_df.loc[Combined_df['City']=='Sao Paulo']\n",
    "print (SP_Combined_df.shape)\n",
    "SP_Combined_df.head()"
   ]
  },
  {
   "cell_type": "markdown",
   "metadata": {},
   "source": [
    "# Linear Regression Analysis-Both Cities"
   ]
  },
  {
   "cell_type": "code",
   "execution_count": 77,
   "metadata": {},
   "outputs": [
    {
     "name": "stdout",
     "output_type": "stream",
     "text": [
      "(886, 15)\n"
     ]
    },
    {
     "data": {
      "text/html": [
       "<div>\n",
       "<style scoped>\n",
       "    .dataframe tbody tr th:only-of-type {\n",
       "        vertical-align: middle;\n",
       "    }\n",
       "\n",
       "    .dataframe tbody tr th {\n",
       "        vertical-align: top;\n",
       "    }\n",
       "\n",
       "    .dataframe thead th {\n",
       "        text-align: right;\n",
       "    }\n",
       "</style>\n",
       "<table border=\"1\" class=\"dataframe\">\n",
       "  <thead>\n",
       "    <tr style=\"text-align: right;\">\n",
       "      <th></th>\n",
       "      <th>Reported_Date</th>\n",
       "      <th>City</th>\n",
       "      <th>is_newyork</th>\n",
       "      <th>Population</th>\n",
       "      <th>Data Source</th>\n",
       "      <th>New_Cases</th>\n",
       "      <th>mavg_7day_new_cases</th>\n",
       "      <th>new_cases_per_100K</th>\n",
       "      <th>mavg_7day_per_100k_new_cases</th>\n",
       "      <th>daily_temp</th>\n",
       "      <th>daily_humidity</th>\n",
       "      <th>mavg_7_temp</th>\n",
       "      <th>mavg_7_humidity</th>\n",
       "      <th>mavg_15_temp</th>\n",
       "      <th>mavg_15_humidity</th>\n",
       "    </tr>\n",
       "  </thead>\n",
       "  <tbody>\n",
       "    <tr>\n",
       "      <th>0</th>\n",
       "      <td>2020-02-29</td>\n",
       "      <td>New York</td>\n",
       "      <td>1</td>\n",
       "      <td>18804000</td>\n",
       "      <td>'https://github.com/nychealth/coronavirus-data...</td>\n",
       "      <td>1</td>\n",
       "      <td>0</td>\n",
       "      <td>0.01</td>\n",
       "      <td>0.0</td>\n",
       "      <td>0.40</td>\n",
       "      <td>44.08</td>\n",
       "      <td>5.70</td>\n",
       "      <td>58.96</td>\n",
       "      <td>3.50</td>\n",
       "      <td>56.27</td>\n",
       "    </tr>\n",
       "    <tr>\n",
       "      <th>1</th>\n",
       "      <td>2020-03-01</td>\n",
       "      <td>New York</td>\n",
       "      <td>1</td>\n",
       "      <td>18804000</td>\n",
       "      <td>'https://github.com/nychealth/coronavirus-data...</td>\n",
       "      <td>0</td>\n",
       "      <td>0</td>\n",
       "      <td>0.00</td>\n",
       "      <td>0.0</td>\n",
       "      <td>-0.10</td>\n",
       "      <td>45.71</td>\n",
       "      <td>5.39</td>\n",
       "      <td>59.61</td>\n",
       "      <td>3.43</td>\n",
       "      <td>55.59</td>\n",
       "    </tr>\n",
       "    <tr>\n",
       "      <th>2</th>\n",
       "      <td>2020-03-02</td>\n",
       "      <td>New York</td>\n",
       "      <td>1</td>\n",
       "      <td>18804000</td>\n",
       "      <td>'https://github.com/nychealth/coronavirus-data...</td>\n",
       "      <td>0</td>\n",
       "      <td>0</td>\n",
       "      <td>0.00</td>\n",
       "      <td>0.0</td>\n",
       "      <td>6.61</td>\n",
       "      <td>52.25</td>\n",
       "      <td>4.49</td>\n",
       "      <td>61.09</td>\n",
       "      <td>3.82</td>\n",
       "      <td>55.35</td>\n",
       "    </tr>\n",
       "    <tr>\n",
       "      <th>3</th>\n",
       "      <td>2020-03-03</td>\n",
       "      <td>New York</td>\n",
       "      <td>1</td>\n",
       "      <td>18804000</td>\n",
       "      <td>'https://github.com/nychealth/coronavirus-data...</td>\n",
       "      <td>1</td>\n",
       "      <td>0</td>\n",
       "      <td>0.01</td>\n",
       "      <td>0.0</td>\n",
       "      <td>11.27</td>\n",
       "      <td>70.72</td>\n",
       "      <td>4.32</td>\n",
       "      <td>61.56</td>\n",
       "      <td>4.19</td>\n",
       "      <td>54.40</td>\n",
       "    </tr>\n",
       "    <tr>\n",
       "      <th>4</th>\n",
       "      <td>2020-03-04</td>\n",
       "      <td>New York</td>\n",
       "      <td>1</td>\n",
       "      <td>18804000</td>\n",
       "      <td>'https://github.com/nychealth/coronavirus-data...</td>\n",
       "      <td>5</td>\n",
       "      <td>0</td>\n",
       "      <td>0.03</td>\n",
       "      <td>0.0</td>\n",
       "      <td>10.21</td>\n",
       "      <td>58.76</td>\n",
       "      <td>4.69</td>\n",
       "      <td>60.67</td>\n",
       "      <td>4.58</td>\n",
       "      <td>55.59</td>\n",
       "    </tr>\n",
       "  </tbody>\n",
       "</table>\n",
       "</div>"
      ],
      "text/plain": [
       "  Reported_Date      City  is_newyork  Population  \\\n",
       "0    2020-02-29  New York           1    18804000   \n",
       "1    2020-03-01  New York           1    18804000   \n",
       "2    2020-03-02  New York           1    18804000   \n",
       "3    2020-03-03  New York           1    18804000   \n",
       "4    2020-03-04  New York           1    18804000   \n",
       "\n",
       "                                         Data Source  New_Cases  \\\n",
       "0  'https://github.com/nychealth/coronavirus-data...          1   \n",
       "1  'https://github.com/nychealth/coronavirus-data...          0   \n",
       "2  'https://github.com/nychealth/coronavirus-data...          0   \n",
       "3  'https://github.com/nychealth/coronavirus-data...          1   \n",
       "4  'https://github.com/nychealth/coronavirus-data...          5   \n",
       "\n",
       "   mavg_7day_new_cases  new_cases_per_100K  mavg_7day_per_100k_new_cases  \\\n",
       "0                    0                0.01                           0.0   \n",
       "1                    0                0.00                           0.0   \n",
       "2                    0                0.00                           0.0   \n",
       "3                    0                0.01                           0.0   \n",
       "4                    0                0.03                           0.0   \n",
       "\n",
       "   daily_temp  daily_humidity  mavg_7_temp  mavg_7_humidity  mavg_15_temp  \\\n",
       "0        0.40           44.08         5.70            58.96          3.50   \n",
       "1       -0.10           45.71         5.39            59.61          3.43   \n",
       "2        6.61           52.25         4.49            61.09          3.82   \n",
       "3       11.27           70.72         4.32            61.56          4.19   \n",
       "4       10.21           58.76         4.69            60.67          4.58   \n",
       "\n",
       "   mavg_15_humidity  \n",
       "0             56.27  \n",
       "1             55.59  \n",
       "2             55.35  \n",
       "3             54.40  \n",
       "4             55.59  "
      ]
     },
     "execution_count": 77,
     "metadata": {},
     "output_type": "execute_result"
    }
   ],
   "source": [
    "print(Combined_df_all.shape)\n",
    "Combined_df_all.head()\n"
   ]
  },
  {
   "cell_type": "code",
   "execution_count": 78,
   "metadata": {},
   "outputs": [
    {
     "data": {
      "text/html": [
       "<div>\n",
       "<style scoped>\n",
       "    .dataframe tbody tr th:only-of-type {\n",
       "        vertical-align: middle;\n",
       "    }\n",
       "\n",
       "    .dataframe tbody tr th {\n",
       "        vertical-align: top;\n",
       "    }\n",
       "\n",
       "    .dataframe thead th {\n",
       "        text-align: right;\n",
       "    }\n",
       "</style>\n",
       "<table border=\"1\" class=\"dataframe\">\n",
       "  <thead>\n",
       "    <tr style=\"text-align: right;\">\n",
       "      <th></th>\n",
       "      <th>is_newyork</th>\n",
       "      <th>New_Cases</th>\n",
       "      <th>mavg_7day_new_cases</th>\n",
       "      <th>new_cases_per_100K</th>\n",
       "      <th>mavg_7day_per_100k_new_cases</th>\n",
       "      <th>daily_temp</th>\n",
       "      <th>daily_humidity</th>\n",
       "      <th>mavg_7_temp</th>\n",
       "      <th>mavg_7_humidity</th>\n",
       "      <th>mavg_15_temp</th>\n",
       "      <th>mavg_15_humidity</th>\n",
       "    </tr>\n",
       "  </thead>\n",
       "  <tbody>\n",
       "    <tr>\n",
       "      <th>0</th>\n",
       "      <td>1</td>\n",
       "      <td>1</td>\n",
       "      <td>0</td>\n",
       "      <td>0.01</td>\n",
       "      <td>0.0</td>\n",
       "      <td>0.40</td>\n",
       "      <td>44.08</td>\n",
       "      <td>5.70</td>\n",
       "      <td>58.96</td>\n",
       "      <td>3.50</td>\n",
       "      <td>56.27</td>\n",
       "    </tr>\n",
       "    <tr>\n",
       "      <th>1</th>\n",
       "      <td>1</td>\n",
       "      <td>0</td>\n",
       "      <td>0</td>\n",
       "      <td>0.00</td>\n",
       "      <td>0.0</td>\n",
       "      <td>-0.10</td>\n",
       "      <td>45.71</td>\n",
       "      <td>5.39</td>\n",
       "      <td>59.61</td>\n",
       "      <td>3.43</td>\n",
       "      <td>55.59</td>\n",
       "    </tr>\n",
       "    <tr>\n",
       "      <th>2</th>\n",
       "      <td>1</td>\n",
       "      <td>0</td>\n",
       "      <td>0</td>\n",
       "      <td>0.00</td>\n",
       "      <td>0.0</td>\n",
       "      <td>6.61</td>\n",
       "      <td>52.25</td>\n",
       "      <td>4.49</td>\n",
       "      <td>61.09</td>\n",
       "      <td>3.82</td>\n",
       "      <td>55.35</td>\n",
       "    </tr>\n",
       "    <tr>\n",
       "      <th>3</th>\n",
       "      <td>1</td>\n",
       "      <td>1</td>\n",
       "      <td>0</td>\n",
       "      <td>0.01</td>\n",
       "      <td>0.0</td>\n",
       "      <td>11.27</td>\n",
       "      <td>70.72</td>\n",
       "      <td>4.32</td>\n",
       "      <td>61.56</td>\n",
       "      <td>4.19</td>\n",
       "      <td>54.40</td>\n",
       "    </tr>\n",
       "    <tr>\n",
       "      <th>4</th>\n",
       "      <td>1</td>\n",
       "      <td>5</td>\n",
       "      <td>0</td>\n",
       "      <td>0.03</td>\n",
       "      <td>0.0</td>\n",
       "      <td>10.21</td>\n",
       "      <td>58.76</td>\n",
       "      <td>4.69</td>\n",
       "      <td>60.67</td>\n",
       "      <td>4.58</td>\n",
       "      <td>55.59</td>\n",
       "    </tr>\n",
       "  </tbody>\n",
       "</table>\n",
       "</div>"
      ],
      "text/plain": [
       "   is_newyork  New_Cases  mavg_7day_new_cases  new_cases_per_100K  \\\n",
       "0           1          1                    0                0.01   \n",
       "1           1          0                    0                0.00   \n",
       "2           1          0                    0                0.00   \n",
       "3           1          1                    0                0.01   \n",
       "4           1          5                    0                0.03   \n",
       "\n",
       "   mavg_7day_per_100k_new_cases  daily_temp  daily_humidity  mavg_7_temp  \\\n",
       "0                           0.0        0.40           44.08         5.70   \n",
       "1                           0.0       -0.10           45.71         5.39   \n",
       "2                           0.0        6.61           52.25         4.49   \n",
       "3                           0.0       11.27           70.72         4.32   \n",
       "4                           0.0       10.21           58.76         4.69   \n",
       "\n",
       "   mavg_7_humidity  mavg_15_temp  mavg_15_humidity  \n",
       "0            58.96          3.50             56.27  \n",
       "1            59.61          3.43             55.59  \n",
       "2            61.09          3.82             55.35  \n",
       "3            61.56          4.19             54.40  \n",
       "4            60.67          4.58             55.59  "
      ]
     },
     "execution_count": 78,
     "metadata": {},
     "output_type": "execute_result"
    }
   ],
   "source": [
    "Combined_df_all_Reg= Combined_df_all.drop([\"Reported_Date\",\"City\",\"Population\",\"Data Source\"], axis=1)\n",
    "Combined_df_all_Reg.head()"
   ]
  },
  {
   "cell_type": "markdown",
   "metadata": {},
   "source": [
    "Regression Visual- 15 Day Avg Temp' and '15 Day Avg Humidity' against 'mavg_7day_per_100k_new_cases'"
   ]
  },
  {
   "cell_type": "code",
   "execution_count": 85,
   "metadata": {},
   "outputs": [
    {
     "data": {
      "text/plain": [
       "<AxesSubplot:xlabel='mavg_15_humidity', ylabel='mavg_7day_per_100k_new_cases'>"
      ]
     },
     "execution_count": 85,
     "metadata": {},
     "output_type": "execute_result"
    },
    {
     "data": {
      "image/png": "[encoded data removed]",
      "text/plain": [
       "<Figure size 432x288 with 1 Axes>"
      ]
     },
     "metadata": {
      "needs_background": "light"
     },
     "output_type": "display_data"
    },
    {
     "data": {
      "image/png": "[encoded data removed]",
      "text/plain": [
       "<Figure size 432x288 with 1 Axes>"
      ]
     },
     "metadata": {
      "needs_background": "light"
     },
     "output_type": "display_data"
    }
   ],
   "source": [
    "# Plot a scatter plot of '15 Day Avg Temp' and '15 Day Avg Humidity' against 'mavg_7day_per_100k_new_cases'\n",
    "Combined_df_all_Reg.plot(kind='scatter', x='mavg_15_temp', y='mavg_7day_per_100k_new_cases')\n",
    "Combined_df_all_Reg.plot(kind='scatter', x='mavg_15_humidity', y='mavg_7day_per_100k_new_cases')"
   ]
  },
  {
   "cell_type": "markdown",
   "metadata": {},
   "source": [
    "Simple Linear Regression Model- TEMPRETURE, HUMIDITY, CITY CODE with MAVG_7day_per_100k_new_cases\n"
   ]
  },
  {
   "cell_type": "code",
   "execution_count": 80,
   "metadata": {},
   "outputs": [],
   "source": [
    "from sklearn import linear_model\n",
    "from sklearn.metrics import mean_squared_error, r2_score\n",
    "from sklearn.model_selection import train_test_split # Use the Sklearn `train_test_split()` function to split the data into training"
   ]
  },
  {
   "cell_type": "code",
   "execution_count": 81,
   "metadata": {},
   "outputs": [
    {
     "name": "stdout",
     "output_type": "stream",
     "text": [
      "Shape:  (886, 3) (886, 1)\n"
     ]
    }
   ],
   "source": [
    "# Assign the data to X and y\n",
    "# Note: Sklearn requires a two-dimensional array of values\n",
    "# so we use reshape() to create this\n",
    "\n",
    "X_all = Combined_df_all_Reg[[\"mavg_15_temp\",\"mavg_15_humidity\",\"is_newyork\"]]\n",
    "y_all = Combined_df_all_Reg[\"mavg_7day_per_100k_new_cases\"].values.reshape(-1, 1)\n",
    "\n",
    "print(\"Shape: \", X_all.shape, y_all.shape)\n",
    "#print(X_all)\n",
    "#print(y_all)"
   ]
  },
  {
   "cell_type": "code",
   "execution_count": 82,
   "metadata": {},
   "outputs": [],
   "source": [
    "#WE are not splitting the data as we want to use all data into the train  \n",
    "#X_all_train, X_all_test, y_all_train, y_all_test = train_test_split(X_all, y_all, random_state=42,stratify = True)\n",
    "#X_all_train, X_all_test, y_all_train, y_all_test = train_test_split(X_all, y_all, train_size=1.0,test_size=0.0, random_state=42)"
   ]
  },
  {
   "cell_type": "code",
   "execution_count": 66,
   "metadata": {},
   "outputs": [
    {
     "data": {
      "text/plain": [
       "LinearRegression()"
      ]
     },
     "execution_count": 66,
     "metadata": {},
     "output_type": "execute_result"
    }
   ],
   "source": [
    "# Create the model\n",
    "model_all = linear_model.LinearRegression()\n",
    "# Fit the model to the training data. \n",
    "model_all.fit(X_all, y_all)"
   ]
  },
  {
   "cell_type": "code",
   "execution_count": 67,
   "metadata": {},
   "outputs": [
    {
     "name": "stdout",
     "output_type": "stream",
     "text": [
      "mean squared error (MSE): 48.809054423686256\n",
      "R-squared (R2): 0.3177470498469601\n",
      "Coefficients: \n",
      " [[ -0.67294798  -0.02484348 -10.39035159]]\n",
      "intercept: [29.84871747]\n"
     ]
    }
   ],
   "source": [
    "# Use our model to make predictions\n",
    "predicted= model_all.predict(X_all)\n",
    "\n",
    "# Score the predictions with mse and r2\n",
    "# Calculate the mean_squared_error and the r-squared value for the testing data\n",
    "mse = mean_squared_error(y_all, predicted) #There is no correct value for MSE. Simply put, the lower the value the better and 0 means the model is perfect. Since there is no correct answer, the MSE’s basic value is in selecting one prediction model over another.\n",
    "r2 = r2_score(y_all, predicted) #there is also no correct answer as to what R2 should be. 100% means perfect correlation. Yet, there are models with a low R2 that are still good models.\n",
    "\n",
    "print(f\"mean squared error (MSE): {mse}\")\n",
    "print(f\"R-squared (R2): {r2}\")\n",
    "print('Coefficients: \\n', model_all.coef_)\n",
    "print('intercept:', model_all.intercept_)"
   ]
  },
  {
   "cell_type": "code",
   "execution_count": 68,
   "metadata": {},
   "outputs": [
    {
     "data": {
      "text/plain": [
       "0.3177470498469601"
      ]
     },
     "execution_count": 68,
     "metadata": {},
     "output_type": "execute_result"
    }
   ],
   "source": [
    "# Call the `score()` method on the model to show the R2 score\n",
    "model_all.score(X_all, y_all)"
   ]
  },
  {
   "cell_type": "markdown",
   "metadata": {},
   "source": [
    "Modified Regression Model for TEMP only- TEMPRETURE, CITY CODE with MAVG_7day_per_100k_new_cases"
   ]
  },
  {
   "cell_type": "code",
   "execution_count": 26,
   "metadata": {},
   "outputs": [
    {
     "name": "stdout",
     "output_type": "stream",
     "text": [
      "Shape:  (886, 2) (886, 1)\n"
     ]
    }
   ],
   "source": [
    "# Assign the data to X and y\n",
    "# Note: Sklearn requires a two-dimensional array of values\n",
    "# so we use reshape() to create this\n",
    "\n",
    "X_all_temp = Combined_df_all_Reg[[\"mavg_15_temp\",\"is_newyork\"]]\n",
    "y_all_temp = Combined_df_all_Reg[\"mavg_7day_per_100k_new_cases\"].values.reshape(-1, 1)\n",
    "\n",
    "print(\"Shape: \", X_all_temp.shape, y_all_temp.shape)\n",
    "#print(X_all_temp)\n",
    "#print(y_all_temp)"
   ]
  },
  {
   "cell_type": "code",
   "execution_count": 27,
   "metadata": {},
   "outputs": [
    {
     "data": {
      "text/plain": [
       "LinearRegression()"
      ]
     },
     "execution_count": 27,
     "metadata": {},
     "output_type": "execute_result"
    }
   ],
   "source": [
    "# Create the model\n",
    "model_all_temp = linear_model.LinearRegression()\n",
    "# Fit the model to the training data. \n",
    "model_all_temp.fit(X_all_temp, y_all_temp)"
   ]
  },
  {
   "cell_type": "code",
   "execution_count": 28,
   "metadata": {},
   "outputs": [
    {
     "name": "stdout",
     "output_type": "stream",
     "text": [
      "mean squared error (MSE): 48.82446095385067\n",
      "R-squared (R2): 0.31753169737229314\n",
      "Coefficients: \n",
      " [[ -0.67983045 -10.26442788]]\n",
      "intercept: [28.22399894]\n"
     ]
    }
   ],
   "source": [
    "# Use our model to make predictions\n",
    "predicted= model_all_temp.predict(X_all_temp)\n",
    "\n",
    "# Score the predictions with mse and r2\n",
    "# Calculate the mean_squared_error and the r-squared value for the testing data\n",
    "mse = mean_squared_error(y_all_temp, predicted) #There is no correct value for MSE. Simply put, the lower the value the better and 0 means the model is perfect. Since there is no correct answer, the MSE’s basic value is in selecting one prediction model over another.\n",
    "r2 = r2_score(y_all_temp, predicted) #there is also no correct answer as to what R2 should be. 100% means perfect correlation. Yet, there are models with a low R2 that are still good models.\n",
    "\n",
    "print(f\"mean squared error (MSE): {mse}\")\n",
    "print(f\"R-squared (R2): {r2}\")\n",
    "print('Coefficients: \\n', model_all_temp.coef_)\n",
    "print('intercept:', model_all_temp.intercept_)"
   ]
  },
  {
   "cell_type": "code",
   "execution_count": 50,
   "metadata": {},
   "outputs": [
    {
     "data": {
      "text/plain": [
       "0.31753169737229314"
      ]
     },
     "execution_count": 50,
     "metadata": {},
     "output_type": "execute_result"
    }
   ],
   "source": [
    "# Call the `score()` method on the model to show the R2 score\n",
    "model_all_temp.score(X_all_temp, y_all_temp)"
   ]
  },
  {
   "cell_type": "markdown",
   "metadata": {},
   "source": [
    "Modiefied Regression Model with only HUMIDITY- HUMIDITY, CITY CODE with MAVG_7day_per_100k_new_cases"
   ]
  },
  {
   "cell_type": "code",
   "execution_count": 29,
   "metadata": {},
   "outputs": [
    {
     "name": "stdout",
     "output_type": "stream",
     "text": [
      "Shape:  (886, 2) (886, 1)\n"
     ]
    }
   ],
   "source": [
    "# Assign the data to X and y\n",
    "# Note: Sklearn requires a two-dimensional array of values\n",
    "# so we use reshape() to create this\n",
    "\n",
    "X_all_humidity = Combined_df_all_Reg[[\"mavg_15_humidity\",\"is_newyork\"]]\n",
    "y_all_humidity = Combined_df_all_Reg[\"mavg_7day_per_100k_new_cases\"].values.reshape(-1, 1)\n",
    "\n",
    "print(\"Shape: \", X_all_humidity.shape, y_all_humidity.shape)\n",
    "#print(X_all_humidity)\n",
    "#print(y_all_humidity)"
   ]
  },
  {
   "cell_type": "code",
   "execution_count": 30,
   "metadata": {},
   "outputs": [
    {
     "data": {
      "text/plain": [
       "LinearRegression()"
      ]
     },
     "execution_count": 30,
     "metadata": {},
     "output_type": "execute_result"
    }
   ],
   "source": [
    "# Create the model\n",
    "model_all_humidity = linear_model.LinearRegression()\n",
    "# Fit the model to the training data. \n",
    "model_all_humidity.fit(X_all_humidity, y_all_humidity)"
   ]
  },
  {
   "cell_type": "code",
   "execution_count": 31,
   "metadata": {},
   "outputs": [
    {
     "name": "stdout",
     "output_type": "stream",
     "text": [
      "mean squared error (MSE): 63.67633276815933\n",
      "R-squared (R2): 0.10993223698017363\n",
      "Coefficients: \n",
      " [[-0.27003314 -6.7996264 ]]\n",
      "intercept: [33.37821733]\n"
     ]
    }
   ],
   "source": [
    "# Use our model to make predictions\n",
    "predicted= model_all_humidity.predict(X_all_humidity)\n",
    "\n",
    "# Score the predictions with mse and r2\n",
    "# Calculate the mean_squared_error and the r-squared value for the testing data\n",
    "mse = mean_squared_error(y_all_humidity, predicted) #There is no correct value for MSE. Simply put, the lower the value the better and 0 means the model is perfect. Since there is no correct answer, the MSE’s basic value is in selecting one prediction model over another.\n",
    "r2 = r2_score(y_all_humidity, predicted) #there is also no correct answer as to what R2 should be. 100% means perfect correlation. Yet, there are models with a low R2 that are still good models.\n",
    "\n",
    "print(f\"mean squared error (MSE): {mse}\")\n",
    "print(f\"R-squared (R2): {r2}\")\n",
    "print('Coefficients: \\n', model_all_humidity.coef_)\n",
    "print('intercept:', model_all_humidity.intercept_)"
   ]
  },
  {
   "cell_type": "code",
   "execution_count": 49,
   "metadata": {},
   "outputs": [
    {
     "data": {
      "text/plain": [
       "0.10993223698017363"
      ]
     },
     "execution_count": 49,
     "metadata": {},
     "output_type": "execute_result"
    }
   ],
   "source": [
    "# Call the `score()` method on the model to show the R2 score\n",
    "model_all_humidity.score(X_all_humidity, y_all_humidity)"
   ]
  },
  {
   "cell_type": "markdown",
   "metadata": {},
   "source": [
    "# Linear Regression- New York alone"
   ]
  },
  {
   "cell_type": "code",
   "execution_count": 34,
   "metadata": {},
   "outputs": [
    {
     "name": "stdout",
     "output_type": "stream",
     "text": [
      "(443, 12)\n"
     ]
    },
    {
     "data": {
      "text/html": [
       "<div>\n",
       "<style scoped>\n",
       "    .dataframe tbody tr th:only-of-type {\n",
       "        vertical-align: middle;\n",
       "    }\n",
       "\n",
       "    .dataframe tbody tr th {\n",
       "        vertical-align: top;\n",
       "    }\n",
       "\n",
       "    .dataframe thead th {\n",
       "        text-align: right;\n",
       "    }\n",
       "</style>\n",
       "<table border=\"1\" class=\"dataframe\">\n",
       "  <thead>\n",
       "    <tr style=\"text-align: right;\">\n",
       "      <th></th>\n",
       "      <th>Reported_Date</th>\n",
       "      <th>City</th>\n",
       "      <th>New_Cases</th>\n",
       "      <th>mavg_7day_new_cases</th>\n",
       "      <th>new_cases_per_100K</th>\n",
       "      <th>mavg_7day_per_100k_new_cases</th>\n",
       "      <th>daily_temp</th>\n",
       "      <th>daily_humidity</th>\n",
       "      <th>mavg_7_temp</th>\n",
       "      <th>mavg_7_humidity</th>\n",
       "      <th>mavg_15_temp</th>\n",
       "      <th>mavg_15_humidity</th>\n",
       "    </tr>\n",
       "  </thead>\n",
       "  <tbody>\n",
       "    <tr>\n",
       "      <th>0</th>\n",
       "      <td>2020-02-29</td>\n",
       "      <td>New York</td>\n",
       "      <td>1</td>\n",
       "      <td>0</td>\n",
       "      <td>0.01</td>\n",
       "      <td>0.0</td>\n",
       "      <td>0.40</td>\n",
       "      <td>44.08</td>\n",
       "      <td>5.70</td>\n",
       "      <td>58.96</td>\n",
       "      <td>3.50</td>\n",
       "      <td>56.27</td>\n",
       "    </tr>\n",
       "    <tr>\n",
       "      <th>1</th>\n",
       "      <td>2020-03-01</td>\n",
       "      <td>New York</td>\n",
       "      <td>0</td>\n",
       "      <td>0</td>\n",
       "      <td>0.00</td>\n",
       "      <td>0.0</td>\n",
       "      <td>-0.10</td>\n",
       "      <td>45.71</td>\n",
       "      <td>5.39</td>\n",
       "      <td>59.61</td>\n",
       "      <td>3.43</td>\n",
       "      <td>55.59</td>\n",
       "    </tr>\n",
       "    <tr>\n",
       "      <th>2</th>\n",
       "      <td>2020-03-02</td>\n",
       "      <td>New York</td>\n",
       "      <td>0</td>\n",
       "      <td>0</td>\n",
       "      <td>0.00</td>\n",
       "      <td>0.0</td>\n",
       "      <td>6.61</td>\n",
       "      <td>52.25</td>\n",
       "      <td>4.49</td>\n",
       "      <td>61.09</td>\n",
       "      <td>3.82</td>\n",
       "      <td>55.35</td>\n",
       "    </tr>\n",
       "    <tr>\n",
       "      <th>3</th>\n",
       "      <td>2020-03-03</td>\n",
       "      <td>New York</td>\n",
       "      <td>1</td>\n",
       "      <td>0</td>\n",
       "      <td>0.01</td>\n",
       "      <td>0.0</td>\n",
       "      <td>11.27</td>\n",
       "      <td>70.72</td>\n",
       "      <td>4.32</td>\n",
       "      <td>61.56</td>\n",
       "      <td>4.19</td>\n",
       "      <td>54.40</td>\n",
       "    </tr>\n",
       "    <tr>\n",
       "      <th>4</th>\n",
       "      <td>2020-03-04</td>\n",
       "      <td>New York</td>\n",
       "      <td>5</td>\n",
       "      <td>0</td>\n",
       "      <td>0.03</td>\n",
       "      <td>0.0</td>\n",
       "      <td>10.21</td>\n",
       "      <td>58.76</td>\n",
       "      <td>4.69</td>\n",
       "      <td>60.67</td>\n",
       "      <td>4.58</td>\n",
       "      <td>55.59</td>\n",
       "    </tr>\n",
       "  </tbody>\n",
       "</table>\n",
       "</div>"
      ],
      "text/plain": [
       "  Reported_Date      City  New_Cases  mavg_7day_new_cases  new_cases_per_100K  \\\n",
       "0    2020-02-29  New York          1                    0                0.01   \n",
       "1    2020-03-01  New York          0                    0                0.00   \n",
       "2    2020-03-02  New York          0                    0                0.00   \n",
       "3    2020-03-03  New York          1                    0                0.01   \n",
       "4    2020-03-04  New York          5                    0                0.03   \n",
       "\n",
       "   mavg_7day_per_100k_new_cases  daily_temp  daily_humidity  mavg_7_temp  \\\n",
       "0                           0.0        0.40           44.08         5.70   \n",
       "1                           0.0       -0.10           45.71         5.39   \n",
       "2                           0.0        6.61           52.25         4.49   \n",
       "3                           0.0       11.27           70.72         4.32   \n",
       "4                           0.0       10.21           58.76         4.69   \n",
       "\n",
       "   mavg_7_humidity  mavg_15_temp  mavg_15_humidity  \n",
       "0            58.96          3.50             56.27  \n",
       "1            59.61          3.43             55.59  \n",
       "2            61.09          3.82             55.35  \n",
       "3            61.56          4.19             54.40  \n",
       "4            60.67          4.58             55.59  "
      ]
     },
     "execution_count": 34,
     "metadata": {},
     "output_type": "execute_result"
    }
   ],
   "source": [
    "print(NY_Combined_df.shape)\n",
    "NY_Combined_df.head()\n"
   ]
  },
  {
   "cell_type": "code",
   "execution_count": 35,
   "metadata": {},
   "outputs": [
    {
     "data": {
      "text/html": [
       "<div>\n",
       "<style scoped>\n",
       "    .dataframe tbody tr th:only-of-type {\n",
       "        vertical-align: middle;\n",
       "    }\n",
       "\n",
       "    .dataframe tbody tr th {\n",
       "        vertical-align: top;\n",
       "    }\n",
       "\n",
       "    .dataframe thead th {\n",
       "        text-align: right;\n",
       "    }\n",
       "</style>\n",
       "<table border=\"1\" class=\"dataframe\">\n",
       "  <thead>\n",
       "    <tr style=\"text-align: right;\">\n",
       "      <th></th>\n",
       "      <th>New_Cases</th>\n",
       "      <th>mavg_7day_new_cases</th>\n",
       "      <th>new_cases_per_100K</th>\n",
       "      <th>mavg_7day_per_100k_new_cases</th>\n",
       "      <th>daily_temp</th>\n",
       "      <th>daily_humidity</th>\n",
       "      <th>mavg_7_temp</th>\n",
       "      <th>mavg_7_humidity</th>\n",
       "      <th>mavg_15_temp</th>\n",
       "      <th>mavg_15_humidity</th>\n",
       "    </tr>\n",
       "  </thead>\n",
       "  <tbody>\n",
       "    <tr>\n",
       "      <th>0</th>\n",
       "      <td>1</td>\n",
       "      <td>0</td>\n",
       "      <td>0.01</td>\n",
       "      <td>0.0</td>\n",
       "      <td>0.40</td>\n",
       "      <td>44.08</td>\n",
       "      <td>5.70</td>\n",
       "      <td>58.96</td>\n",
       "      <td>3.50</td>\n",
       "      <td>56.27</td>\n",
       "    </tr>\n",
       "    <tr>\n",
       "      <th>1</th>\n",
       "      <td>0</td>\n",
       "      <td>0</td>\n",
       "      <td>0.00</td>\n",
       "      <td>0.0</td>\n",
       "      <td>-0.10</td>\n",
       "      <td>45.71</td>\n",
       "      <td>5.39</td>\n",
       "      <td>59.61</td>\n",
       "      <td>3.43</td>\n",
       "      <td>55.59</td>\n",
       "    </tr>\n",
       "    <tr>\n",
       "      <th>2</th>\n",
       "      <td>0</td>\n",
       "      <td>0</td>\n",
       "      <td>0.00</td>\n",
       "      <td>0.0</td>\n",
       "      <td>6.61</td>\n",
       "      <td>52.25</td>\n",
       "      <td>4.49</td>\n",
       "      <td>61.09</td>\n",
       "      <td>3.82</td>\n",
       "      <td>55.35</td>\n",
       "    </tr>\n",
       "    <tr>\n",
       "      <th>3</th>\n",
       "      <td>1</td>\n",
       "      <td>0</td>\n",
       "      <td>0.01</td>\n",
       "      <td>0.0</td>\n",
       "      <td>11.27</td>\n",
       "      <td>70.72</td>\n",
       "      <td>4.32</td>\n",
       "      <td>61.56</td>\n",
       "      <td>4.19</td>\n",
       "      <td>54.40</td>\n",
       "    </tr>\n",
       "    <tr>\n",
       "      <th>4</th>\n",
       "      <td>5</td>\n",
       "      <td>0</td>\n",
       "      <td>0.03</td>\n",
       "      <td>0.0</td>\n",
       "      <td>10.21</td>\n",
       "      <td>58.76</td>\n",
       "      <td>4.69</td>\n",
       "      <td>60.67</td>\n",
       "      <td>4.58</td>\n",
       "      <td>55.59</td>\n",
       "    </tr>\n",
       "  </tbody>\n",
       "</table>\n",
       "</div>"
      ],
      "text/plain": [
       "   New_Cases  mavg_7day_new_cases  new_cases_per_100K  \\\n",
       "0          1                    0                0.01   \n",
       "1          0                    0                0.00   \n",
       "2          0                    0                0.00   \n",
       "3          1                    0                0.01   \n",
       "4          5                    0                0.03   \n",
       "\n",
       "   mavg_7day_per_100k_new_cases  daily_temp  daily_humidity  mavg_7_temp  \\\n",
       "0                           0.0        0.40           44.08         5.70   \n",
       "1                           0.0       -0.10           45.71         5.39   \n",
       "2                           0.0        6.61           52.25         4.49   \n",
       "3                           0.0       11.27           70.72         4.32   \n",
       "4                           0.0       10.21           58.76         4.69   \n",
       "\n",
       "   mavg_7_humidity  mavg_15_temp  mavg_15_humidity  \n",
       "0            58.96          3.50             56.27  \n",
       "1            59.61          3.43             55.59  \n",
       "2            61.09          3.82             55.35  \n",
       "3            61.56          4.19             54.40  \n",
       "4            60.67          4.58             55.59  "
      ]
     },
     "execution_count": 35,
     "metadata": {},
     "output_type": "execute_result"
    }
   ],
   "source": [
    "NY_Combined_Reg= NY_Combined_df.drop([\"Reported_Date\",\"City\"], axis=1)\n",
    "NY_Combined_Reg.head()"
   ]
  },
  {
   "cell_type": "markdown",
   "metadata": {},
   "source": [
    "Regression- 15 Day Avg Temp' and '15 Day Avg Humidity' against 'mavg_7day_per_100k_new_cases'"
   ]
  },
  {
   "cell_type": "code",
   "execution_count": 84,
   "metadata": {},
   "outputs": [
    {
     "data": {
      "text/plain": [
       "<AxesSubplot:xlabel='mavg_15_humidity', ylabel='mavg_7day_per_100k_new_cases'>"
      ]
     },
     "execution_count": 84,
     "metadata": {},
     "output_type": "execute_result"
    },
    {
     "data": {
      "image/png": "[encoded data removed]",
      "text/plain": [
       "<Figure size 432x288 with 1 Axes>"
      ]
     },
     "metadata": {
      "needs_background": "light"
     },
     "output_type": "display_data"
    },
    {
     "data": {
      "image/png": "[encoded data removed]",
      "text/plain": [
       "<Figure size 432x288 with 1 Axes>"
      ]
     },
     "metadata": {
      "needs_background": "light"
     },
     "output_type": "display_data"
    }
   ],
   "source": [
    "# Plot a scatter plot of '15 Day Avg Temp' and '15 Day Avg Humidity' against 'mavg_7day_per_100k_new_cases'\n",
    "NY_Combined_Reg.plot(kind='scatter', x='mavg_15_temp', y='mavg_7day_per_100k_new_cases')\n",
    "NY_Combined_Reg.plot(kind='scatter', x='mavg_15_humidity', y='mavg_7day_per_100k_new_cases')"
   ]
  },
  {
   "cell_type": "markdown",
   "metadata": {},
   "source": [
    "Simple Linear Regression Model- TEMPRETURE, HUMIDITY with MAVG_7day_per_100k_new_cases"
   ]
  },
  {
   "cell_type": "code",
   "execution_count": 37,
   "metadata": {},
   "outputs": [],
   "source": [
    "from sklearn import linear_model\n",
    "from sklearn.metrics import mean_squared_error, r2_score\n",
    "from sklearn.model_selection import train_test_split # Use the Sklearn `train_test_split()` function to split the data into training and testing data"
   ]
  },
  {
   "cell_type": "code",
   "execution_count": 42,
   "metadata": {},
   "outputs": [
    {
     "name": "stdout",
     "output_type": "stream",
     "text": [
      "Shape:  (443, 2) (443, 1)\n"
     ]
    }
   ],
   "source": [
    "# Assign the data to X and y\n",
    "# Note: Sklearn requires a two-dimensional array of values\n",
    "# so we use reshape() to create this\n",
    "\n",
    "X_NY_both = NY_Combined_Reg[[\"mavg_15_temp\",\"mavg_15_humidity\"]]\n",
    "y_NY_both = NY_Combined_Reg[\"mavg_7day_per_100k_new_cases\"].values.reshape(-1, 1)\n",
    "\n",
    "print(\"Shape: \", X_NY_both.shape, y_NY_both.shape)\n",
    "#print(X_NY_both)\n",
    "#print(y_NY_both)"
   ]
  },
  {
   "cell_type": "code",
   "execution_count": 43,
   "metadata": {},
   "outputs": [],
   "source": [
    "#WE are not splitting the data as we want to use all data into the train  \n"
   ]
  },
  {
   "cell_type": "code",
   "execution_count": 45,
   "metadata": {},
   "outputs": [],
   "source": [
    "# Create the model\n",
    "model_NY_both = linear_model.LinearRegression()"
   ]
  },
  {
   "cell_type": "code",
   "execution_count": 46,
   "metadata": {},
   "outputs": [
    {
     "data": {
      "text/plain": [
       "LinearRegression()"
      ]
     },
     "execution_count": 46,
     "metadata": {},
     "output_type": "execute_result"
    }
   ],
   "source": [
    "# Fit the model to the training data. \n",
    "#model.fit(X_train, y_train)\n",
    "model_NY_both.fit(X_NY_both, y_NY_both)"
   ]
  },
  {
   "cell_type": "code",
   "execution_count": 47,
   "metadata": {},
   "outputs": [
    {
     "name": "stdout",
     "output_type": "stream",
     "text": [
      "mean squared error (MSE): 26.13768873196065\n",
      "R-squared (R2): 0.5995014517681266\n",
      "Coefficients: \n",
      " [[-0.79141555  0.14548759]]\n",
      "intercept: [10.08624177]\n"
     ]
    }
   ],
   "source": [
    "# Use our model to make predictions\n",
    "predicted = model_NY_both.predict(X_NY_both)\n",
    "\n",
    "# Score the predictions with mse and r2\n",
    "# Calculate the mean_squared_error and the r-squared value for the testing data\n",
    "mse = mean_squared_error(y_NY_both, predicted) #There is no correct value for MSE. Simply put, the lower the value the better and 0 means the model is perfect. Since there is no correct answer, the MSE’s basic value is in selecting one prediction model over another.\n",
    "r2 = r2_score(y_NY_both, predicted) #there is also no correct answer as to what R2 should be. 100% means perfect correlation. Yet, there are models with a low R2 that are still good models.\n",
    "\n",
    "print(f\"mean squared error (MSE): {mse}\")\n",
    "print(f\"R-squared (R2): {r2}\")\n",
    "print('Coefficients: \\n', model_NY_both.coef_)\n",
    "print('intercept:', model_NY_both.intercept_)\n"
   ]
  },
  {
   "cell_type": "code",
   "execution_count": 48,
   "metadata": {},
   "outputs": [
    {
     "data": {
      "text/plain": [
       "0.5995014517681266"
      ]
     },
     "execution_count": 48,
     "metadata": {},
     "output_type": "execute_result"
    }
   ],
   "source": [
    "# Call the `score()` method on the model to show the R2 score\n",
    "model_NY_both.score(X_NY_both, y_NY_both)"
   ]
  },
  {
   "cell_type": "markdown",
   "metadata": {},
   "source": [
    "Modifying model to check difference if only temp is used as a variable"
   ]
  },
  {
   "cell_type": "code",
   "execution_count": 95,
   "metadata": {},
   "outputs": [
    {
     "name": "stdout",
     "output_type": "stream",
     "text": [
      "Shape:  (443, 1) (443, 1)\n"
     ]
    }
   ],
   "source": [
    "# Assign the data to X and y\n",
    "# Note: Sklearn requires a two-dimensional array of values\n",
    "# so we use reshape() to create this\n",
    "\n",
    "X_NY_Temp = NY_Combined_Reg[\"mavg_15_temp\"].values.reshape(-1, 1)\n",
    "y_NY_Temp = NY_Combined_Reg[\"mavg_7day_per_100k_new_cases\"].values.reshape(-1, 1)\n",
    "\n",
    "print(\"Shape: \", X_NY_Temp.shape, y_NY_Temp.shape)\n",
    "#print(X_NY_Temp)\n",
    "#print(y_NY_Temp)"
   ]
  },
  {
   "cell_type": "code",
   "execution_count": 96,
   "metadata": {},
   "outputs": [],
   "source": [
    "# Create the model\n",
    "model_NY_Temp = linear_model.LinearRegression()"
   ]
  },
  {
   "cell_type": "code",
   "execution_count": 99,
   "metadata": {},
   "outputs": [
    {
     "data": {
      "text/plain": [
       "LinearRegression()"
      ]
     },
     "execution_count": 99,
     "metadata": {},
     "output_type": "execute_result"
    }
   ],
   "source": [
    "# Fit the model to the training data. \n",
    "#model.fit(X_train, y_train)\n",
    "model_NY_Temp.fit(X_NY_Temp, y_NY_Temp)"
   ]
  },
  {
   "cell_type": "code",
   "execution_count": 101,
   "metadata": {},
   "outputs": [
    {
     "name": "stdout",
     "output_type": "stream",
     "text": [
      "mean squared error (MSE): 26.90417126223218\n",
      "R-squared (R2): 0.5877569113932358\n",
      "Coefficients: \n",
      " [[-0.75093355]]\n",
      "intercept: [18.86118889]\n"
     ]
    }
   ],
   "source": [
    "# Use our model to make predictions\n",
    "predicted = model_NY_Temp.predict(X_NY_Temp)\n",
    "\n",
    "# Score the predictions with mse and r2\n",
    "# Calculate the mean_squared_error and the r-squared value for the testing data\n",
    "mse = mean_squared_error(y_NY_Temp, predicted) #There is no correct value for MSE. Simply put, the lower the value the better and 0 means the model is perfect. Since there is no correct answer, the MSE’s basic value is in selecting one prediction model over another.\n",
    "r2 = r2_score(y_NY_Temp, predicted) #there is also no correct answer as to what R2 should be. 100% means perfect correlation. Yet, there are models with a low R2 that are still good models.\n",
    "\n",
    "print(f\"mean squared error (MSE): {mse}\")\n",
    "print(f\"R-squared (R2): {r2}\")\n",
    "print('Coefficients: \\n', model_NY_Temp.coef_)\n",
    "print('intercept:', model_NY_Temp.intercept_)"
   ]
  },
  {
   "cell_type": "markdown",
   "metadata": {},
   "source": [
    "# Linear Regression- Sao Paulo alone"
   ]
  },
  {
   "cell_type": "code",
   "execution_count": 87,
   "metadata": {},
   "outputs": [
    {
     "name": "stdout",
     "output_type": "stream",
     "text": [
      "(443, 12)\n"
     ]
    },
    {
     "data": {
      "text/html": [
       "<div>\n",
       "<style scoped>\n",
       "    .dataframe tbody tr th:only-of-type {\n",
       "        vertical-align: middle;\n",
       "    }\n",
       "\n",
       "    .dataframe tbody tr th {\n",
       "        vertical-align: top;\n",
       "    }\n",
       "\n",
       "    .dataframe thead th {\n",
       "        text-align: right;\n",
       "    }\n",
       "</style>\n",
       "<table border=\"1\" class=\"dataframe\">\n",
       "  <thead>\n",
       "    <tr style=\"text-align: right;\">\n",
       "      <th></th>\n",
       "      <th>Reported_Date</th>\n",
       "      <th>City</th>\n",
       "      <th>New_Cases</th>\n",
       "      <th>mavg_7day_new_cases</th>\n",
       "      <th>new_cases_per_100K</th>\n",
       "      <th>mavg_7day_per_100k_new_cases</th>\n",
       "      <th>daily_temp</th>\n",
       "      <th>daily_humidity</th>\n",
       "      <th>mavg_7_temp</th>\n",
       "      <th>mavg_7_humidity</th>\n",
       "      <th>mavg_15_temp</th>\n",
       "      <th>mavg_15_humidity</th>\n",
       "    </tr>\n",
       "  </thead>\n",
       "  <tbody>\n",
       "    <tr>\n",
       "      <th>443</th>\n",
       "      <td>2020-02-29</td>\n",
       "      <td>Sao Paulo</td>\n",
       "      <td>0</td>\n",
       "      <td>0</td>\n",
       "      <td>0.00</td>\n",
       "      <td>0.0</td>\n",
       "      <td>20.47</td>\n",
       "      <td>85.96</td>\n",
       "      <td>20.22</td>\n",
       "      <td>83.51</td>\n",
       "      <td>22.21</td>\n",
       "      <td>80.34</td>\n",
       "    </tr>\n",
       "    <tr>\n",
       "      <th>444</th>\n",
       "      <td>2020-03-01</td>\n",
       "      <td>Sao Paulo</td>\n",
       "      <td>0</td>\n",
       "      <td>0</td>\n",
       "      <td>0.00</td>\n",
       "      <td>0.0</td>\n",
       "      <td>19.50</td>\n",
       "      <td>85.50</td>\n",
       "      <td>20.37</td>\n",
       "      <td>83.58</td>\n",
       "      <td>22.16</td>\n",
       "      <td>80.81</td>\n",
       "    </tr>\n",
       "    <tr>\n",
       "      <th>445</th>\n",
       "      <td>2020-03-02</td>\n",
       "      <td>Sao Paulo</td>\n",
       "      <td>0</td>\n",
       "      <td>0</td>\n",
       "      <td>0.00</td>\n",
       "      <td>0.0</td>\n",
       "      <td>19.61</td>\n",
       "      <td>85.81</td>\n",
       "      <td>20.49</td>\n",
       "      <td>84.47</td>\n",
       "      <td>21.90</td>\n",
       "      <td>81.65</td>\n",
       "    </tr>\n",
       "    <tr>\n",
       "      <th>446</th>\n",
       "      <td>2020-03-03</td>\n",
       "      <td>Sao Paulo</td>\n",
       "      <td>0</td>\n",
       "      <td>0</td>\n",
       "      <td>0.00</td>\n",
       "      <td>0.0</td>\n",
       "      <td>19.17</td>\n",
       "      <td>85.53</td>\n",
       "      <td>20.32</td>\n",
       "      <td>85.33</td>\n",
       "      <td>21.61</td>\n",
       "      <td>82.19</td>\n",
       "    </tr>\n",
       "    <tr>\n",
       "      <th>447</th>\n",
       "      <td>2020-03-04</td>\n",
       "      <td>Sao Paulo</td>\n",
       "      <td>1</td>\n",
       "      <td>0</td>\n",
       "      <td>0.01</td>\n",
       "      <td>0.0</td>\n",
       "      <td>19.61</td>\n",
       "      <td>79.08</td>\n",
       "      <td>19.79</td>\n",
       "      <td>85.83</td>\n",
       "      <td>21.24</td>\n",
       "      <td>82.76</td>\n",
       "    </tr>\n",
       "  </tbody>\n",
       "</table>\n",
       "</div>"
      ],
      "text/plain": [
       "    Reported_Date       City  New_Cases  mavg_7day_new_cases  \\\n",
       "443    2020-02-29  Sao Paulo          0                    0   \n",
       "444    2020-03-01  Sao Paulo          0                    0   \n",
       "445    2020-03-02  Sao Paulo          0                    0   \n",
       "446    2020-03-03  Sao Paulo          0                    0   \n",
       "447    2020-03-04  Sao Paulo          1                    0   \n",
       "\n",
       "     new_cases_per_100K  mavg_7day_per_100k_new_cases  daily_temp  \\\n",
       "443                0.00                           0.0       20.47   \n",
       "444                0.00                           0.0       19.50   \n",
       "445                0.00                           0.0       19.61   \n",
       "446                0.00                           0.0       19.17   \n",
       "447                0.01                           0.0       19.61   \n",
       "\n",
       "     daily_humidity  mavg_7_temp  mavg_7_humidity  mavg_15_temp  \\\n",
       "443           85.96        20.22            83.51         22.21   \n",
       "444           85.50        20.37            83.58         22.16   \n",
       "445           85.81        20.49            84.47         21.90   \n",
       "446           85.53        20.32            85.33         21.61   \n",
       "447           79.08        19.79            85.83         21.24   \n",
       "\n",
       "     mavg_15_humidity  \n",
       "443             80.34  \n",
       "444             80.81  \n",
       "445             81.65  \n",
       "446             82.19  \n",
       "447             82.76  "
      ]
     },
     "execution_count": 87,
     "metadata": {},
     "output_type": "execute_result"
    }
   ],
   "source": [
    "print(SP_Combined_df.shape)\n",
    "SP_Combined_df.head()"
   ]
  },
  {
   "cell_type": "code",
   "execution_count": 88,
   "metadata": {},
   "outputs": [
    {
     "data": {
      "text/html": [
       "<div>\n",
       "<style scoped>\n",
       "    .dataframe tbody tr th:only-of-type {\n",
       "        vertical-align: middle;\n",
       "    }\n",
       "\n",
       "    .dataframe tbody tr th {\n",
       "        vertical-align: top;\n",
       "    }\n",
       "\n",
       "    .dataframe thead th {\n",
       "        text-align: right;\n",
       "    }\n",
       "</style>\n",
       "<table border=\"1\" class=\"dataframe\">\n",
       "  <thead>\n",
       "    <tr style=\"text-align: right;\">\n",
       "      <th></th>\n",
       "      <th>New_Cases</th>\n",
       "      <th>mavg_7day_new_cases</th>\n",
       "      <th>new_cases_per_100K</th>\n",
       "      <th>mavg_7day_per_100k_new_cases</th>\n",
       "      <th>daily_temp</th>\n",
       "      <th>daily_humidity</th>\n",
       "      <th>mavg_7_temp</th>\n",
       "      <th>mavg_7_humidity</th>\n",
       "      <th>mavg_15_temp</th>\n",
       "      <th>mavg_15_humidity</th>\n",
       "    </tr>\n",
       "  </thead>\n",
       "  <tbody>\n",
       "    <tr>\n",
       "      <th>443</th>\n",
       "      <td>0</td>\n",
       "      <td>0</td>\n",
       "      <td>0.00</td>\n",
       "      <td>0.0</td>\n",
       "      <td>20.47</td>\n",
       "      <td>85.96</td>\n",
       "      <td>20.22</td>\n",
       "      <td>83.51</td>\n",
       "      <td>22.21</td>\n",
       "      <td>80.34</td>\n",
       "    </tr>\n",
       "    <tr>\n",
       "      <th>444</th>\n",
       "      <td>0</td>\n",
       "      <td>0</td>\n",
       "      <td>0.00</td>\n",
       "      <td>0.0</td>\n",
       "      <td>19.50</td>\n",
       "      <td>85.50</td>\n",
       "      <td>20.37</td>\n",
       "      <td>83.58</td>\n",
       "      <td>22.16</td>\n",
       "      <td>80.81</td>\n",
       "    </tr>\n",
       "    <tr>\n",
       "      <th>445</th>\n",
       "      <td>0</td>\n",
       "      <td>0</td>\n",
       "      <td>0.00</td>\n",
       "      <td>0.0</td>\n",
       "      <td>19.61</td>\n",
       "      <td>85.81</td>\n",
       "      <td>20.49</td>\n",
       "      <td>84.47</td>\n",
       "      <td>21.90</td>\n",
       "      <td>81.65</td>\n",
       "    </tr>\n",
       "    <tr>\n",
       "      <th>446</th>\n",
       "      <td>0</td>\n",
       "      <td>0</td>\n",
       "      <td>0.00</td>\n",
       "      <td>0.0</td>\n",
       "      <td>19.17</td>\n",
       "      <td>85.53</td>\n",
       "      <td>20.32</td>\n",
       "      <td>85.33</td>\n",
       "      <td>21.61</td>\n",
       "      <td>82.19</td>\n",
       "    </tr>\n",
       "    <tr>\n",
       "      <th>447</th>\n",
       "      <td>1</td>\n",
       "      <td>0</td>\n",
       "      <td>0.01</td>\n",
       "      <td>0.0</td>\n",
       "      <td>19.61</td>\n",
       "      <td>79.08</td>\n",
       "      <td>19.79</td>\n",
       "      <td>85.83</td>\n",
       "      <td>21.24</td>\n",
       "      <td>82.76</td>\n",
       "    </tr>\n",
       "  </tbody>\n",
       "</table>\n",
       "</div>"
      ],
      "text/plain": [
       "     New_Cases  mavg_7day_new_cases  new_cases_per_100K  \\\n",
       "443          0                    0                0.00   \n",
       "444          0                    0                0.00   \n",
       "445          0                    0                0.00   \n",
       "446          0                    0                0.00   \n",
       "447          1                    0                0.01   \n",
       "\n",
       "     mavg_7day_per_100k_new_cases  daily_temp  daily_humidity  mavg_7_temp  \\\n",
       "443                           0.0       20.47           85.96        20.22   \n",
       "444                           0.0       19.50           85.50        20.37   \n",
       "445                           0.0       19.61           85.81        20.49   \n",
       "446                           0.0       19.17           85.53        20.32   \n",
       "447                           0.0       19.61           79.08        19.79   \n",
       "\n",
       "     mavg_7_humidity  mavg_15_temp  mavg_15_humidity  \n",
       "443            83.51         22.21             80.34  \n",
       "444            83.58         22.16             80.81  \n",
       "445            84.47         21.90             81.65  \n",
       "446            85.33         21.61             82.19  \n",
       "447            85.83         21.24             82.76  "
      ]
     },
     "execution_count": 88,
     "metadata": {},
     "output_type": "execute_result"
    }
   ],
   "source": [
    "SP_Combined_Reg= SP_Combined_df.drop([\"Reported_Date\",\"City\"], axis=1)\n",
    "SP_Combined_Reg.head()"
   ]
  },
  {
   "cell_type": "markdown",
   "metadata": {},
   "source": [
    "Regression- 15 Day Avg Temp' and '15 Day Avg Humidity' against 'mavg_7day_per_100k_new_cases'"
   ]
  },
  {
   "cell_type": "code",
   "execution_count": 89,
   "metadata": {},
   "outputs": [
    {
     "data": {
      "text/plain": [
       "<AxesSubplot:xlabel='mavg_15_humidity', ylabel='mavg_7day_per_100k_new_cases'>"
      ]
     },
     "execution_count": 89,
     "metadata": {},
     "output_type": "execute_result"
    },
    {
     "data": {
      "image/png": "[encoded data removed]",
      "text/plain": [
       "<Figure size 432x288 with 1 Axes>"
      ]
     },
     "metadata": {
      "needs_background": "light"
     },
     "output_type": "display_data"
    },
    {
     "data": {
      "image/png": "[encoded data removed]",
      "text/plain": [
       "<Figure size 432x288 with 1 Axes>"
      ]
     },
     "metadata": {
      "needs_background": "light"
     },
     "output_type": "display_data"
    }
   ],
   "source": [
    "# Plot a scatter plot of '15 Day Avg Temp' and '15 Day Avg Humidity' against 'mavg_7day_per_100k_new_cases'\n",
    "SP_Combined_Reg.plot(kind='scatter', x='mavg_15_temp', y='mavg_7day_per_100k_new_cases')\n",
    "SP_Combined_Reg.plot(kind='scatter', x='mavg_15_humidity', y='mavg_7day_per_100k_new_cases')"
   ]
  },
  {
   "cell_type": "markdown",
   "metadata": {},
   "source": [
    "Simple Linear Regression Model- TEMPRETURE, HUMIDITY with MAVG_7day_per_100k_new_cases"
   ]
  },
  {
   "cell_type": "code",
   "execution_count": 90,
   "metadata": {},
   "outputs": [],
   "source": [
    "from sklearn import linear_model\n",
    "from sklearn.metrics import mean_squared_error, r2_score\n",
    "from sklearn.model_selection import train_test_split # Use the Sklearn `train_test_split()` function to split the data into training and testing data"
   ]
  },
  {
   "cell_type": "code",
   "execution_count": 102,
   "metadata": {},
   "outputs": [
    {
     "name": "stdout",
     "output_type": "stream",
     "text": [
      "Shape:  (443, 2) (443, 1)\n"
     ]
    }
   ],
   "source": [
    "# Assign the data to X and y\n",
    "# Note: Sklearn requires a two-dimensional array of values\n",
    "# so we use reshape() to create this\n",
    "\n",
    "X_SP_both = SP_Combined_Reg[[\"mavg_15_temp\",\"mavg_15_humidity\"]]\n",
    "y_SP_both = SP_Combined_Reg[\"mavg_7day_per_100k_new_cases\"].values.reshape(-1, 1)\n",
    "\n",
    "print(\"Shape: \", X_SP_both.shape, y_SP_both.shape)\n",
    "#print(X_SP_both)\n",
    "#print(y_SP_both)\n",
    "\n"
   ]
  },
  {
   "cell_type": "code",
   "execution_count": 103,
   "metadata": {},
   "outputs": [],
   "source": [
    "#WE are not splitting the data as we want to use all data into the train  \n",
    "#split the data\n",
    "#X_train, X_test, y_train, y_test = train_test_split(X, y, train_size=0.60,test_size=0.40, random_state=42)"
   ]
  },
  {
   "cell_type": "code",
   "execution_count": 104,
   "metadata": {},
   "outputs": [],
   "source": [
    "# Create the model\n",
    "model_SP_both = linear_model.LinearRegression()"
   ]
  },
  {
   "cell_type": "code",
   "execution_count": 106,
   "metadata": {},
   "outputs": [
    {
     "data": {
      "text/plain": [
       "LinearRegression()"
      ]
     },
     "execution_count": 106,
     "metadata": {},
     "output_type": "execute_result"
    }
   ],
   "source": [
    "# Fit the model to the training data. \n",
    "model_SP_both.fit(X_SP_both, y_SP_both)"
   ]
  },
  {
   "cell_type": "code",
   "execution_count": 107,
   "metadata": {},
   "outputs": [
    {
     "name": "stdout",
     "output_type": "stream",
     "text": [
      "mean squared error (MSE): 62.72028045761924\n",
      "R-squared (R2): 0.05168768077673047\n",
      "Coefficients: \n",
      " [[ 0.40810781 -0.46844933]]\n",
      "intercept: [39.0550793]\n"
     ]
    }
   ],
   "source": [
    "# Use our model to make predictions\n",
    "predicted = model_SP_both.predict(X_SP_both)\n",
    "\n",
    "# Score the predictions with mse and r2\n",
    "# Calculate the mean_squared_error and the r-squared value for the testing data\n",
    "mse = mean_squared_error(y_SP_both, predicted) #There is no correct value for MSE. Simply put, the lower the value the better and 0 means the model is perfect. Since there is no correct answer, the MSE’s basic value is in selecting one prediction model over another.\n",
    "r2 = r2_score(y_SP_both, predicted) #there is also no correct answer as to what R2 should be. 100% means perfect correlation. Yet, there are models with a low R2 that are still good models.\n",
    "\n",
    "print(f\"mean squared error (MSE): {mse}\")\n",
    "print(f\"R-squared (R2): {r2}\")\n",
    "print('Coefficients: \\n', model_SP_both.coef_)\n",
    "print('intercept:', model_SP_both.intercept_)"
   ]
  },
  {
   "cell_type": "code",
   "execution_count": 108,
   "metadata": {},
   "outputs": [
    {
     "data": {
      "text/plain": [
       "0.05168768077673047"
      ]
     },
     "execution_count": 108,
     "metadata": {},
     "output_type": "execute_result"
    }
   ],
   "source": [
    "# Call the `score()` method on the model to show the R2 score\n",
    "model.score(X_SP_both, y_SP_both)"
   ]
  },
  {
   "cell_type": "markdown",
   "metadata": {},
   "source": [
    "Modifying model to check difference if only temp is used as a variable"
   ]
  },
  {
   "cell_type": "code",
   "execution_count": 110,
   "metadata": {},
   "outputs": [
    {
     "name": "stdout",
     "output_type": "stream",
     "text": [
      "Shape:  (443, 1) (443, 1)\n"
     ]
    }
   ],
   "source": [
    "# Assign the data to X and y\n",
    "# Note: Sklearn requires a two-dimensional array of values\n",
    "# so we use reshape() to create this\n",
    "\n",
    "X_SP_temp = SP_Combined_Reg[\"mavg_15_temp\"].values.reshape(-1, 1)\n",
    "y_SP_temp = SP_Combined_Reg[\"mavg_7day_per_100k_new_cases\"].values.reshape(-1, 1)\n",
    "\n",
    "print(\"Shape: \", X_SP_temp.shape, y_SP_temp.shape)\n",
    "#print(X_SP_temp)\n",
    "#print(y_SP_temp)\n"
   ]
  },
  {
   "cell_type": "code",
   "execution_count": 111,
   "metadata": {},
   "outputs": [],
   "source": [
    "# Create the model\n",
    "model_SP_temp = linear_model.LinearRegression()"
   ]
  },
  {
   "cell_type": "code",
   "execution_count": 112,
   "metadata": {},
   "outputs": [
    {
     "data": {
      "text/plain": [
       "LinearRegression()"
      ]
     },
     "execution_count": 112,
     "metadata": {},
     "output_type": "execute_result"
    }
   ],
   "source": [
    "# Fit the model to the training data. \n",
    "model_SP_temp.fit(X_SP_temp, y_SP_temp)"
   ]
  },
  {
   "cell_type": "code",
   "execution_count": 113,
   "metadata": {},
   "outputs": [
    {
     "name": "stdout",
     "output_type": "stream",
     "text": [
      "mean squared error (MSE): 65.72903528872156\n",
      "R-squared (R2): 0.006196186621425737\n",
      "Coefficients: \n",
      " [[0.28607747]]\n",
      "intercept: [8.25924912]\n"
     ]
    }
   ],
   "source": [
    "# Use our model to make predictions\n",
    "predicted = model_SP_temp.predict(X_SP_temp)\n",
    "\n",
    "# Score the predictions with mse and r2\n",
    "# Calculate the mean_squared_error and the r-squared value for the testing data\n",
    "mse = mean_squared_error(y_SP_temp, predicted) #There is no correct value for MSE. Simply put, the lower the value the better and 0 means the model is perfect. Since there is no correct answer, the MSE’s basic value is in selecting one prediction model over another.\n",
    "r2 = r2_score(y_SP_temp, predicted) #there is also no correct answer as to what R2 should be. 100% means perfect correlation. Yet, there are models with a low R2 that are still good models.\n",
    "\n",
    "print(f\"mean squared error (MSE): {mse}\")\n",
    "print(f\"R-squared (R2): {r2}\")\n",
    "print('Coefficients: \\n', model_SP_temp.coef_)\n",
    "print('intercept:', model_SP_temp.intercept_)"
   ]
  },
  {
   "cell_type": "code",
   "execution_count": null,
   "metadata": {},
   "outputs": [],
   "source": [
    "# Call the `score()` method on the model to show the R2 score\n",
    "model_SP_temp.score(X_SP_temp, y_SP_temp)"
   ]
  }
 ],
 "metadata": {
  "kernelspec": {
   "display_name": "PythonData",
   "language": "python",
   "name": "pythondata"
  },
  "language_info": {
   "codemirror_mode": {
    "name": "ipython",
    "version": 3
   },
   "file_extension": ".py",
   "mimetype": "text/x-python",
   "name": "python",
   "nbconvert_exporter": "python",
   "pygments_lexer": "ipython3",
   "version": "3.8.8"
  }
 },
 "nbformat": 4,
 "nbformat_minor": 4
}
