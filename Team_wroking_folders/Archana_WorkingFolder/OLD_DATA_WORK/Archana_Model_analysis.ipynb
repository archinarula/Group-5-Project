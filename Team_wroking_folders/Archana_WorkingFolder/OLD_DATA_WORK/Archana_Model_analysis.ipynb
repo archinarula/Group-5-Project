{
 "cells": [
  {
   "cell_type": "markdown",
   "metadata": {},
   "source": [
    "# Preface: "
   ]
  },
  {
   "cell_type": "markdown",
   "metadata": {},
   "source": [
    "Purpose:\n",
    "\n",
    "Covid-19 Analysis with Weather Data (Temp and Humidity) for seleceted two Cities- Sao Paulo(Brazil) and New York (USA)\n",
    "\n",
    "Data:\n",
    "\n",
    "1. Cities Data for Sao Paulo and New York between May 2020- May 2021- Daily Total Confirmed Cases, Population, Cases per Million population\n",
    "https://github.com/archinarula/Group-5-Project/blob/main/Clean_CSV/cities_dataframe.csv\n",
    "\n",
    "2. Weather Data for Sao Paulo and New York - Daily Average Temp and Avergae Humidity\n",
    "https://github.com/archinarula/Group-5-Project/blob/main/Clean_CSV/NYC_SaoPaulo_Weather.csv\n",
    "\n"
   ]
  },
  {
   "cell_type": "markdown",
   "metadata": {},
   "source": [
    "# Basic Data Exploration"
   ]
  },
  {
   "cell_type": "code",
   "execution_count": 2,
   "metadata": {},
   "outputs": [],
   "source": [
    "# first import the dependencies\n",
    "import pandas as pd\n",
    "import numpy as np\n",
    "import math\n",
    "import matplotlib.pyplot as plt\n",
    "import seaborn as sns\n",
    "import plotly.graph_objects as go\n",
    "from plotly.subplots import make_subplots\n",
    "%matplotlib inline"
   ]
  },
  {
   "cell_type": "code",
   "execution_count": 3,
   "metadata": {},
   "outputs": [],
   "source": [
    "# Import the data\n",
    "\n",
    "# Add the Resources path variables:\n",
    "Cities = \"Resources/cities_dataframe.csv\"\n",
    "Weather= \"Resources/NYC_SaoPaulo_Weather.csv\"\n",
    "\n",
    "#Read CSVs and Create Dataframes:\n",
    "CitiesCovid_df = pd.read_csv(Cities, parse_dates=['Reported_date'], encoding=\"ISO-8859-1\",low_memory=False)\n",
    "CitiesWeather_df = pd.read_csv(Weather, parse_dates=['Reported_date'], encoding=\"ISO-8859-1\",low_memory=False)\n"
   ]
  },
  {
   "cell_type": "code",
   "execution_count": 4,
   "metadata": {},
   "outputs": [
    {
     "name": "stdout",
     "output_type": "stream",
     "text": [
      "(722, 7)\n"
     ]
    },
    {
     "data": {
      "text/html": [
       "<div>\n",
       "<style scoped>\n",
       "    .dataframe tbody tr th:only-of-type {\n",
       "        vertical-align: middle;\n",
       "    }\n",
       "\n",
       "    .dataframe tbody tr th {\n",
       "        vertical-align: top;\n",
       "    }\n",
       "\n",
       "    .dataframe thead th {\n",
       "        text-align: right;\n",
       "    }\n",
       "</style>\n",
       "<table border=\"1\" class=\"dataframe\">\n",
       "  <thead>\n",
       "    <tr style=\"text-align: right;\">\n",
       "      <th></th>\n",
       "      <th>Reported_date</th>\n",
       "      <th>Country</th>\n",
       "      <th>City</th>\n",
       "      <th>total_confirmed_cases</th>\n",
       "      <th>Population</th>\n",
       "      <th>Census_year</th>\n",
       "      <th>cases_per_million</th>\n",
       "    </tr>\n",
       "  </thead>\n",
       "  <tbody>\n",
       "    <tr>\n",
       "      <th>0</th>\n",
       "      <td>2020-05-20</td>\n",
       "      <td>Brasil</td>\n",
       "      <td>Sao Paulo</td>\n",
       "      <td>69859</td>\n",
       "      <td>12106920</td>\n",
       "      <td>2017</td>\n",
       "      <td>5770.0</td>\n",
       "    </tr>\n",
       "    <tr>\n",
       "      <th>1</th>\n",
       "      <td>2020-05-20</td>\n",
       "      <td>Estados Unidos</td>\n",
       "      <td>New York</td>\n",
       "      <td>354370</td>\n",
       "      <td>8398748</td>\n",
       "      <td>2018</td>\n",
       "      <td>42193.0</td>\n",
       "    </tr>\n",
       "    <tr>\n",
       "      <th>2</th>\n",
       "      <td>2020-05-21</td>\n",
       "      <td>Brasil</td>\n",
       "      <td>Sao Paulo</td>\n",
       "      <td>73739</td>\n",
       "      <td>12106920</td>\n",
       "      <td>2017</td>\n",
       "      <td>6091.0</td>\n",
       "    </tr>\n",
       "    <tr>\n",
       "      <th>3</th>\n",
       "      <td>2020-05-21</td>\n",
       "      <td>Estados Unidos</td>\n",
       "      <td>New York</td>\n",
       "      <td>356458</td>\n",
       "      <td>8398748</td>\n",
       "      <td>2018</td>\n",
       "      <td>42442.0</td>\n",
       "    </tr>\n",
       "    <tr>\n",
       "      <th>4</th>\n",
       "      <td>2020-05-22</td>\n",
       "      <td>Brasil</td>\n",
       "      <td>Sao Paulo</td>\n",
       "      <td>76871</td>\n",
       "      <td>12106920</td>\n",
       "      <td>2017</td>\n",
       "      <td>6349.0</td>\n",
       "    </tr>\n",
       "  </tbody>\n",
       "</table>\n",
       "</div>"
      ],
      "text/plain": [
       "  Reported_date         Country       City  total_confirmed_cases  Population  \\\n",
       "0    2020-05-20          Brasil  Sao Paulo                  69859    12106920   \n",
       "1    2020-05-20  Estados Unidos   New York                 354370     8398748   \n",
       "2    2020-05-21          Brasil  Sao Paulo                  73739    12106920   \n",
       "3    2020-05-21  Estados Unidos   New York                 356458     8398748   \n",
       "4    2020-05-22          Brasil  Sao Paulo                  76871    12106920   \n",
       "\n",
       "   Census_year  cases_per_million  \n",
       "0         2017             5770.0  \n",
       "1         2018            42193.0  \n",
       "2         2017             6091.0  \n",
       "3         2018            42442.0  \n",
       "4         2017             6349.0  "
      ]
     },
     "execution_count": 4,
     "metadata": {},
     "output_type": "execute_result"
    }
   ],
   "source": [
    "print (CitiesCovid_df.shape)\n",
    "CitiesCovid_df.head()"
   ]
  },
  {
   "cell_type": "code",
   "execution_count": 5,
   "metadata": {},
   "outputs": [
    {
     "name": "stdout",
     "output_type": "stream",
     "text": [
      "<class 'pandas.core.frame.DataFrame'>\n",
      "RangeIndex: 722 entries, 0 to 721\n",
      "Data columns (total 7 columns):\n",
      " #   Column                 Non-Null Count  Dtype         \n",
      "---  ------                 --------------  -----         \n",
      " 0   Reported_date          722 non-null    datetime64[ns]\n",
      " 1   Country                722 non-null    object        \n",
      " 2   City                   722 non-null    object        \n",
      " 3   total_confirmed_cases  722 non-null    int64         \n",
      " 4   Population             722 non-null    int64         \n",
      " 5   Census_year            722 non-null    int64         \n",
      " 6   cases_per_million      722 non-null    float64       \n",
      "dtypes: datetime64[ns](1), float64(1), int64(3), object(2)\n",
      "memory usage: 39.6+ KB\n"
     ]
    }
   ],
   "source": [
    "CitiesCovid_df.info()"
   ]
  },
  {
   "cell_type": "code",
   "execution_count": 6,
   "metadata": {},
   "outputs": [
    {
     "data": {
      "text/html": [
       "<div>\n",
       "<style scoped>\n",
       "    .dataframe tbody tr th:only-of-type {\n",
       "        vertical-align: middle;\n",
       "    }\n",
       "\n",
       "    .dataframe tbody tr th {\n",
       "        vertical-align: top;\n",
       "    }\n",
       "\n",
       "    .dataframe thead th {\n",
       "        text-align: right;\n",
       "    }\n",
       "</style>\n",
       "<table border=\"1\" class=\"dataframe\">\n",
       "  <thead>\n",
       "    <tr style=\"text-align: right;\">\n",
       "      <th></th>\n",
       "      <th>count</th>\n",
       "      <th>mean</th>\n",
       "      <th>std</th>\n",
       "      <th>min</th>\n",
       "      <th>25%</th>\n",
       "      <th>50%</th>\n",
       "      <th>75%</th>\n",
       "      <th>max</th>\n",
       "    </tr>\n",
       "  </thead>\n",
       "  <tbody>\n",
       "    <tr>\n",
       "      <th>total_confirmed_cases</th>\n",
       "      <td>722.0</td>\n",
       "      <td>3.210982e+05</td>\n",
       "      <td>2.027071e+05</td>\n",
       "      <td>647.000</td>\n",
       "      <td>218795.25</td>\n",
       "      <td>294999.5</td>\n",
       "      <td>424917.00</td>\n",
       "      <td>880275.0</td>\n",
       "    </tr>\n",
       "    <tr>\n",
       "      <th>Population</th>\n",
       "      <td>722.0</td>\n",
       "      <td>1.032177e+07</td>\n",
       "      <td>1.924483e+06</td>\n",
       "      <td>8398748.000</td>\n",
       "      <td>8398748.00</td>\n",
       "      <td>10252834.0</td>\n",
       "      <td>12252023.00</td>\n",
       "      <td>12252023.0</td>\n",
       "    </tr>\n",
       "    <tr>\n",
       "      <th>Census_year</th>\n",
       "      <td>722.0</td>\n",
       "      <td>2.011917e+03</td>\n",
       "      <td>1.060065e+02</td>\n",
       "      <td>2.000</td>\n",
       "      <td>2017.00</td>\n",
       "      <td>2017.0</td>\n",
       "      <td>2018.00</td>\n",
       "      <td>2018.0</td>\n",
       "    </tr>\n",
       "    <tr>\n",
       "      <th>cases_per_million</th>\n",
       "      <td>722.0</td>\n",
       "      <td>3.281394e+04</td>\n",
       "      <td>2.320065e+04</td>\n",
       "      <td>52.834</td>\n",
       "      <td>20956.75</td>\n",
       "      <td>28749.0</td>\n",
       "      <td>42820.75</td>\n",
       "      <td>104810.0</td>\n",
       "    </tr>\n",
       "  </tbody>\n",
       "</table>\n",
       "</div>"
      ],
      "text/plain": [
       "                       count          mean           std          min  \\\n",
       "total_confirmed_cases  722.0  3.210982e+05  2.027071e+05      647.000   \n",
       "Population             722.0  1.032177e+07  1.924483e+06  8398748.000   \n",
       "Census_year            722.0  2.011917e+03  1.060065e+02        2.000   \n",
       "cases_per_million      722.0  3.281394e+04  2.320065e+04       52.834   \n",
       "\n",
       "                              25%         50%          75%         max  \n",
       "total_confirmed_cases   218795.25    294999.5    424917.00    880275.0  \n",
       "Population             8398748.00  10252834.0  12252023.00  12252023.0  \n",
       "Census_year               2017.00      2017.0      2018.00      2018.0  \n",
       "cases_per_million        20956.75     28749.0     42820.75    104810.0  "
      ]
     },
     "execution_count": 6,
     "metadata": {},
     "output_type": "execute_result"
    }
   ],
   "source": [
    "CitiesCovid_df.describe().T"
   ]
  },
  {
   "cell_type": "code",
   "execution_count": 7,
   "metadata": {},
   "outputs": [
    {
     "name": "stdout",
     "output_type": "stream",
     "text": [
      "(1004, 14)\n"
     ]
    },
    {
     "data": {
      "text/html": [
       "<div>\n",
       "<style scoped>\n",
       "    .dataframe tbody tr th:only-of-type {\n",
       "        vertical-align: middle;\n",
       "    }\n",
       "\n",
       "    .dataframe tbody tr th {\n",
       "        vertical-align: top;\n",
       "    }\n",
       "\n",
       "    .dataframe thead th {\n",
       "        text-align: right;\n",
       "    }\n",
       "</style>\n",
       "<table border=\"1\" class=\"dataframe\">\n",
       "  <thead>\n",
       "    <tr style=\"text-align: right;\">\n",
       "      <th></th>\n",
       "      <th>Reported_date</th>\n",
       "      <th>city_name</th>\n",
       "      <th>lat</th>\n",
       "      <th>lon</th>\n",
       "      <th>temp_mean</th>\n",
       "      <th>humidity_mean</th>\n",
       "      <th>temp_min</th>\n",
       "      <th>temp_max</th>\n",
       "      <th>1_7_day_avg_temp</th>\n",
       "      <th>8_14_day_avg_temp</th>\n",
       "      <th>1_7_day_avg_humidity</th>\n",
       "      <th>8_14_day_avg_humidity</th>\n",
       "      <th>percent_change_in_temp</th>\n",
       "      <th>percent_change_in_humidity</th>\n",
       "    </tr>\n",
       "  </thead>\n",
       "  <tbody>\n",
       "    <tr>\n",
       "      <th>0</th>\n",
       "      <td>2020-01-01</td>\n",
       "      <td>New York</td>\n",
       "      <td>40.712775</td>\n",
       "      <td>-74.005973</td>\n",
       "      <td>4.07</td>\n",
       "      <td>60.71</td>\n",
       "      <td>2.00</td>\n",
       "      <td>7.22</td>\n",
       "      <td>NaN</td>\n",
       "      <td>NaN</td>\n",
       "      <td>NaN</td>\n",
       "      <td>NaN</td>\n",
       "      <td>NaN</td>\n",
       "      <td>NaN</td>\n",
       "    </tr>\n",
       "    <tr>\n",
       "      <th>1</th>\n",
       "      <td>2020-01-02</td>\n",
       "      <td>New York</td>\n",
       "      <td>40.712775</td>\n",
       "      <td>-74.005973</td>\n",
       "      <td>3.26</td>\n",
       "      <td>58.62</td>\n",
       "      <td>-3.33</td>\n",
       "      <td>10.00</td>\n",
       "      <td>NaN</td>\n",
       "      <td>NaN</td>\n",
       "      <td>NaN</td>\n",
       "      <td>NaN</td>\n",
       "      <td>NaN</td>\n",
       "      <td>NaN</td>\n",
       "    </tr>\n",
       "    <tr>\n",
       "      <th>2</th>\n",
       "      <td>2020-01-03</td>\n",
       "      <td>New York</td>\n",
       "      <td>40.712775</td>\n",
       "      <td>-74.005973</td>\n",
       "      <td>7.42</td>\n",
       "      <td>78.12</td>\n",
       "      <td>4.44</td>\n",
       "      <td>9.44</td>\n",
       "      <td>NaN</td>\n",
       "      <td>NaN</td>\n",
       "      <td>NaN</td>\n",
       "      <td>NaN</td>\n",
       "      <td>NaN</td>\n",
       "      <td>NaN</td>\n",
       "    </tr>\n",
       "    <tr>\n",
       "      <th>3</th>\n",
       "      <td>2020-01-04</td>\n",
       "      <td>New York</td>\n",
       "      <td>40.712775</td>\n",
       "      <td>-74.005973</td>\n",
       "      <td>8.63</td>\n",
       "      <td>94.88</td>\n",
       "      <td>6.67</td>\n",
       "      <td>11.11</td>\n",
       "      <td>NaN</td>\n",
       "      <td>NaN</td>\n",
       "      <td>NaN</td>\n",
       "      <td>NaN</td>\n",
       "      <td>NaN</td>\n",
       "      <td>NaN</td>\n",
       "    </tr>\n",
       "    <tr>\n",
       "      <th>4</th>\n",
       "      <td>2020-01-05</td>\n",
       "      <td>New York</td>\n",
       "      <td>40.712775</td>\n",
       "      <td>-74.005973</td>\n",
       "      <td>4.92</td>\n",
       "      <td>59.67</td>\n",
       "      <td>2.22</td>\n",
       "      <td>10.56</td>\n",
       "      <td>NaN</td>\n",
       "      <td>NaN</td>\n",
       "      <td>NaN</td>\n",
       "      <td>NaN</td>\n",
       "      <td>NaN</td>\n",
       "      <td>NaN</td>\n",
       "    </tr>\n",
       "  </tbody>\n",
       "</table>\n",
       "</div>"
      ],
      "text/plain": [
       "  Reported_date city_name        lat        lon  temp_mean  humidity_mean  \\\n",
       "0    2020-01-01  New York  40.712775 -74.005973       4.07          60.71   \n",
       "1    2020-01-02  New York  40.712775 -74.005973       3.26          58.62   \n",
       "2    2020-01-03  New York  40.712775 -74.005973       7.42          78.12   \n",
       "3    2020-01-04  New York  40.712775 -74.005973       8.63          94.88   \n",
       "4    2020-01-05  New York  40.712775 -74.005973       4.92          59.67   \n",
       "\n",
       "   temp_min  temp_max  1_7_day_avg_temp  8_14_day_avg_temp  \\\n",
       "0      2.00      7.22               NaN                NaN   \n",
       "1     -3.33     10.00               NaN                NaN   \n",
       "2      4.44      9.44               NaN                NaN   \n",
       "3      6.67     11.11               NaN                NaN   \n",
       "4      2.22     10.56               NaN                NaN   \n",
       "\n",
       "   1_7_day_avg_humidity  8_14_day_avg_humidity  percent_change_in_temp  \\\n",
       "0                   NaN                    NaN                     NaN   \n",
       "1                   NaN                    NaN                     NaN   \n",
       "2                   NaN                    NaN                     NaN   \n",
       "3                   NaN                    NaN                     NaN   \n",
       "4                   NaN                    NaN                     NaN   \n",
       "\n",
       "   percent_change_in_humidity  \n",
       "0                         NaN  \n",
       "1                         NaN  \n",
       "2                         NaN  \n",
       "3                         NaN  \n",
       "4                         NaN  "
      ]
     },
     "execution_count": 7,
     "metadata": {},
     "output_type": "execute_result"
    }
   ],
   "source": [
    "print (CitiesWeather_df.shape)\n",
    "CitiesWeather_df.head()\n"
   ]
  },
  {
   "cell_type": "code",
   "execution_count": 8,
   "metadata": {},
   "outputs": [
    {
     "name": "stdout",
     "output_type": "stream",
     "text": [
      "<class 'pandas.core.frame.DataFrame'>\n",
      "RangeIndex: 1004 entries, 0 to 1003\n",
      "Data columns (total 14 columns):\n",
      " #   Column                      Non-Null Count  Dtype         \n",
      "---  ------                      --------------  -----         \n",
      " 0   Reported_date               1004 non-null   datetime64[ns]\n",
      " 1   city_name                   1004 non-null   object        \n",
      " 2   lat                         1004 non-null   float64       \n",
      " 3   lon                         1004 non-null   float64       \n",
      " 4   temp_mean                   1004 non-null   float64       \n",
      " 5   humidity_mean               1004 non-null   float64       \n",
      " 6   temp_min                    1004 non-null   float64       \n",
      " 7   temp_max                    1004 non-null   float64       \n",
      " 8   1_7_day_avg_temp            990 non-null    float64       \n",
      " 9   8_14_day_avg_temp           976 non-null    float64       \n",
      " 10  1_7_day_avg_humidity        990 non-null    float64       \n",
      " 11  8_14_day_avg_humidity       976 non-null    float64       \n",
      " 12  percent_change_in_temp      976 non-null    float64       \n",
      " 13  percent_change_in_humidity  976 non-null    float64       \n",
      "dtypes: datetime64[ns](1), float64(12), object(1)\n",
      "memory usage: 109.9+ KB\n"
     ]
    }
   ],
   "source": [
    "CitiesWeather_df.info()"
   ]
  },
  {
   "cell_type": "code",
   "execution_count": 9,
   "metadata": {},
   "outputs": [
    {
     "data": {
      "text/html": [
       "<div>\n",
       "<style scoped>\n",
       "    .dataframe tbody tr th:only-of-type {\n",
       "        vertical-align: middle;\n",
       "    }\n",
       "\n",
       "    .dataframe tbody tr th {\n",
       "        vertical-align: top;\n",
       "    }\n",
       "\n",
       "    .dataframe thead th {\n",
       "        text-align: right;\n",
       "    }\n",
       "</style>\n",
       "<table border=\"1\" class=\"dataframe\">\n",
       "  <thead>\n",
       "    <tr style=\"text-align: right;\">\n",
       "      <th></th>\n",
       "      <th>count</th>\n",
       "      <th>mean</th>\n",
       "      <th>std</th>\n",
       "      <th>min</th>\n",
       "      <th>25%</th>\n",
       "      <th>50%</th>\n",
       "      <th>75%</th>\n",
       "      <th>max</th>\n",
       "    </tr>\n",
       "  </thead>\n",
       "  <tbody>\n",
       "    <tr>\n",
       "      <th>lat</th>\n",
       "      <td>1004.0</td>\n",
       "      <td>8.581127</td>\n",
       "      <td>32.147661</td>\n",
       "      <td>-23.550520</td>\n",
       "      <td>-23.550520</td>\n",
       "      <td>8.581127</td>\n",
       "      <td>40.712775</td>\n",
       "      <td>40.712775</td>\n",
       "    </tr>\n",
       "    <tr>\n",
       "      <th>lon</th>\n",
       "      <td>1004.0</td>\n",
       "      <td>-60.319641</td>\n",
       "      <td>13.693153</td>\n",
       "      <td>-74.005973</td>\n",
       "      <td>-74.005973</td>\n",
       "      <td>-60.319641</td>\n",
       "      <td>-46.633309</td>\n",
       "      <td>-46.633309</td>\n",
       "    </tr>\n",
       "    <tr>\n",
       "      <th>temp_mean</th>\n",
       "      <td>1004.0</td>\n",
       "      <td>16.330757</td>\n",
       "      <td>7.981384</td>\n",
       "      <td>-6.020000</td>\n",
       "      <td>10.927500</td>\n",
       "      <td>18.695000</td>\n",
       "      <td>22.470000</td>\n",
       "      <td>30.420000</td>\n",
       "    </tr>\n",
       "    <tr>\n",
       "      <th>humidity_mean</th>\n",
       "      <td>1004.0</td>\n",
       "      <td>67.842908</td>\n",
       "      <td>12.965304</td>\n",
       "      <td>27.420000</td>\n",
       "      <td>60.060000</td>\n",
       "      <td>70.080000</td>\n",
       "      <td>76.832500</td>\n",
       "      <td>94.880000</td>\n",
       "    </tr>\n",
       "    <tr>\n",
       "      <th>temp_min</th>\n",
       "      <td>1004.0</td>\n",
       "      <td>11.102530</td>\n",
       "      <td>7.669441</td>\n",
       "      <td>-11.110000</td>\n",
       "      <td>6.000000</td>\n",
       "      <td>13.000000</td>\n",
       "      <td>17.000000</td>\n",
       "      <td>25.560000</td>\n",
       "    </tr>\n",
       "    <tr>\n",
       "      <th>temp_max</th>\n",
       "      <td>1004.0</td>\n",
       "      <td>22.698347</td>\n",
       "      <td>8.962991</td>\n",
       "      <td>-2.780000</td>\n",
       "      <td>17.220000</td>\n",
       "      <td>25.560000</td>\n",
       "      <td>29.122500</td>\n",
       "      <td>37.220000</td>\n",
       "    </tr>\n",
       "    <tr>\n",
       "      <th>1_7_day_avg_temp</th>\n",
       "      <td>990.0</td>\n",
       "      <td>16.338384</td>\n",
       "      <td>7.669755</td>\n",
       "      <td>-2.790000</td>\n",
       "      <td>10.520000</td>\n",
       "      <td>18.940000</td>\n",
       "      <td>22.505000</td>\n",
       "      <td>28.370000</td>\n",
       "    </tr>\n",
       "    <tr>\n",
       "      <th>8_14_day_avg_temp</th>\n",
       "      <td>976.0</td>\n",
       "      <td>16.348852</td>\n",
       "      <td>7.717806</td>\n",
       "      <td>-2.790000</td>\n",
       "      <td>10.425000</td>\n",
       "      <td>19.015000</td>\n",
       "      <td>22.552500</td>\n",
       "      <td>28.370000</td>\n",
       "    </tr>\n",
       "    <tr>\n",
       "      <th>1_7_day_avg_humidity</th>\n",
       "      <td>990.0</td>\n",
       "      <td>67.881707</td>\n",
       "      <td>8.101386</td>\n",
       "      <td>39.120000</td>\n",
       "      <td>63.650000</td>\n",
       "      <td>69.430000</td>\n",
       "      <td>73.327500</td>\n",
       "      <td>85.830000</td>\n",
       "    </tr>\n",
       "    <tr>\n",
       "      <th>8_14_day_avg_humidity</th>\n",
       "      <td>976.0</td>\n",
       "      <td>67.893023</td>\n",
       "      <td>8.093367</td>\n",
       "      <td>39.120000</td>\n",
       "      <td>63.650000</td>\n",
       "      <td>69.405000</td>\n",
       "      <td>73.322500</td>\n",
       "      <td>85.830000</td>\n",
       "    </tr>\n",
       "    <tr>\n",
       "      <th>percent_change_in_temp</th>\n",
       "      <td>976.0</td>\n",
       "      <td>17.096855</td>\n",
       "      <td>171.432369</td>\n",
       "      <td>-652.630000</td>\n",
       "      <td>-10.347500</td>\n",
       "      <td>0.490000</td>\n",
       "      <td>11.577500</td>\n",
       "      <td>1904.000000</td>\n",
       "    </tr>\n",
       "    <tr>\n",
       "      <th>percent_change_in_humidity</th>\n",
       "      <td>976.0</td>\n",
       "      <td>-0.932531</td>\n",
       "      <td>14.718456</td>\n",
       "      <td>-105.420000</td>\n",
       "      <td>-7.905000</td>\n",
       "      <td>0.000000</td>\n",
       "      <td>7.625000</td>\n",
       "      <td>39.820000</td>\n",
       "    </tr>\n",
       "  </tbody>\n",
       "</table>\n",
       "</div>"
      ],
      "text/plain": [
       "                             count       mean         std         min  \\\n",
       "lat                         1004.0   8.581127   32.147661  -23.550520   \n",
       "lon                         1004.0 -60.319641   13.693153  -74.005973   \n",
       "temp_mean                   1004.0  16.330757    7.981384   -6.020000   \n",
       "humidity_mean               1004.0  67.842908   12.965304   27.420000   \n",
       "temp_min                    1004.0  11.102530    7.669441  -11.110000   \n",
       "temp_max                    1004.0  22.698347    8.962991   -2.780000   \n",
       "1_7_day_avg_temp             990.0  16.338384    7.669755   -2.790000   \n",
       "8_14_day_avg_temp            976.0  16.348852    7.717806   -2.790000   \n",
       "1_7_day_avg_humidity         990.0  67.881707    8.101386   39.120000   \n",
       "8_14_day_avg_humidity        976.0  67.893023    8.093367   39.120000   \n",
       "percent_change_in_temp       976.0  17.096855  171.432369 -652.630000   \n",
       "percent_change_in_humidity   976.0  -0.932531   14.718456 -105.420000   \n",
       "\n",
       "                                  25%        50%        75%          max  \n",
       "lat                        -23.550520   8.581127  40.712775    40.712775  \n",
       "lon                        -74.005973 -60.319641 -46.633309   -46.633309  \n",
       "temp_mean                   10.927500  18.695000  22.470000    30.420000  \n",
       "humidity_mean               60.060000  70.080000  76.832500    94.880000  \n",
       "temp_min                     6.000000  13.000000  17.000000    25.560000  \n",
       "temp_max                    17.220000  25.560000  29.122500    37.220000  \n",
       "1_7_day_avg_temp            10.520000  18.940000  22.505000    28.370000  \n",
       "8_14_day_avg_temp           10.425000  19.015000  22.552500    28.370000  \n",
       "1_7_day_avg_humidity        63.650000  69.430000  73.327500    85.830000  \n",
       "8_14_day_avg_humidity       63.650000  69.405000  73.322500    85.830000  \n",
       "percent_change_in_temp     -10.347500   0.490000  11.577500  1904.000000  \n",
       "percent_change_in_humidity  -7.905000   0.000000   7.625000    39.820000  "
      ]
     },
     "execution_count": 9,
     "metadata": {},
     "output_type": "execute_result"
    }
   ],
   "source": [
    "CitiesWeather_df.describe().T"
   ]
  },
  {
   "cell_type": "markdown",
   "metadata": {},
   "source": [
    "# Basic Visualizations"
   ]
  },
  {
   "cell_type": "markdown",
   "metadata": {},
   "source": [
    "Covid Cases data plotting for two cities"
   ]
  },
  {
   "cell_type": "code",
   "execution_count": 10,
   "metadata": {},
   "outputs": [],
   "source": [
    "# Set x axis and tick locations for Covid cases in city plotting\n",
    "x_axis = np.arange(len(CitiesCovid_df))\n",
    "tick_locations = [value for value in x_axis]"
   ]
  },
  {
   "cell_type": "code",
   "execution_count": 11,
   "metadata": {},
   "outputs": [
    {
     "name": "stdout",
     "output_type": "stream",
     "text": [
      "(361, 2)\n"
     ]
    },
    {
     "data": {
      "text/html": [
       "<div>\n",
       "<style scoped>\n",
       "    .dataframe tbody tr th:only-of-type {\n",
       "        vertical-align: middle;\n",
       "    }\n",
       "\n",
       "    .dataframe tbody tr th {\n",
       "        vertical-align: top;\n",
       "    }\n",
       "\n",
       "    .dataframe thead th {\n",
       "        text-align: right;\n",
       "    }\n",
       "</style>\n",
       "<table border=\"1\" class=\"dataframe\">\n",
       "  <thead>\n",
       "    <tr style=\"text-align: right;\">\n",
       "      <th></th>\n",
       "      <th>Reported_date</th>\n",
       "      <th>total_confirmed_cases</th>\n",
       "    </tr>\n",
       "  </thead>\n",
       "  <tbody>\n",
       "    <tr>\n",
       "      <th>1</th>\n",
       "      <td>2020-05-20</td>\n",
       "      <td>354370</td>\n",
       "    </tr>\n",
       "    <tr>\n",
       "      <th>3</th>\n",
       "      <td>2020-05-21</td>\n",
       "      <td>356458</td>\n",
       "    </tr>\n",
       "    <tr>\n",
       "      <th>5</th>\n",
       "      <td>2020-05-22</td>\n",
       "      <td>358154</td>\n",
       "    </tr>\n",
       "    <tr>\n",
       "      <th>7</th>\n",
       "      <td>2020-05-23</td>\n",
       "      <td>359926</td>\n",
       "    </tr>\n",
       "    <tr>\n",
       "      <th>9</th>\n",
       "      <td>2020-05-24</td>\n",
       "      <td>361515</td>\n",
       "    </tr>\n",
       "  </tbody>\n",
       "</table>\n",
       "</div>"
      ],
      "text/plain": [
       "  Reported_date  total_confirmed_cases\n",
       "1    2020-05-20                 354370\n",
       "3    2020-05-21                 356458\n",
       "5    2020-05-22                 358154\n",
       "7    2020-05-23                 359926\n",
       "9    2020-05-24                 361515"
      ]
     },
     "execution_count": 11,
     "metadata": {},
     "output_type": "execute_result"
    }
   ],
   "source": [
    "# Create the NY City Covid DataFrame.\n",
    "#NYCovid_df2= NYCovid_df[['Reported_date', 'total_confirmed_cases']]\n",
    "NYCovid_df =CitiesCovid_df[CitiesCovid_df.City == 'New York'][['Reported_date', 'total_confirmed_cases']]\n",
    "print(NYCovid_df.shape)\n",
    "NYCovid_df.head()\n"
   ]
  },
  {
   "cell_type": "code",
   "execution_count": 13,
   "metadata": {},
   "outputs": [
    {
     "data": {
      "image/png": "[encoded data removed]",
      "text/plain": [
       "<Figure size 432x288 with 1 Axes>"
      ]
     },
     "metadata": {
      "needs_background": "light"
     },
     "output_type": "display_data"
    }
   ],
   "source": [
    "# Plotting using Seaborn\n",
    "sns.lineplot(x = \"Reported_date\", y = \"total_confirmed_cases\", markers=True, dashes=False, data=NYCovid_df)\n",
    "plt.show()  "
   ]
  },
  {
   "cell_type": "code",
   "execution_count": 14,
   "metadata": {},
   "outputs": [
    {
     "data": {
      "text/plain": [
       "<AxesSubplot:xlabel='total_confirmed_cases'>"
      ]
     },
     "execution_count": 14,
     "metadata": {},
     "output_type": "execute_result"
    },
    {
     "data": {
      "image/png": "[encoded data removed]",
      "text/plain": [
       "<Figure size 432x288 with 1 Axes>"
      ]
     },
     "metadata": {
      "needs_background": "light"
     },
     "output_type": "display_data"
    }
   ],
   "source": [
    "#Finding Outliers in NY Covid data\n",
    "\n",
    "# This is kind of univatiate analysis if we are finding outliers in the data\n",
    "#x needs to be a numerical variable\n",
    "\n",
    "sns.boxplot(x ='total_confirmed_cases', data = NYCovid_df)"
   ]
  },
  {
   "cell_type": "code",
   "execution_count": 18,
   "metadata": {},
   "outputs": [
    {
     "data": {
      "text/html": [
       "<div>\n",
       "<style scoped>\n",
       "    .dataframe tbody tr th:only-of-type {\n",
       "        vertical-align: middle;\n",
       "    }\n",
       "\n",
       "    .dataframe tbody tr th {\n",
       "        vertical-align: top;\n",
       "    }\n",
       "\n",
       "    .dataframe thead th {\n",
       "        text-align: right;\n",
       "    }\n",
       "</style>\n",
       "<table border=\"1\" class=\"dataframe\">\n",
       "  <thead>\n",
       "    <tr style=\"text-align: right;\">\n",
       "      <th></th>\n",
       "      <th>Reported_date</th>\n",
       "      <th>total_confirmed_cases</th>\n",
       "    </tr>\n",
       "  </thead>\n",
       "  <tbody>\n",
       "    <tr>\n",
       "      <th>615</th>\n",
       "      <td>2021-03-23</td>\n",
       "      <td>818046</td>\n",
       "    </tr>\n",
       "    <tr>\n",
       "      <th>617</th>\n",
       "      <td>2021-03-24</td>\n",
       "      <td>822548</td>\n",
       "    </tr>\n",
       "    <tr>\n",
       "      <th>619</th>\n",
       "      <td>2021-03-25</td>\n",
       "      <td>826494</td>\n",
       "    </tr>\n",
       "    <tr>\n",
       "      <th>621</th>\n",
       "      <td>2021-03-26</td>\n",
       "      <td>830896</td>\n",
       "    </tr>\n",
       "    <tr>\n",
       "      <th>623</th>\n",
       "      <td>2021-03-27</td>\n",
       "      <td>835608</td>\n",
       "    </tr>\n",
       "    <tr>\n",
       "      <th>625</th>\n",
       "      <td>2021-03-28</td>\n",
       "      <td>836227</td>\n",
       "    </tr>\n",
       "    <tr>\n",
       "      <th>627</th>\n",
       "      <td>2021-03-29</td>\n",
       "      <td>843207</td>\n",
       "    </tr>\n",
       "    <tr>\n",
       "      <th>629</th>\n",
       "      <td>2021-03-30</td>\n",
       "      <td>846792</td>\n",
       "    </tr>\n",
       "    <tr>\n",
       "      <th>631</th>\n",
       "      <td>2021-03-31</td>\n",
       "      <td>851401</td>\n",
       "    </tr>\n",
       "    <tr>\n",
       "      <th>633</th>\n",
       "      <td>2021-04-01</td>\n",
       "      <td>855448</td>\n",
       "    </tr>\n",
       "    <tr>\n",
       "      <th>635</th>\n",
       "      <td>2021-04-02</td>\n",
       "      <td>859066</td>\n",
       "    </tr>\n",
       "    <tr>\n",
       "      <th>637</th>\n",
       "      <td>2021-04-03</td>\n",
       "      <td>862922</td>\n",
       "    </tr>\n",
       "    <tr>\n",
       "      <th>639</th>\n",
       "      <td>2021-04-04</td>\n",
       "      <td>880275</td>\n",
       "    </tr>\n",
       "  </tbody>\n",
       "</table>\n",
       "</div>"
      ],
      "text/plain": [
       "    Reported_date  total_confirmed_cases\n",
       "615    2021-03-23                 818046\n",
       "617    2021-03-24                 822548\n",
       "619    2021-03-25                 826494\n",
       "621    2021-03-26                 830896\n",
       "623    2021-03-27                 835608\n",
       "625    2021-03-28                 836227\n",
       "627    2021-03-29                 843207\n",
       "629    2021-03-30                 846792\n",
       "631    2021-03-31                 851401\n",
       "633    2021-04-01                 855448\n",
       "635    2021-04-02                 859066\n",
       "637    2021-04-03                 862922\n",
       "639    2021-04-04                 880275"
      ]
     },
     "execution_count": 18,
     "metadata": {},
     "output_type": "execute_result"
    }
   ],
   "source": [
    "NYCovid_df[NYCovid_df['total_confirmed_cases']>800000]"
   ]
  },
  {
   "cell_type": "code",
   "execution_count": 19,
   "metadata": {},
   "outputs": [
    {
     "name": "stdout",
     "output_type": "stream",
     "text": [
      "(361, 2)\n"
     ]
    },
    {
     "data": {
      "text/html": [
       "<div>\n",
       "<style scoped>\n",
       "    .dataframe tbody tr th:only-of-type {\n",
       "        vertical-align: middle;\n",
       "    }\n",
       "\n",
       "    .dataframe tbody tr th {\n",
       "        vertical-align: top;\n",
       "    }\n",
       "\n",
       "    .dataframe thead th {\n",
       "        text-align: right;\n",
       "    }\n",
       "</style>\n",
       "<table border=\"1\" class=\"dataframe\">\n",
       "  <thead>\n",
       "    <tr style=\"text-align: right;\">\n",
       "      <th></th>\n",
       "      <th>Reported_date</th>\n",
       "      <th>total_confirmed_cases</th>\n",
       "    </tr>\n",
       "  </thead>\n",
       "  <tbody>\n",
       "    <tr>\n",
       "      <th>0</th>\n",
       "      <td>2020-05-20</td>\n",
       "      <td>69859</td>\n",
       "    </tr>\n",
       "    <tr>\n",
       "      <th>2</th>\n",
       "      <td>2020-05-21</td>\n",
       "      <td>73739</td>\n",
       "    </tr>\n",
       "    <tr>\n",
       "      <th>4</th>\n",
       "      <td>2020-05-22</td>\n",
       "      <td>76871</td>\n",
       "    </tr>\n",
       "    <tr>\n",
       "      <th>6</th>\n",
       "      <td>2020-05-23</td>\n",
       "      <td>76871</td>\n",
       "    </tr>\n",
       "    <tr>\n",
       "      <th>8</th>\n",
       "      <td>2020-05-24</td>\n",
       "      <td>82161</td>\n",
       "    </tr>\n",
       "  </tbody>\n",
       "</table>\n",
       "</div>"
      ],
      "text/plain": [
       "  Reported_date  total_confirmed_cases\n",
       "0    2020-05-20                  69859\n",
       "2    2020-05-21                  73739\n",
       "4    2020-05-22                  76871\n",
       "6    2020-05-23                  76871\n",
       "8    2020-05-24                  82161"
      ]
     },
     "execution_count": 19,
     "metadata": {},
     "output_type": "execute_result"
    }
   ],
   "source": [
    "# Create the Sao Paulo City Covid DataFrame.\n",
    "#SPCovid_df2= SPCovid_df[['Reported_date', 'total_confirmed_cases']]\n",
    "SPCovid_df =CitiesCovid_df[CitiesCovid_df.City == 'Sao Paulo'][['Reported_date', 'total_confirmed_cases']]\n",
    "print(SPCovid_df.shape)\n",
    "SPCovid_df.head()\n"
   ]
  },
  {
   "cell_type": "code",
   "execution_count": 20,
   "metadata": {},
   "outputs": [
    {
     "data": {
      "image/png": "[encoded data removed]",
      "text/plain": [
       "<Figure size 432x288 with 1 Axes>"
      ]
     },
     "metadata": {
      "needs_background": "light"
     },
     "output_type": "display_data"
    }
   ],
   "source": [
    "# Plotting using Seaborn\n",
    "sns.lineplot(x = \"Reported_date\", y = \"total_confirmed_cases\", markers=True, dashes=False, data=SPCovid_df)\n",
    "plt.show()       "
   ]
  },
  {
   "cell_type": "code",
   "execution_count": 22,
   "metadata": {},
   "outputs": [
    {
     "data": {
      "text/plain": [
       "<AxesSubplot:xlabel='total_confirmed_cases'>"
      ]
     },
     "execution_count": 22,
     "metadata": {},
     "output_type": "execute_result"
    },
    {
     "data": {
      "image/png": "[encoded data removed]",
      "text/plain": [
       "<Figure size 432x288 with 1 Axes>"
      ]
     },
     "metadata": {
      "needs_background": "light"
     },
     "output_type": "display_data"
    }
   ],
   "source": [
    "#Finding Outliers in Sao Paulo Covid data\n",
    "\n",
    "# This is kind of univatiate analysis if we are finding outliers in the data\n",
    "#x needs to be a numerical variable\n",
    "\n",
    "sns.boxplot(x ='total_confirmed_cases', data = SPCovid_df)"
   ]
  },
  {
   "cell_type": "code",
   "execution_count": 23,
   "metadata": {},
   "outputs": [
    {
     "data": {
      "text/html": [
       "<div>\n",
       "<style scoped>\n",
       "    .dataframe tbody tr th:only-of-type {\n",
       "        vertical-align: middle;\n",
       "    }\n",
       "\n",
       "    .dataframe tbody tr th {\n",
       "        vertical-align: top;\n",
       "    }\n",
       "\n",
       "    .dataframe thead th {\n",
       "        text-align: right;\n",
       "    }\n",
       "</style>\n",
       "<table border=\"1\" class=\"dataframe\">\n",
       "  <thead>\n",
       "    <tr style=\"text-align: right;\">\n",
       "      <th></th>\n",
       "      <th>Reported_date</th>\n",
       "      <th>total_confirmed_cases</th>\n",
       "    </tr>\n",
       "  </thead>\n",
       "  <tbody>\n",
       "    <tr>\n",
       "      <th>12</th>\n",
       "      <td>2020-05-26</td>\n",
       "      <td>806017</td>\n",
       "    </tr>\n",
       "  </tbody>\n",
       "</table>\n",
       "</div>"
      ],
      "text/plain": [
       "   Reported_date  total_confirmed_cases\n",
       "12    2020-05-26                 806017"
      ]
     },
     "execution_count": 23,
     "metadata": {},
     "output_type": "execute_result"
    }
   ],
   "source": [
    "SPCovid_df[SPCovid_df['total_confirmed_cases']>800000]"
   ]
  },
  {
   "cell_type": "markdown",
   "metadata": {},
   "source": [
    "Weather data plotting for two cities for the Avg Temp and Avg Humidity dailies"
   ]
  },
  {
   "cell_type": "code",
   "execution_count": 24,
   "metadata": {},
   "outputs": [],
   "source": [
    "# Set x axis and tick locations for the weather data plotting\n",
    "x_axis = np.arange(len(CitiesWeather_df))\n",
    "tick_locations = [value for value in x_axis]"
   ]
  },
  {
   "cell_type": "code",
   "execution_count": 25,
   "metadata": {},
   "outputs": [
    {
     "name": "stdout",
     "output_type": "stream",
     "text": [
      "(502, 2)\n"
     ]
    },
    {
     "data": {
      "text/html": [
       "<div>\n",
       "<style scoped>\n",
       "    .dataframe tbody tr th:only-of-type {\n",
       "        vertical-align: middle;\n",
       "    }\n",
       "\n",
       "    .dataframe tbody tr th {\n",
       "        vertical-align: top;\n",
       "    }\n",
       "\n",
       "    .dataframe thead th {\n",
       "        text-align: right;\n",
       "    }\n",
       "</style>\n",
       "<table border=\"1\" class=\"dataframe\">\n",
       "  <thead>\n",
       "    <tr style=\"text-align: right;\">\n",
       "      <th></th>\n",
       "      <th>Reported_date</th>\n",
       "      <th>temp_mean</th>\n",
       "    </tr>\n",
       "  </thead>\n",
       "  <tbody>\n",
       "    <tr>\n",
       "      <th>0</th>\n",
       "      <td>2020-01-01</td>\n",
       "      <td>4.07</td>\n",
       "    </tr>\n",
       "    <tr>\n",
       "      <th>1</th>\n",
       "      <td>2020-01-02</td>\n",
       "      <td>3.26</td>\n",
       "    </tr>\n",
       "    <tr>\n",
       "      <th>2</th>\n",
       "      <td>2020-01-03</td>\n",
       "      <td>7.42</td>\n",
       "    </tr>\n",
       "    <tr>\n",
       "      <th>3</th>\n",
       "      <td>2020-01-04</td>\n",
       "      <td>8.63</td>\n",
       "    </tr>\n",
       "    <tr>\n",
       "      <th>4</th>\n",
       "      <td>2020-01-05</td>\n",
       "      <td>4.92</td>\n",
       "    </tr>\n",
       "  </tbody>\n",
       "</table>\n",
       "</div>"
      ],
      "text/plain": [
       "  Reported_date  temp_mean\n",
       "0    2020-01-01       4.07\n",
       "1    2020-01-02       3.26\n",
       "2    2020-01-03       7.42\n",
       "3    2020-01-04       8.63\n",
       "4    2020-01-05       4.92"
      ]
     },
     "execution_count": 25,
     "metadata": {},
     "output_type": "execute_result"
    }
   ],
   "source": [
    "# Create the NY Weather Temp DataFrame.\n",
    "NYWeatherTemp_df =CitiesWeather_df[CitiesWeather_df.city_name == 'New York'][['Reported_date', 'temp_mean']]\n",
    "print(NYWeatherTemp_df.shape)\n",
    "NYWeatherTemp_df.head()\n",
    "  "
   ]
  },
  {
   "cell_type": "code",
   "execution_count": 26,
   "metadata": {},
   "outputs": [
    {
     "data": {
      "image/png": "[encoded data removed]",
      "text/plain": [
       "<Figure size 432x288 with 1 Axes>"
      ]
     },
     "metadata": {
      "needs_background": "light"
     },
     "output_type": "display_data"
    }
   ],
   "source": [
    "# Plotting using Seaborn-NY Temp\n",
    "sns.lineplot(x = \"Reported_date\", y = \"temp_mean\", markers=True, dashes=False, data=NYWeatherTemp_df)\n",
    "plt.show()"
   ]
  },
  {
   "cell_type": "code",
   "execution_count": 27,
   "metadata": {},
   "outputs": [
    {
     "data": {
      "text/plain": [
       "<AxesSubplot:xlabel='temp_mean'>"
      ]
     },
     "execution_count": 27,
     "metadata": {},
     "output_type": "execute_result"
    },
    {
     "data": {
      "image/png": "[encoded data removed]",
      "text/plain": [
       "<Figure size 432x288 with 1 Axes>"
      ]
     },
     "metadata": {
      "needs_background": "light"
     },
     "output_type": "display_data"
    }
   ],
   "source": [
    "#Finding Outliers in NY Tempreture data\n",
    "\n",
    "# This is kind of univatiate analysis if we are finding outliers in the data\n",
    "#x needs to be a numerical variable\n",
    "\n",
    "sns.boxplot(x ='temp_mean', data = NYWeatherTemp_df)"
   ]
  },
  {
   "cell_type": "code",
   "execution_count": 30,
   "metadata": {},
   "outputs": [
    {
     "name": "stdout",
     "output_type": "stream",
     "text": [
      "(502, 2)\n"
     ]
    },
    {
     "data": {
      "text/html": [
       "<div>\n",
       "<style scoped>\n",
       "    .dataframe tbody tr th:only-of-type {\n",
       "        vertical-align: middle;\n",
       "    }\n",
       "\n",
       "    .dataframe tbody tr th {\n",
       "        vertical-align: top;\n",
       "    }\n",
       "\n",
       "    .dataframe thead th {\n",
       "        text-align: right;\n",
       "    }\n",
       "</style>\n",
       "<table border=\"1\" class=\"dataframe\">\n",
       "  <thead>\n",
       "    <tr style=\"text-align: right;\">\n",
       "      <th></th>\n",
       "      <th>Reported_date</th>\n",
       "      <th>humidity_mean</th>\n",
       "    </tr>\n",
       "  </thead>\n",
       "  <tbody>\n",
       "    <tr>\n",
       "      <th>0</th>\n",
       "      <td>2020-01-01</td>\n",
       "      <td>60.71</td>\n",
       "    </tr>\n",
       "    <tr>\n",
       "      <th>1</th>\n",
       "      <td>2020-01-02</td>\n",
       "      <td>58.62</td>\n",
       "    </tr>\n",
       "    <tr>\n",
       "      <th>2</th>\n",
       "      <td>2020-01-03</td>\n",
       "      <td>78.12</td>\n",
       "    </tr>\n",
       "    <tr>\n",
       "      <th>3</th>\n",
       "      <td>2020-01-04</td>\n",
       "      <td>94.88</td>\n",
       "    </tr>\n",
       "    <tr>\n",
       "      <th>4</th>\n",
       "      <td>2020-01-05</td>\n",
       "      <td>59.67</td>\n",
       "    </tr>\n",
       "  </tbody>\n",
       "</table>\n",
       "</div>"
      ],
      "text/plain": [
       "  Reported_date  humidity_mean\n",
       "0    2020-01-01          60.71\n",
       "1    2020-01-02          58.62\n",
       "2    2020-01-03          78.12\n",
       "3    2020-01-04          94.88\n",
       "4    2020-01-05          59.67"
      ]
     },
     "execution_count": 30,
     "metadata": {},
     "output_type": "execute_result"
    }
   ],
   "source": [
    "# Create the NY Weather Humidity DataFrame.\n",
    "NYWeatherHumidity_df =CitiesWeather_df[CitiesWeather_df.city_name == 'New York'][['Reported_date', 'humidity_mean']]\n",
    "print(NYWeatherHumidity_df.shape)\n",
    "NYWeatherHumidity_df.head()\n"
   ]
  },
  {
   "cell_type": "code",
   "execution_count": 31,
   "metadata": {},
   "outputs": [
    {
     "data": {
      "image/png": "[encoded data removed]",
      "text/plain": [
       "<Figure size 432x288 with 1 Axes>"
      ]
     },
     "metadata": {
      "needs_background": "light"
     },
     "output_type": "display_data"
    }
   ],
   "source": [
    "# Plotting using Seaborn-NY Humidity\n",
    "sns.lineplot(x = \"Reported_date\", y = \"humidity_mean\", markers=True, dashes=False, data=NYWeatherHumidity_df)\n",
    "plt.show()  "
   ]
  },
  {
   "cell_type": "code",
   "execution_count": 32,
   "metadata": {},
   "outputs": [
    {
     "data": {
      "text/plain": [
       "<AxesSubplot:xlabel='humidity_mean'>"
      ]
     },
     "execution_count": 32,
     "metadata": {},
     "output_type": "execute_result"
    },
    {
     "data": {
      "image/png": "[encoded data removed]",
      "text/plain": [
       "<Figure size 432x288 with 1 Axes>"
      ]
     },
     "metadata": {
      "needs_background": "light"
     },
     "output_type": "display_data"
    }
   ],
   "source": [
    "#Finding Outliers in NY Humidity data\n",
    "\n",
    "# This is kind of univatiate analysis if we are finding outliers in the data\n",
    "#x needs to be a numerical variable\n",
    "\n",
    "sns.boxplot(x ='humidity_mean', data = NYWeatherHumidity_df)"
   ]
  },
  {
   "cell_type": "code",
   "execution_count": 33,
   "metadata": {},
   "outputs": [
    {
     "name": "stdout",
     "output_type": "stream",
     "text": [
      "(502, 3)\n"
     ]
    },
    {
     "data": {
      "text/html": [
       "<div>\n",
       "<style scoped>\n",
       "    .dataframe tbody tr th:only-of-type {\n",
       "        vertical-align: middle;\n",
       "    }\n",
       "\n",
       "    .dataframe tbody tr th {\n",
       "        vertical-align: top;\n",
       "    }\n",
       "\n",
       "    .dataframe thead th {\n",
       "        text-align: right;\n",
       "    }\n",
       "</style>\n",
       "<table border=\"1\" class=\"dataframe\">\n",
       "  <thead>\n",
       "    <tr style=\"text-align: right;\">\n",
       "      <th></th>\n",
       "      <th>index</th>\n",
       "      <th>Reported_date</th>\n",
       "      <th>temp_mean</th>\n",
       "    </tr>\n",
       "  </thead>\n",
       "  <tbody>\n",
       "    <tr>\n",
       "      <th>0</th>\n",
       "      <td>502</td>\n",
       "      <td>2020-01-01</td>\n",
       "      <td>25.67</td>\n",
       "    </tr>\n",
       "    <tr>\n",
       "      <th>1</th>\n",
       "      <td>503</td>\n",
       "      <td>2020-01-02</td>\n",
       "      <td>22.89</td>\n",
       "    </tr>\n",
       "    <tr>\n",
       "      <th>2</th>\n",
       "      <td>504</td>\n",
       "      <td>2020-01-03</td>\n",
       "      <td>21.02</td>\n",
       "    </tr>\n",
       "    <tr>\n",
       "      <th>3</th>\n",
       "      <td>505</td>\n",
       "      <td>2020-01-04</td>\n",
       "      <td>21.22</td>\n",
       "    </tr>\n",
       "    <tr>\n",
       "      <th>4</th>\n",
       "      <td>506</td>\n",
       "      <td>2020-01-05</td>\n",
       "      <td>21.13</td>\n",
       "    </tr>\n",
       "  </tbody>\n",
       "</table>\n",
       "</div>"
      ],
      "text/plain": [
       "   index Reported_date  temp_mean\n",
       "0    502    2020-01-01      25.67\n",
       "1    503    2020-01-02      22.89\n",
       "2    504    2020-01-03      21.02\n",
       "3    505    2020-01-04      21.22\n",
       "4    506    2020-01-05      21.13"
      ]
     },
     "execution_count": 33,
     "metadata": {},
     "output_type": "execute_result"
    }
   ],
   "source": [
    "# Create the SP Weather Temp DataFrame.\n",
    "SPWeatherTemp_df =CitiesWeather_df[CitiesWeather_df.city_name == 'Sao Paulo'][['Reported_date', 'temp_mean']].reset_index()\n",
    "print(SPWeatherTemp_df.shape)\n",
    "SPWeatherTemp_df.head()\n"
   ]
  },
  {
   "cell_type": "code",
   "execution_count": 34,
   "metadata": {},
   "outputs": [
    {
     "data": {
      "image/png": "[encoded data removed]",
      "text/plain": [
       "<Figure size 432x288 with 1 Axes>"
      ]
     },
     "metadata": {
      "needs_background": "light"
     },
     "output_type": "display_data"
    }
   ],
   "source": [
    "# Plotting using Seaborn-SP Temp\n",
    "sns.lineplot(x = \"Reported_date\", y = \"temp_mean\", markers=True, dashes=False, data=SPWeatherTemp_df)\n",
    "plt.show() "
   ]
  },
  {
   "cell_type": "code",
   "execution_count": 35,
   "metadata": {},
   "outputs": [
    {
     "data": {
      "text/plain": [
       "<AxesSubplot:xlabel='temp_mean'>"
      ]
     },
     "execution_count": 35,
     "metadata": {},
     "output_type": "execute_result"
    },
    {
     "data": {
      "image/png": "[encoded data removed]",
      "text/plain": [
       "<Figure size 432x288 with 1 Axes>"
      ]
     },
     "metadata": {
      "needs_background": "light"
     },
     "output_type": "display_data"
    }
   ],
   "source": [
    "#Finding Outliers in Sao Paulo Temp data\n",
    "\n",
    "# This is kind of univatiate analysis if we are finding outliers in the data\n",
    "#x needs to be a numerical variable\n",
    "\n",
    "sns.boxplot(x ='temp_mean', data = SPWeatherTemp_df)"
   ]
  },
  {
   "cell_type": "code",
   "execution_count": 37,
   "metadata": {},
   "outputs": [
    {
     "data": {
      "text/html": [
       "<div>\n",
       "<style scoped>\n",
       "    .dataframe tbody tr th:only-of-type {\n",
       "        vertical-align: middle;\n",
       "    }\n",
       "\n",
       "    .dataframe tbody tr th {\n",
       "        vertical-align: top;\n",
       "    }\n",
       "\n",
       "    .dataframe thead th {\n",
       "        text-align: right;\n",
       "    }\n",
       "</style>\n",
       "<table border=\"1\" class=\"dataframe\">\n",
       "  <thead>\n",
       "    <tr style=\"text-align: right;\">\n",
       "      <th></th>\n",
       "      <th>index</th>\n",
       "      <th>Reported_date</th>\n",
       "      <th>temp_mean</th>\n",
       "    </tr>\n",
       "  </thead>\n",
       "  <tbody>\n",
       "    <tr>\n",
       "      <th>233</th>\n",
       "      <td>735</td>\n",
       "      <td>2020-08-21</td>\n",
       "      <td>10.92</td>\n",
       "    </tr>\n",
       "    <tr>\n",
       "      <th>234</th>\n",
       "      <td>736</td>\n",
       "      <td>2020-08-22</td>\n",
       "      <td>10.44</td>\n",
       "    </tr>\n",
       "  </tbody>\n",
       "</table>\n",
       "</div>"
      ],
      "text/plain": [
       "     index Reported_date  temp_mean\n",
       "233    735    2020-08-21      10.92\n",
       "234    736    2020-08-22      10.44"
      ]
     },
     "execution_count": 37,
     "metadata": {},
     "output_type": "execute_result"
    }
   ],
   "source": [
    "SPWeatherTemp_df[SPWeatherTemp_df['temp_mean']>28]\n",
    "SPWeatherTemp_df[SPWeatherTemp_df['temp_mean']<12.5]"
   ]
  },
  {
   "cell_type": "code",
   "execution_count": 38,
   "metadata": {},
   "outputs": [
    {
     "name": "stdout",
     "output_type": "stream",
     "text": [
      "(502, 3)\n"
     ]
    },
    {
     "data": {
      "text/html": [
       "<div>\n",
       "<style scoped>\n",
       "    .dataframe tbody tr th:only-of-type {\n",
       "        vertical-align: middle;\n",
       "    }\n",
       "\n",
       "    .dataframe tbody tr th {\n",
       "        vertical-align: top;\n",
       "    }\n",
       "\n",
       "    .dataframe thead th {\n",
       "        text-align: right;\n",
       "    }\n",
       "</style>\n",
       "<table border=\"1\" class=\"dataframe\">\n",
       "  <thead>\n",
       "    <tr style=\"text-align: right;\">\n",
       "      <th></th>\n",
       "      <th>index</th>\n",
       "      <th>Reported_date</th>\n",
       "      <th>humidity_mean</th>\n",
       "    </tr>\n",
       "  </thead>\n",
       "  <tbody>\n",
       "    <tr>\n",
       "      <th>0</th>\n",
       "      <td>502</td>\n",
       "      <td>2020-01-01</td>\n",
       "      <td>66.21</td>\n",
       "    </tr>\n",
       "    <tr>\n",
       "      <th>1</th>\n",
       "      <td>503</td>\n",
       "      <td>2020-01-02</td>\n",
       "      <td>81.40</td>\n",
       "    </tr>\n",
       "    <tr>\n",
       "      <th>2</th>\n",
       "      <td>504</td>\n",
       "      <td>2020-01-03</td>\n",
       "      <td>83.88</td>\n",
       "    </tr>\n",
       "    <tr>\n",
       "      <th>3</th>\n",
       "      <td>505</td>\n",
       "      <td>2020-01-04</td>\n",
       "      <td>79.76</td>\n",
       "    </tr>\n",
       "    <tr>\n",
       "      <th>4</th>\n",
       "      <td>506</td>\n",
       "      <td>2020-01-05</td>\n",
       "      <td>84.15</td>\n",
       "    </tr>\n",
       "  </tbody>\n",
       "</table>\n",
       "</div>"
      ],
      "text/plain": [
       "   index Reported_date  humidity_mean\n",
       "0    502    2020-01-01          66.21\n",
       "1    503    2020-01-02          81.40\n",
       "2    504    2020-01-03          83.88\n",
       "3    505    2020-01-04          79.76\n",
       "4    506    2020-01-05          84.15"
      ]
     },
     "execution_count": 38,
     "metadata": {},
     "output_type": "execute_result"
    }
   ],
   "source": [
    "# Create the SP Weather Humidity DataFrame.\n",
    "SPWeatherHumidity_df =CitiesWeather_df[CitiesWeather_df.city_name == 'Sao Paulo'][['Reported_date', 'humidity_mean']].reset_index()\n",
    "print(SPWeatherHumidity_df.shape)\n",
    "SPWeatherHumidity_df.head()"
   ]
  },
  {
   "cell_type": "code",
   "execution_count": 39,
   "metadata": {},
   "outputs": [
    {
     "data": {
      "image/png": "[encoded data removed]",
      "text/plain": [
       "<Figure size 432x288 with 1 Axes>"
      ]
     },
     "metadata": {
      "needs_background": "light"
     },
     "output_type": "display_data"
    }
   ],
   "source": [
    "# Plotting using Seaborn-SP Humidity\n",
    "sns.lineplot(x = \"Reported_date\", y = \"humidity_mean\", markers=True, dashes=False, data=SPWeatherHumidity_df)\n",
    "plt.show() "
   ]
  },
  {
   "cell_type": "code",
   "execution_count": 40,
   "metadata": {},
   "outputs": [
    {
     "data": {
      "text/plain": [
       "<AxesSubplot:xlabel='humidity_mean'>"
      ]
     },
     "execution_count": 40,
     "metadata": {},
     "output_type": "execute_result"
    },
    {
     "data": {
      "image/png": "[encoded data removed]",
      "text/plain": [
       "<Figure size 432x288 with 1 Axes>"
      ]
     },
     "metadata": {
      "needs_background": "light"
     },
     "output_type": "display_data"
    }
   ],
   "source": [
    "#Finding Outliers in Sao Paulo Humidity data\n",
    "\n",
    "# This is kind of univatiate analysis if we are finding outliers in the data\n",
    "#x needs to be a numerical variable\n",
    "\n",
    "sns.boxplot(x ='humidity_mean', data = SPWeatherHumidity_df)"
   ]
  },
  {
   "cell_type": "code",
   "execution_count": 43,
   "metadata": {},
   "outputs": [
    {
     "data": {
      "text/html": [
       "<div>\n",
       "<style scoped>\n",
       "    .dataframe tbody tr th:only-of-type {\n",
       "        vertical-align: middle;\n",
       "    }\n",
       "\n",
       "    .dataframe tbody tr th {\n",
       "        vertical-align: top;\n",
       "    }\n",
       "\n",
       "    .dataframe thead th {\n",
       "        text-align: right;\n",
       "    }\n",
       "</style>\n",
       "<table border=\"1\" class=\"dataframe\">\n",
       "  <thead>\n",
       "    <tr style=\"text-align: right;\">\n",
       "      <th></th>\n",
       "      <th>index</th>\n",
       "      <th>Reported_date</th>\n",
       "      <th>humidity_mean</th>\n",
       "    </tr>\n",
       "  </thead>\n",
       "  <tbody>\n",
       "    <tr>\n",
       "      <th>40</th>\n",
       "      <td>542</td>\n",
       "      <td>2020-02-10</td>\n",
       "      <td>93.0</td>\n",
       "    </tr>\n",
       "  </tbody>\n",
       "</table>\n",
       "</div>"
      ],
      "text/plain": [
       "    index Reported_date  humidity_mean\n",
       "40    542    2020-02-10           93.0"
      ]
     },
     "execution_count": 43,
     "metadata": {},
     "output_type": "execute_result"
    }
   ],
   "source": [
    "SPWeatherHumidity_df[SPWeatherHumidity_df['humidity_mean']<50]\n",
    "SPWeatherHumidity_df[SPWeatherHumidity_df['humidity_mean']>90]"
   ]
  },
  {
   "cell_type": "markdown",
   "metadata": {},
   "source": [
    "# New Cases per Day"
   ]
  },
  {
   "cell_type": "code",
   "execution_count": 44,
   "metadata": {},
   "outputs": [
    {
     "name": "stdout",
     "output_type": "stream",
     "text": [
      "(360, 5)\n"
     ]
    },
    {
     "data": {
      "text/html": [
       "<div>\n",
       "<style scoped>\n",
       "    .dataframe tbody tr th:only-of-type {\n",
       "        vertical-align: middle;\n",
       "    }\n",
       "\n",
       "    .dataframe tbody tr th {\n",
       "        vertical-align: top;\n",
       "    }\n",
       "\n",
       "    .dataframe thead th {\n",
       "        text-align: right;\n",
       "    }\n",
       "</style>\n",
       "<table border=\"1\" class=\"dataframe\">\n",
       "  <thead>\n",
       "    <tr style=\"text-align: right;\">\n",
       "      <th></th>\n",
       "      <th>index</th>\n",
       "      <th>City</th>\n",
       "      <th>Reported_date</th>\n",
       "      <th>total_confirmed_cases</th>\n",
       "      <th>New_cases</th>\n",
       "    </tr>\n",
       "  </thead>\n",
       "  <tbody>\n",
       "    <tr>\n",
       "      <th>0</th>\n",
       "      <td>1</td>\n",
       "      <td>New York</td>\n",
       "      <td>2020-05-21</td>\n",
       "      <td>356458</td>\n",
       "      <td>2088.0</td>\n",
       "    </tr>\n",
       "    <tr>\n",
       "      <th>1</th>\n",
       "      <td>2</td>\n",
       "      <td>New York</td>\n",
       "      <td>2020-05-22</td>\n",
       "      <td>358154</td>\n",
       "      <td>1696.0</td>\n",
       "    </tr>\n",
       "    <tr>\n",
       "      <th>2</th>\n",
       "      <td>3</td>\n",
       "      <td>New York</td>\n",
       "      <td>2020-05-23</td>\n",
       "      <td>359926</td>\n",
       "      <td>1772.0</td>\n",
       "    </tr>\n",
       "    <tr>\n",
       "      <th>3</th>\n",
       "      <td>4</td>\n",
       "      <td>New York</td>\n",
       "      <td>2020-05-24</td>\n",
       "      <td>361515</td>\n",
       "      <td>1589.0</td>\n",
       "    </tr>\n",
       "    <tr>\n",
       "      <th>4</th>\n",
       "      <td>5</td>\n",
       "      <td>New York</td>\n",
       "      <td>2020-05-25</td>\n",
       "      <td>362764</td>\n",
       "      <td>1249.0</td>\n",
       "    </tr>\n",
       "  </tbody>\n",
       "</table>\n",
       "</div>"
      ],
      "text/plain": [
       "   index      City Reported_date  total_confirmed_cases  New_cases\n",
       "0      1  New York    2020-05-21                 356458     2088.0\n",
       "1      2  New York    2020-05-22                 358154     1696.0\n",
       "2      3  New York    2020-05-23                 359926     1772.0\n",
       "3      4  New York    2020-05-24                 361515     1589.0\n",
       "4      5  New York    2020-05-25                 362764     1249.0"
      ]
     },
     "execution_count": 44,
     "metadata": {},
     "output_type": "execute_result"
    }
   ],
   "source": [
    "#I calculated the number of new cases recorded for each day by calculating the difference between current confirmed cases from the previous day (Confirmed.diff())\n",
    "\n",
    "#Data Preprocessing\n",
    "CitiesCovid_grouped = (CitiesCovid_df.groupby(['City','Reported_date']).total_confirmed_cases.sum()).reset_index()\n",
    "\n",
    "#_____________New York New Cases Data______\n",
    "\n",
    "NY_newcases = CitiesCovid_grouped.loc[CitiesCovid_grouped['City']=='New York']\n",
    "NY_newcases.insert(3, 'New_cases', NY_newcases[['total_confirmed_cases']].diff().fillna(NY_newcases[['total_confirmed_cases']]), True)\n",
    "\n",
    "# as May 20-2020 is the first record on dataset, starting Newcases from 21-May 2021 to be able to have a difference from previous date\n",
    "NY_newcases = NY_newcases.iloc[1:361].reset_index() \n",
    "print(NY_newcases.shape)\n",
    "NY_newcases.head()\n",
    "\n",
    "\n",
    "\n"
   ]
  },
  {
   "cell_type": "code",
   "execution_count": 45,
   "metadata": {},
   "outputs": [
    {
     "name": "stdout",
     "output_type": "stream",
     "text": [
      "(360, 5)\n"
     ]
    },
    {
     "data": {
      "text/html": [
       "<div>\n",
       "<style scoped>\n",
       "    .dataframe tbody tr th:only-of-type {\n",
       "        vertical-align: middle;\n",
       "    }\n",
       "\n",
       "    .dataframe tbody tr th {\n",
       "        vertical-align: top;\n",
       "    }\n",
       "\n",
       "    .dataframe thead th {\n",
       "        text-align: right;\n",
       "    }\n",
       "</style>\n",
       "<table border=\"1\" class=\"dataframe\">\n",
       "  <thead>\n",
       "    <tr style=\"text-align: right;\">\n",
       "      <th></th>\n",
       "      <th>index</th>\n",
       "      <th>City</th>\n",
       "      <th>Reported_date</th>\n",
       "      <th>total_confirmed_cases</th>\n",
       "      <th>New_cases</th>\n",
       "    </tr>\n",
       "  </thead>\n",
       "  <tbody>\n",
       "    <tr>\n",
       "      <th>0</th>\n",
       "      <td>362</td>\n",
       "      <td>Sao Paulo</td>\n",
       "      <td>2020-05-21</td>\n",
       "      <td>73739</td>\n",
       "      <td>3880.0</td>\n",
       "    </tr>\n",
       "    <tr>\n",
       "      <th>1</th>\n",
       "      <td>363</td>\n",
       "      <td>Sao Paulo</td>\n",
       "      <td>2020-05-22</td>\n",
       "      <td>76871</td>\n",
       "      <td>3132.0</td>\n",
       "    </tr>\n",
       "    <tr>\n",
       "      <th>2</th>\n",
       "      <td>364</td>\n",
       "      <td>Sao Paulo</td>\n",
       "      <td>2020-05-23</td>\n",
       "      <td>76871</td>\n",
       "      <td>0.0</td>\n",
       "    </tr>\n",
       "    <tr>\n",
       "      <th>3</th>\n",
       "      <td>365</td>\n",
       "      <td>Sao Paulo</td>\n",
       "      <td>2020-05-24</td>\n",
       "      <td>82161</td>\n",
       "      <td>5290.0</td>\n",
       "    </tr>\n",
       "    <tr>\n",
       "      <th>4</th>\n",
       "      <td>366</td>\n",
       "      <td>Sao Paulo</td>\n",
       "      <td>2020-05-25</td>\n",
       "      <td>83625</td>\n",
       "      <td>1464.0</td>\n",
       "    </tr>\n",
       "  </tbody>\n",
       "</table>\n",
       "</div>"
      ],
      "text/plain": [
       "   index       City Reported_date  total_confirmed_cases  New_cases\n",
       "0    362  Sao Paulo    2020-05-21                  73739     3880.0\n",
       "1    363  Sao Paulo    2020-05-22                  76871     3132.0\n",
       "2    364  Sao Paulo    2020-05-23                  76871        0.0\n",
       "3    365  Sao Paulo    2020-05-24                  82161     5290.0\n",
       "4    366  Sao Paulo    2020-05-25                  83625     1464.0"
      ]
     },
     "execution_count": 45,
     "metadata": {},
     "output_type": "execute_result"
    }
   ],
   "source": [
    "#_____________Sao Paulo New Cases Data______\n",
    "\n",
    "SP_newcases = CitiesCovid_grouped.loc[CitiesCovid_grouped['City']=='Sao Paulo']\n",
    "SP_newcases.insert(3, 'New_cases', SP_newcases[['total_confirmed_cases']].diff().fillna(SP_newcases[['total_confirmed_cases']]), True)\n",
    "\n",
    "# as May 20-2020 is the first record on dataset, starting Newcases from 21-May 2021 to be able to have a difference from previous date\n",
    "SP_newcases = SP_newcases.iloc[1:361].reset_index() \n",
    "print(SP_newcases.shape)\n",
    "SP_newcases.head()"
   ]
  },
  {
   "cell_type": "markdown",
   "metadata": {},
   "source": [
    "# Merge Dataset with City New Cases with Weather of that city"
   ]
  },
  {
   "cell_type": "code",
   "execution_count": 65,
   "metadata": {},
   "outputs": [],
   "source": [
    "# concat doesnt work here\n",
    "#NY_Full_df = pd.concat([NY_newcases[['Reported_date']],NY_newcases[['New_cases']],NYWeatherTemp_df[['temp_mean']],NYWeatherHumidity_df[['humidity_mean']]], axis =1)\n"
   ]
  },
  {
   "cell_type": "code",
   "execution_count": 66,
   "metadata": {},
   "outputs": [
    {
     "name": "stdout",
     "output_type": "stream",
     "text": [
      "<class 'pandas.core.frame.DataFrame'>\n",
      "Int64Index: 360 entries, 0 to 359\n",
      "Data columns (total 6 columns):\n",
      " #   Column                 Non-Null Count  Dtype         \n",
      "---  ------                 --------------  -----         \n",
      " 0   index                  360 non-null    int64         \n",
      " 1   City                   360 non-null    object        \n",
      " 2   Reported_date          360 non-null    datetime64[ns]\n",
      " 3   total_confirmed_cases  360 non-null    int64         \n",
      " 4   New_cases              360 non-null    float64       \n",
      " 5   temp_mean              360 non-null    float64       \n",
      "dtypes: datetime64[ns](1), float64(2), int64(2), object(1)\n",
      "memory usage: 19.7+ KB\n"
     ]
    },
    {
     "data": {
      "text/html": [
       "<div>\n",
       "<style scoped>\n",
       "    .dataframe tbody tr th:only-of-type {\n",
       "        vertical-align: middle;\n",
       "    }\n",
       "\n",
       "    .dataframe tbody tr th {\n",
       "        vertical-align: top;\n",
       "    }\n",
       "\n",
       "    .dataframe thead th {\n",
       "        text-align: right;\n",
       "    }\n",
       "</style>\n",
       "<table border=\"1\" class=\"dataframe\">\n",
       "  <thead>\n",
       "    <tr style=\"text-align: right;\">\n",
       "      <th></th>\n",
       "      <th>index</th>\n",
       "      <th>City</th>\n",
       "      <th>Reported_date</th>\n",
       "      <th>total_confirmed_cases</th>\n",
       "      <th>New_cases</th>\n",
       "      <th>temp_mean</th>\n",
       "    </tr>\n",
       "  </thead>\n",
       "  <tbody>\n",
       "    <tr>\n",
       "      <th>0</th>\n",
       "      <td>1</td>\n",
       "      <td>New York</td>\n",
       "      <td>2020-05-21</td>\n",
       "      <td>356458</td>\n",
       "      <td>2088.0</td>\n",
       "      <td>12.87</td>\n",
       "    </tr>\n",
       "    <tr>\n",
       "      <th>1</th>\n",
       "      <td>2</td>\n",
       "      <td>New York</td>\n",
       "      <td>2020-05-22</td>\n",
       "      <td>358154</td>\n",
       "      <td>1696.0</td>\n",
       "      <td>16.64</td>\n",
       "    </tr>\n",
       "    <tr>\n",
       "      <th>2</th>\n",
       "      <td>3</td>\n",
       "      <td>New York</td>\n",
       "      <td>2020-05-23</td>\n",
       "      <td>359926</td>\n",
       "      <td>1772.0</td>\n",
       "      <td>17.19</td>\n",
       "    </tr>\n",
       "    <tr>\n",
       "      <th>3</th>\n",
       "      <td>4</td>\n",
       "      <td>New York</td>\n",
       "      <td>2020-05-24</td>\n",
       "      <td>361515</td>\n",
       "      <td>1589.0</td>\n",
       "      <td>14.67</td>\n",
       "    </tr>\n",
       "    <tr>\n",
       "      <th>4</th>\n",
       "      <td>5</td>\n",
       "      <td>New York</td>\n",
       "      <td>2020-05-25</td>\n",
       "      <td>362764</td>\n",
       "      <td>1249.0</td>\n",
       "      <td>16.24</td>\n",
       "    </tr>\n",
       "  </tbody>\n",
       "</table>\n",
       "</div>"
      ],
      "text/plain": [
       "   index      City Reported_date  total_confirmed_cases  New_cases  temp_mean\n",
       "0      1  New York    2020-05-21                 356458     2088.0      12.87\n",
       "1      2  New York    2020-05-22                 358154     1696.0      16.64\n",
       "2      3  New York    2020-05-23                 359926     1772.0      17.19\n",
       "3      4  New York    2020-05-24                 361515     1589.0      14.67\n",
       "4      5  New York    2020-05-25                 362764     1249.0      16.24"
      ]
     },
     "execution_count": 66,
     "metadata": {},
     "output_type": "execute_result"
    }
   ],
   "source": [
    "# Create FULL NY DF with LEFT JOIN in 2 steps joining the New cases + Temp+ humidity table for data starting May 21-2020\n",
    "NY_merge2_df = pd.merge(NY_newcases, NYWeatherTemp_df, how=\"left\", on=[\"Reported_date\"])\n",
    "NY_merge2_df.info()\n",
    "NY_merge2_df.head()\n",
    "\n"
   ]
  },
  {
   "cell_type": "code",
   "execution_count": 67,
   "metadata": {},
   "outputs": [
    {
     "name": "stdout",
     "output_type": "stream",
     "text": [
      "<class 'pandas.core.frame.DataFrame'>\n",
      "Int64Index: 360 entries, 0 to 359\n",
      "Data columns (total 7 columns):\n",
      " #   Column                 Non-Null Count  Dtype         \n",
      "---  ------                 --------------  -----         \n",
      " 0   index                  360 non-null    int64         \n",
      " 1   City                   360 non-null    object        \n",
      " 2   Reported_date          360 non-null    datetime64[ns]\n",
      " 3   total_confirmed_cases  360 non-null    int64         \n",
      " 4   New_cases              360 non-null    float64       \n",
      " 5   temp_mean              360 non-null    float64       \n",
      " 6   humidity_mean          360 non-null    float64       \n",
      "dtypes: datetime64[ns](1), float64(3), int64(2), object(1)\n",
      "memory usage: 22.5+ KB\n"
     ]
    },
    {
     "data": {
      "text/html": [
       "<div>\n",
       "<style scoped>\n",
       "    .dataframe tbody tr th:only-of-type {\n",
       "        vertical-align: middle;\n",
       "    }\n",
       "\n",
       "    .dataframe tbody tr th {\n",
       "        vertical-align: top;\n",
       "    }\n",
       "\n",
       "    .dataframe thead th {\n",
       "        text-align: right;\n",
       "    }\n",
       "</style>\n",
       "<table border=\"1\" class=\"dataframe\">\n",
       "  <thead>\n",
       "    <tr style=\"text-align: right;\">\n",
       "      <th></th>\n",
       "      <th>index</th>\n",
       "      <th>City</th>\n",
       "      <th>Reported_date</th>\n",
       "      <th>total_confirmed_cases</th>\n",
       "      <th>New_cases</th>\n",
       "      <th>temp_mean</th>\n",
       "      <th>humidity_mean</th>\n",
       "    </tr>\n",
       "  </thead>\n",
       "  <tbody>\n",
       "    <tr>\n",
       "      <th>0</th>\n",
       "      <td>1</td>\n",
       "      <td>New York</td>\n",
       "      <td>2020-05-21</td>\n",
       "      <td>356458</td>\n",
       "      <td>2088.0</td>\n",
       "      <td>12.87</td>\n",
       "      <td>60.62</td>\n",
       "    </tr>\n",
       "    <tr>\n",
       "      <th>1</th>\n",
       "      <td>2</td>\n",
       "      <td>New York</td>\n",
       "      <td>2020-05-22</td>\n",
       "      <td>358154</td>\n",
       "      <td>1696.0</td>\n",
       "      <td>16.64</td>\n",
       "      <td>74.44</td>\n",
       "    </tr>\n",
       "    <tr>\n",
       "      <th>2</th>\n",
       "      <td>3</td>\n",
       "      <td>New York</td>\n",
       "      <td>2020-05-23</td>\n",
       "      <td>359926</td>\n",
       "      <td>1772.0</td>\n",
       "      <td>17.19</td>\n",
       "      <td>91.86</td>\n",
       "    </tr>\n",
       "    <tr>\n",
       "      <th>3</th>\n",
       "      <td>4</td>\n",
       "      <td>New York</td>\n",
       "      <td>2020-05-24</td>\n",
       "      <td>361515</td>\n",
       "      <td>1589.0</td>\n",
       "      <td>14.67</td>\n",
       "      <td>65.12</td>\n",
       "    </tr>\n",
       "    <tr>\n",
       "      <th>4</th>\n",
       "      <td>5</td>\n",
       "      <td>New York</td>\n",
       "      <td>2020-05-25</td>\n",
       "      <td>362764</td>\n",
       "      <td>1249.0</td>\n",
       "      <td>16.24</td>\n",
       "      <td>75.71</td>\n",
       "    </tr>\n",
       "  </tbody>\n",
       "</table>\n",
       "</div>"
      ],
      "text/plain": [
       "   index      City Reported_date  total_confirmed_cases  New_cases  temp_mean  \\\n",
       "0      1  New York    2020-05-21                 356458     2088.0      12.87   \n",
       "1      2  New York    2020-05-22                 358154     1696.0      16.64   \n",
       "2      3  New York    2020-05-23                 359926     1772.0      17.19   \n",
       "3      4  New York    2020-05-24                 361515     1589.0      14.67   \n",
       "4      5  New York    2020-05-25                 362764     1249.0      16.24   \n",
       "\n",
       "   humidity_mean  \n",
       "0          60.62  \n",
       "1          74.44  \n",
       "2          91.86  \n",
       "3          65.12  \n",
       "4          75.71  "
      ]
     },
     "execution_count": 67,
     "metadata": {},
     "output_type": "execute_result"
    }
   ],
   "source": [
    "NY_merge_full_df = pd.merge(NY_merge2_df, NYWeatherHumidity_df, how=\"left\", on=[\"Reported_date\"])\n",
    "NY_merge_full_df.info()\n",
    "NY_merge_full_df.head()"
   ]
  },
  {
   "cell_type": "code",
   "execution_count": 68,
   "metadata": {},
   "outputs": [
    {
     "data": {
      "text/html": [
       "<div>\n",
       "<style scoped>\n",
       "    .dataframe tbody tr th:only-of-type {\n",
       "        vertical-align: middle;\n",
       "    }\n",
       "\n",
       "    .dataframe tbody tr th {\n",
       "        vertical-align: top;\n",
       "    }\n",
       "\n",
       "    .dataframe thead th {\n",
       "        text-align: right;\n",
       "    }\n",
       "</style>\n",
       "<table border=\"1\" class=\"dataframe\">\n",
       "  <thead>\n",
       "    <tr style=\"text-align: right;\">\n",
       "      <th></th>\n",
       "      <th>Reported_date</th>\n",
       "      <th>New_cases</th>\n",
       "      <th>temp_mean</th>\n",
       "      <th>humidity_mean</th>\n",
       "    </tr>\n",
       "  </thead>\n",
       "  <tbody>\n",
       "    <tr>\n",
       "      <th>0</th>\n",
       "      <td>2020-05-21</td>\n",
       "      <td>2088.0</td>\n",
       "      <td>12.87</td>\n",
       "      <td>60.62</td>\n",
       "    </tr>\n",
       "    <tr>\n",
       "      <th>1</th>\n",
       "      <td>2020-05-22</td>\n",
       "      <td>1696.0</td>\n",
       "      <td>16.64</td>\n",
       "      <td>74.44</td>\n",
       "    </tr>\n",
       "    <tr>\n",
       "      <th>2</th>\n",
       "      <td>2020-05-23</td>\n",
       "      <td>1772.0</td>\n",
       "      <td>17.19</td>\n",
       "      <td>91.86</td>\n",
       "    </tr>\n",
       "    <tr>\n",
       "      <th>3</th>\n",
       "      <td>2020-05-24</td>\n",
       "      <td>1589.0</td>\n",
       "      <td>14.67</td>\n",
       "      <td>65.12</td>\n",
       "    </tr>\n",
       "    <tr>\n",
       "      <th>4</th>\n",
       "      <td>2020-05-25</td>\n",
       "      <td>1249.0</td>\n",
       "      <td>16.24</td>\n",
       "      <td>75.71</td>\n",
       "    </tr>\n",
       "  </tbody>\n",
       "</table>\n",
       "</div>"
      ],
      "text/plain": [
       "  Reported_date  New_cases  temp_mean  humidity_mean\n",
       "0    2020-05-21     2088.0      12.87          60.62\n",
       "1    2020-05-22     1696.0      16.64          74.44\n",
       "2    2020-05-23     1772.0      17.19          91.86\n",
       "3    2020-05-24     1589.0      14.67          65.12\n",
       "4    2020-05-25     1249.0      16.24          75.71"
      ]
     },
     "execution_count": 68,
     "metadata": {},
     "output_type": "execute_result"
    }
   ],
   "source": [
    "# Delete extraneous columns\n",
    "del NY_merge_full_df[\"index\"]\n",
    "del NY_merge_full_df[\"City\"]\n",
    "del NY_merge_full_df[\"total_confirmed_cases\"]\n",
    "NY_merge_full_df.head()"
   ]
  },
  {
   "cell_type": "code",
   "execution_count": 69,
   "metadata": {},
   "outputs": [
    {
     "name": "stdout",
     "output_type": "stream",
     "text": [
      "<class 'pandas.core.frame.DataFrame'>\n",
      "Int64Index: 360 entries, 0 to 359\n",
      "Data columns (total 7 columns):\n",
      " #   Column                 Non-Null Count  Dtype         \n",
      "---  ------                 --------------  -----         \n",
      " 0   index_x                360 non-null    int64         \n",
      " 1   City                   360 non-null    object        \n",
      " 2   Reported_date          360 non-null    datetime64[ns]\n",
      " 3   total_confirmed_cases  360 non-null    int64         \n",
      " 4   New_cases              360 non-null    float64       \n",
      " 5   index_y                360 non-null    int64         \n",
      " 6   temp_mean              360 non-null    float64       \n",
      "dtypes: datetime64[ns](1), float64(2), int64(3), object(1)\n",
      "memory usage: 22.5+ KB\n"
     ]
    },
    {
     "data": {
      "text/html": [
       "<div>\n",
       "<style scoped>\n",
       "    .dataframe tbody tr th:only-of-type {\n",
       "        vertical-align: middle;\n",
       "    }\n",
       "\n",
       "    .dataframe tbody tr th {\n",
       "        vertical-align: top;\n",
       "    }\n",
       "\n",
       "    .dataframe thead th {\n",
       "        text-align: right;\n",
       "    }\n",
       "</style>\n",
       "<table border=\"1\" class=\"dataframe\">\n",
       "  <thead>\n",
       "    <tr style=\"text-align: right;\">\n",
       "      <th></th>\n",
       "      <th>index_x</th>\n",
       "      <th>City</th>\n",
       "      <th>Reported_date</th>\n",
       "      <th>total_confirmed_cases</th>\n",
       "      <th>New_cases</th>\n",
       "      <th>index_y</th>\n",
       "      <th>temp_mean</th>\n",
       "    </tr>\n",
       "  </thead>\n",
       "  <tbody>\n",
       "    <tr>\n",
       "      <th>0</th>\n",
       "      <td>362</td>\n",
       "      <td>Sao Paulo</td>\n",
       "      <td>2020-05-21</td>\n",
       "      <td>73739</td>\n",
       "      <td>3880.0</td>\n",
       "      <td>643</td>\n",
       "      <td>19.50</td>\n",
       "    </tr>\n",
       "    <tr>\n",
       "      <th>1</th>\n",
       "      <td>363</td>\n",
       "      <td>Sao Paulo</td>\n",
       "      <td>2020-05-22</td>\n",
       "      <td>76871</td>\n",
       "      <td>3132.0</td>\n",
       "      <td>644</td>\n",
       "      <td>20.75</td>\n",
       "    </tr>\n",
       "    <tr>\n",
       "      <th>2</th>\n",
       "      <td>364</td>\n",
       "      <td>Sao Paulo</td>\n",
       "      <td>2020-05-23</td>\n",
       "      <td>76871</td>\n",
       "      <td>0.0</td>\n",
       "      <td>645</td>\n",
       "      <td>20.50</td>\n",
       "    </tr>\n",
       "    <tr>\n",
       "      <th>3</th>\n",
       "      <td>365</td>\n",
       "      <td>Sao Paulo</td>\n",
       "      <td>2020-05-24</td>\n",
       "      <td>82161</td>\n",
       "      <td>5290.0</td>\n",
       "      <td>646</td>\n",
       "      <td>13.83</td>\n",
       "    </tr>\n",
       "    <tr>\n",
       "      <th>4</th>\n",
       "      <td>366</td>\n",
       "      <td>Sao Paulo</td>\n",
       "      <td>2020-05-25</td>\n",
       "      <td>83625</td>\n",
       "      <td>1464.0</td>\n",
       "      <td>647</td>\n",
       "      <td>14.62</td>\n",
       "    </tr>\n",
       "  </tbody>\n",
       "</table>\n",
       "</div>"
      ],
      "text/plain": [
       "   index_x       City Reported_date  total_confirmed_cases  New_cases  \\\n",
       "0      362  Sao Paulo    2020-05-21                  73739     3880.0   \n",
       "1      363  Sao Paulo    2020-05-22                  76871     3132.0   \n",
       "2      364  Sao Paulo    2020-05-23                  76871        0.0   \n",
       "3      365  Sao Paulo    2020-05-24                  82161     5290.0   \n",
       "4      366  Sao Paulo    2020-05-25                  83625     1464.0   \n",
       "\n",
       "   index_y  temp_mean  \n",
       "0      643      19.50  \n",
       "1      644      20.75  \n",
       "2      645      20.50  \n",
       "3      646      13.83  \n",
       "4      647      14.62  "
      ]
     },
     "execution_count": 69,
     "metadata": {},
     "output_type": "execute_result"
    }
   ],
   "source": [
    "# Create FULL SPDF with LEFT JOIN in 2 steps joining the New cases + Temp+ humidity table for data starting May 21-2020\n",
    "SP_merge2_df = pd.merge(SP_newcases, SPWeatherTemp_df, how=\"left\", on=[\"Reported_date\"])\n",
    "SP_merge2_df.info()\n",
    "SP_merge2_df.head()"
   ]
  },
  {
   "cell_type": "code",
   "execution_count": 70,
   "metadata": {},
   "outputs": [
    {
     "name": "stdout",
     "output_type": "stream",
     "text": [
      "<class 'pandas.core.frame.DataFrame'>\n",
      "Int64Index: 360 entries, 0 to 359\n",
      "Data columns (total 9 columns):\n",
      " #   Column                 Non-Null Count  Dtype         \n",
      "---  ------                 --------------  -----         \n",
      " 0   index_x                360 non-null    int64         \n",
      " 1   City                   360 non-null    object        \n",
      " 2   Reported_date          360 non-null    datetime64[ns]\n",
      " 3   total_confirmed_cases  360 non-null    int64         \n",
      " 4   New_cases              360 non-null    float64       \n",
      " 5   index_y                360 non-null    int64         \n",
      " 6   temp_mean              360 non-null    float64       \n",
      " 7   index                  360 non-null    int64         \n",
      " 8   humidity_mean          360 non-null    float64       \n",
      "dtypes: datetime64[ns](1), float64(3), int64(4), object(1)\n",
      "memory usage: 28.1+ KB\n"
     ]
    },
    {
     "data": {
      "text/html": [
       "<div>\n",
       "<style scoped>\n",
       "    .dataframe tbody tr th:only-of-type {\n",
       "        vertical-align: middle;\n",
       "    }\n",
       "\n",
       "    .dataframe tbody tr th {\n",
       "        vertical-align: top;\n",
       "    }\n",
       "\n",
       "    .dataframe thead th {\n",
       "        text-align: right;\n",
       "    }\n",
       "</style>\n",
       "<table border=\"1\" class=\"dataframe\">\n",
       "  <thead>\n",
       "    <tr style=\"text-align: right;\">\n",
       "      <th></th>\n",
       "      <th>index_x</th>\n",
       "      <th>City</th>\n",
       "      <th>Reported_date</th>\n",
       "      <th>total_confirmed_cases</th>\n",
       "      <th>New_cases</th>\n",
       "      <th>index_y</th>\n",
       "      <th>temp_mean</th>\n",
       "      <th>index</th>\n",
       "      <th>humidity_mean</th>\n",
       "    </tr>\n",
       "  </thead>\n",
       "  <tbody>\n",
       "    <tr>\n",
       "      <th>0</th>\n",
       "      <td>362</td>\n",
       "      <td>Sao Paulo</td>\n",
       "      <td>2020-05-21</td>\n",
       "      <td>73739</td>\n",
       "      <td>3880.0</td>\n",
       "      <td>643</td>\n",
       "      <td>19.50</td>\n",
       "      <td>643</td>\n",
       "      <td>70.17</td>\n",
       "    </tr>\n",
       "    <tr>\n",
       "      <th>1</th>\n",
       "      <td>363</td>\n",
       "      <td>Sao Paulo</td>\n",
       "      <td>2020-05-22</td>\n",
       "      <td>76871</td>\n",
       "      <td>3132.0</td>\n",
       "      <td>644</td>\n",
       "      <td>20.75</td>\n",
       "      <td>644</td>\n",
       "      <td>59.33</td>\n",
       "    </tr>\n",
       "    <tr>\n",
       "      <th>2</th>\n",
       "      <td>364</td>\n",
       "      <td>Sao Paulo</td>\n",
       "      <td>2020-05-23</td>\n",
       "      <td>76871</td>\n",
       "      <td>0.0</td>\n",
       "      <td>645</td>\n",
       "      <td>20.50</td>\n",
       "      <td>645</td>\n",
       "      <td>72.00</td>\n",
       "    </tr>\n",
       "    <tr>\n",
       "      <th>3</th>\n",
       "      <td>365</td>\n",
       "      <td>Sao Paulo</td>\n",
       "      <td>2020-05-24</td>\n",
       "      <td>82161</td>\n",
       "      <td>5290.0</td>\n",
       "      <td>646</td>\n",
       "      <td>13.83</td>\n",
       "      <td>646</td>\n",
       "      <td>70.96</td>\n",
       "    </tr>\n",
       "    <tr>\n",
       "      <th>4</th>\n",
       "      <td>366</td>\n",
       "      <td>Sao Paulo</td>\n",
       "      <td>2020-05-25</td>\n",
       "      <td>83625</td>\n",
       "      <td>1464.0</td>\n",
       "      <td>647</td>\n",
       "      <td>14.62</td>\n",
       "      <td>647</td>\n",
       "      <td>61.79</td>\n",
       "    </tr>\n",
       "  </tbody>\n",
       "</table>\n",
       "</div>"
      ],
      "text/plain": [
       "   index_x       City Reported_date  total_confirmed_cases  New_cases  \\\n",
       "0      362  Sao Paulo    2020-05-21                  73739     3880.0   \n",
       "1      363  Sao Paulo    2020-05-22                  76871     3132.0   \n",
       "2      364  Sao Paulo    2020-05-23                  76871        0.0   \n",
       "3      365  Sao Paulo    2020-05-24                  82161     5290.0   \n",
       "4      366  Sao Paulo    2020-05-25                  83625     1464.0   \n",
       "\n",
       "   index_y  temp_mean  index  humidity_mean  \n",
       "0      643      19.50    643          70.17  \n",
       "1      644      20.75    644          59.33  \n",
       "2      645      20.50    645          72.00  \n",
       "3      646      13.83    646          70.96  \n",
       "4      647      14.62    647          61.79  "
      ]
     },
     "execution_count": 70,
     "metadata": {},
     "output_type": "execute_result"
    }
   ],
   "source": [
    "SP_merge_full_df = pd.merge(SP_merge2_df, SPWeatherHumidity_df, how=\"left\", on=[\"Reported_date\"])\n",
    "SP_merge_full_df.info()\n",
    "SP_merge_full_df.head()"
   ]
  },
  {
   "cell_type": "code",
   "execution_count": 71,
   "metadata": {},
   "outputs": [
    {
     "data": {
      "text/html": [
       "<div>\n",
       "<style scoped>\n",
       "    .dataframe tbody tr th:only-of-type {\n",
       "        vertical-align: middle;\n",
       "    }\n",
       "\n",
       "    .dataframe tbody tr th {\n",
       "        vertical-align: top;\n",
       "    }\n",
       "\n",
       "    .dataframe thead th {\n",
       "        text-align: right;\n",
       "    }\n",
       "</style>\n",
       "<table border=\"1\" class=\"dataframe\">\n",
       "  <thead>\n",
       "    <tr style=\"text-align: right;\">\n",
       "      <th></th>\n",
       "      <th>Reported_date</th>\n",
       "      <th>New_cases</th>\n",
       "      <th>temp_mean</th>\n",
       "      <th>humidity_mean</th>\n",
       "    </tr>\n",
       "  </thead>\n",
       "  <tbody>\n",
       "    <tr>\n",
       "      <th>0</th>\n",
       "      <td>2020-05-21</td>\n",
       "      <td>3880.0</td>\n",
       "      <td>19.50</td>\n",
       "      <td>70.17</td>\n",
       "    </tr>\n",
       "    <tr>\n",
       "      <th>1</th>\n",
       "      <td>2020-05-22</td>\n",
       "      <td>3132.0</td>\n",
       "      <td>20.75</td>\n",
       "      <td>59.33</td>\n",
       "    </tr>\n",
       "    <tr>\n",
       "      <th>2</th>\n",
       "      <td>2020-05-23</td>\n",
       "      <td>0.0</td>\n",
       "      <td>20.50</td>\n",
       "      <td>72.00</td>\n",
       "    </tr>\n",
       "    <tr>\n",
       "      <th>3</th>\n",
       "      <td>2020-05-24</td>\n",
       "      <td>5290.0</td>\n",
       "      <td>13.83</td>\n",
       "      <td>70.96</td>\n",
       "    </tr>\n",
       "    <tr>\n",
       "      <th>4</th>\n",
       "      <td>2020-05-25</td>\n",
       "      <td>1464.0</td>\n",
       "      <td>14.62</td>\n",
       "      <td>61.79</td>\n",
       "    </tr>\n",
       "  </tbody>\n",
       "</table>\n",
       "</div>"
      ],
      "text/plain": [
       "  Reported_date  New_cases  temp_mean  humidity_mean\n",
       "0    2020-05-21     3880.0      19.50          70.17\n",
       "1    2020-05-22     3132.0      20.75          59.33\n",
       "2    2020-05-23        0.0      20.50          72.00\n",
       "3    2020-05-24     5290.0      13.83          70.96\n",
       "4    2020-05-25     1464.0      14.62          61.79"
      ]
     },
     "execution_count": 71,
     "metadata": {},
     "output_type": "execute_result"
    }
   ],
   "source": [
    "# Delete extraneous columns\n",
    "del SP_merge_full_df[\"index_x\"]\n",
    "del SP_merge_full_df[\"index_y\"]\n",
    "del SP_merge_full_df[\"index\"]\n",
    "del SP_merge_full_df[\"City\"]\n",
    "del SP_merge_full_df[\"total_confirmed_cases\"]\n",
    "SP_merge_full_df.head()"
   ]
  },
  {
   "cell_type": "markdown",
   "metadata": {},
   "source": [
    "# CORRELATION"
   ]
  },
  {
   "cell_type": "code",
   "execution_count": 72,
   "metadata": {},
   "outputs": [],
   "source": [
    "import warnings\n",
    "warnings.filterwarnings(\"ignore\")"
   ]
  },
  {
   "cell_type": "markdown",
   "metadata": {},
   "source": [
    "NY Data correlation"
   ]
  },
  {
   "cell_type": "code",
   "execution_count": 73,
   "metadata": {},
   "outputs": [
    {
     "data": {
      "text/plain": [
       "<AxesSubplot:>"
      ]
     },
     "execution_count": 73,
     "metadata": {},
     "output_type": "execute_result"
    },
    {
     "data": {
      "image/png": "[encoded data removed]",
      "text/plain": [
       "<Figure size 1080x576 with 2 Axes>"
      ]
     },
     "metadata": {
      "needs_background": "light"
     },
     "output_type": "display_data"
    }
   ],
   "source": [
    "# Let us get the correlation in the data\n",
    "\n",
    "plt.figure(figsize=(15,8))\n",
    "sns.heatmap(NY_merge_full_df.corr(), annot = True)"
   ]
  },
  {
   "cell_type": "code",
   "execution_count": 74,
   "metadata": {},
   "outputs": [
    {
     "data": {
      "text/plain": [
       "<seaborn.axisgrid.PairGrid at 0x1f0bc1ed648>"
      ]
     },
     "execution_count": 74,
     "metadata": {},
     "output_type": "execute_result"
    },
    {
     "data": {
      "image/png": "[encoded data removed]",
      "text/plain": [
       "<Figure size 403.2x288 with 2 Axes>"
      ]
     },
     "metadata": {
      "needs_background": "light"
     },
     "output_type": "display_data"
    }
   ],
   "source": [
    "sns.pairplot(NY_merge_full_df, x_vars=['temp_mean','humidity_mean'], y_vars='New_cases',size=4, aspect=0.7, kind='scatter')"
   ]
  },
  {
   "cell_type": "code",
   "execution_count": 75,
   "metadata": {},
   "outputs": [
    {
     "data": {
      "text/html": [
       "<style  type=\"text/css\" >\n",
       "#T_8639dbe4_bd95_11eb_9de9_3c6aa7c3e492row0_col0,#T_8639dbe4_bd95_11eb_9de9_3c6aa7c3e492row1_col1,#T_8639dbe4_bd95_11eb_9de9_3c6aa7c3e492row2_col2{\n",
       "            background-color:  #fde725;\n",
       "            color:  #000000;\n",
       "        }#T_8639dbe4_bd95_11eb_9de9_3c6aa7c3e492row0_col1,#T_8639dbe4_bd95_11eb_9de9_3c6aa7c3e492row0_col2,#T_8639dbe4_bd95_11eb_9de9_3c6aa7c3e492row1_col0{\n",
       "            background-color:  #440154;\n",
       "            color:  #f1f1f1;\n",
       "        }#T_8639dbe4_bd95_11eb_9de9_3c6aa7c3e492row1_col2{\n",
       "            background-color:  #3c4f8a;\n",
       "            color:  #f1f1f1;\n",
       "        }#T_8639dbe4_bd95_11eb_9de9_3c6aa7c3e492row2_col0{\n",
       "            background-color:  #32658e;\n",
       "            color:  #f1f1f1;\n",
       "        }#T_8639dbe4_bd95_11eb_9de9_3c6aa7c3e492row2_col1{\n",
       "            background-color:  #228d8d;\n",
       "            color:  #000000;\n",
       "        }</style><table id=\"T_8639dbe4_bd95_11eb_9de9_3c6aa7c3e492\" ><thead>    <tr>        <th class=\"blank level0\" ></th>        <th class=\"col_heading level0 col0\" >New_cases</th>        <th class=\"col_heading level0 col1\" >temp_mean</th>        <th class=\"col_heading level0 col2\" >humidity_mean</th>    </tr></thead><tbody>\n",
       "                <tr>\n",
       "                        <th id=\"T_8639dbe4_bd95_11eb_9de9_3c6aa7c3e492level0_row0\" class=\"row_heading level0 row0\" >New_cases</th>\n",
       "                        <td id=\"T_8639dbe4_bd95_11eb_9de9_3c6aa7c3e492row0_col0\" class=\"data row0 col0\" >1.000000</td>\n",
       "                        <td id=\"T_8639dbe4_bd95_11eb_9de9_3c6aa7c3e492row0_col1\" class=\"data row0 col1\" >-0.542834</td>\n",
       "                        <td id=\"T_8639dbe4_bd95_11eb_9de9_3c6aa7c3e492row0_col2\" class=\"data row0 col2\" >-0.046125</td>\n",
       "            </tr>\n",
       "            <tr>\n",
       "                        <th id=\"T_8639dbe4_bd95_11eb_9de9_3c6aa7c3e492level0_row1\" class=\"row_heading level0 row1\" >temp_mean</th>\n",
       "                        <td id=\"T_8639dbe4_bd95_11eb_9de9_3c6aa7c3e492row1_col0\" class=\"data row1 col0\" >-0.542834</td>\n",
       "                        <td id=\"T_8639dbe4_bd95_11eb_9de9_3c6aa7c3e492row1_col1\" class=\"data row1 col1\" >1.000000</td>\n",
       "                        <td id=\"T_8639dbe4_bd95_11eb_9de9_3c6aa7c3e492row1_col2\" class=\"data row1 col2\" >0.207057</td>\n",
       "            </tr>\n",
       "            <tr>\n",
       "                        <th id=\"T_8639dbe4_bd95_11eb_9de9_3c6aa7c3e492level0_row2\" class=\"row_heading level0 row2\" >humidity_mean</th>\n",
       "                        <td id=\"T_8639dbe4_bd95_11eb_9de9_3c6aa7c3e492row2_col0\" class=\"data row2 col0\" >-0.046125</td>\n",
       "                        <td id=\"T_8639dbe4_bd95_11eb_9de9_3c6aa7c3e492row2_col1\" class=\"data row2 col1\" >0.207057</td>\n",
       "                        <td id=\"T_8639dbe4_bd95_11eb_9de9_3c6aa7c3e492row2_col2\" class=\"data row2 col2\" >1.000000</td>\n",
       "            </tr>\n",
       "    </tbody></table>"
      ],
      "text/plain": [
       "<pandas.io.formats.style.Styler at 0x1f0bc943748>"
      ]
     },
     "execution_count": 75,
     "metadata": {},
     "output_type": "execute_result"
    }
   ],
   "source": [
    "# To find the relationship between the number of new cases reported and the weather condition variables(Temperature, Humidity), I used the Spearman correlation test because I'm not sure if the relationship is fully linear between the variables. The result shows a negative relationship between new cases and Temperature, Humidity.\n",
    "NY_merge_full_df.corr(method='spearman').style.background_gradient('viridis')"
   ]
  },
  {
   "cell_type": "markdown",
   "metadata": {},
   "source": [
    "Sau Paolo Data correlation"
   ]
  },
  {
   "cell_type": "code",
   "execution_count": 76,
   "metadata": {},
   "outputs": [
    {
     "data": {
      "text/plain": [
       "<AxesSubplot:>"
      ]
     },
     "execution_count": 76,
     "metadata": {},
     "output_type": "execute_result"
    },
    {
     "data": {
      "image/png": "[encoded data removed]",
      "text/plain": [
       "<Figure size 1080x576 with 2 Axes>"
      ]
     },
     "metadata": {
      "needs_background": "light"
     },
     "output_type": "display_data"
    }
   ],
   "source": [
    "# Let us get the correlation in the data\n",
    "\n",
    "plt.figure(figsize=(15,8))\n",
    "sns.heatmap(SP_merge_full_df.corr(), annot = True)"
   ]
  },
  {
   "cell_type": "code",
   "execution_count": 78,
   "metadata": {},
   "outputs": [
    {
     "data": {
      "text/html": [
       "<style  type=\"text/css\" >\n",
       "#T_9e5e0464_bd95_11eb_9d14_3c6aa7c3e492row0_col0,#T_9e5e0464_bd95_11eb_9d14_3c6aa7c3e492row1_col1,#T_9e5e0464_bd95_11eb_9d14_3c6aa7c3e492row2_col2{\n",
       "            background-color:  #fde725;\n",
       "            color:  #000000;\n",
       "        }#T_9e5e0464_bd95_11eb_9d14_3c6aa7c3e492row0_col1{\n",
       "            background-color:  #33638d;\n",
       "            color:  #f1f1f1;\n",
       "        }#T_9e5e0464_bd95_11eb_9d14_3c6aa7c3e492row0_col2{\n",
       "            background-color:  #443b84;\n",
       "            color:  #f1f1f1;\n",
       "        }#T_9e5e0464_bd95_11eb_9d14_3c6aa7c3e492row1_col0{\n",
       "            background-color:  #443a83;\n",
       "            color:  #f1f1f1;\n",
       "        }#T_9e5e0464_bd95_11eb_9d14_3c6aa7c3e492row1_col2,#T_9e5e0464_bd95_11eb_9d14_3c6aa7c3e492row2_col0,#T_9e5e0464_bd95_11eb_9d14_3c6aa7c3e492row2_col1{\n",
       "            background-color:  #440154;\n",
       "            color:  #f1f1f1;\n",
       "        }</style><table id=\"T_9e5e0464_bd95_11eb_9d14_3c6aa7c3e492\" ><thead>    <tr>        <th class=\"blank level0\" ></th>        <th class=\"col_heading level0 col0\" >New_cases</th>        <th class=\"col_heading level0 col1\" >temp_mean</th>        <th class=\"col_heading level0 col2\" >humidity_mean</th>    </tr></thead><tbody>\n",
       "                <tr>\n",
       "                        <th id=\"T_9e5e0464_bd95_11eb_9d14_3c6aa7c3e492level0_row0\" class=\"row_heading level0 row0\" >New_cases</th>\n",
       "                        <td id=\"T_9e5e0464_bd95_11eb_9d14_3c6aa7c3e492row0_col0\" class=\"data row0 col0\" >1.000000</td>\n",
       "                        <td id=\"T_9e5e0464_bd95_11eb_9d14_3c6aa7c3e492row0_col1\" class=\"data row0 col1\" >0.097980</td>\n",
       "                        <td id=\"T_9e5e0464_bd95_11eb_9d14_3c6aa7c3e492row0_col2\" class=\"data row0 col2\" >-0.084620</td>\n",
       "            </tr>\n",
       "            <tr>\n",
       "                        <th id=\"T_9e5e0464_bd95_11eb_9d14_3c6aa7c3e492level0_row1\" class=\"row_heading level0 row1\" >temp_mean</th>\n",
       "                        <td id=\"T_9e5e0464_bd95_11eb_9d14_3c6aa7c3e492row1_col0\" class=\"data row1 col0\" >0.097980</td>\n",
       "                        <td id=\"T_9e5e0464_bd95_11eb_9d14_3c6aa7c3e492row1_col1\" class=\"data row1 col1\" >1.000000</td>\n",
       "                        <td id=\"T_9e5e0464_bd95_11eb_9d14_3c6aa7c3e492row1_col2\" class=\"data row1 col2\" >-0.315554</td>\n",
       "            </tr>\n",
       "            <tr>\n",
       "                        <th id=\"T_9e5e0464_bd95_11eb_9d14_3c6aa7c3e492level0_row2\" class=\"row_heading level0 row2\" >humidity_mean</th>\n",
       "                        <td id=\"T_9e5e0464_bd95_11eb_9d14_3c6aa7c3e492row2_col0\" class=\"data row2 col0\" >-0.084620</td>\n",
       "                        <td id=\"T_9e5e0464_bd95_11eb_9d14_3c6aa7c3e492row2_col1\" class=\"data row2 col1\" >-0.315554</td>\n",
       "                        <td id=\"T_9e5e0464_bd95_11eb_9d14_3c6aa7c3e492row2_col2\" class=\"data row2 col2\" >1.000000</td>\n",
       "            </tr>\n",
       "    </tbody></table>"
      ],
      "text/plain": [
       "<pandas.io.formats.style.Styler at 0x1f0bcc79308>"
      ]
     },
     "execution_count": 78,
     "metadata": {},
     "output_type": "execute_result"
    }
   ],
   "source": [
    "# To find the relationship between the number of new cases reported and the weather condition variables(Temperature, Humidity), I used the Spearman correlation test because I'm not sure if the relationship is fully linear between the variables. The result shows a negative relationship between new cases and Temperature, Humidity.\n",
    "SP_merge_full_df.corr(method='spearman').style.background_gradient('viridis')"
   ]
  },
  {
   "cell_type": "code",
   "execution_count": null,
   "metadata": {},
   "outputs": [],
   "source": []
  }
 ],
 "metadata": {
  "kernelspec": {
   "display_name": "PythonData",
   "language": "python",
   "name": "pythondata"
  },
  "language_info": {
   "codemirror_mode": {
    "name": "ipython",
    "version": 3
   },
   "file_extension": ".py",
   "mimetype": "text/x-python",
   "name": "python",
   "nbconvert_exporter": "python",
   "pygments_lexer": "ipython3",
   "version": "3.8.8"
  }
 },
 "nbformat": 4,
 "nbformat_minor": 4
}
