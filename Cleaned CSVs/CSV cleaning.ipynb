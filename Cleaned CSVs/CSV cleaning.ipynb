{
 "cells": [
  {
   "cell_type": "code",
   "execution_count": 236,
   "metadata": {},
   "outputs": [],
   "source": [
    "# Import Libraries Required\n",
    "import pandas as pd\n",
    "import numpy as np\n",
    "import os\n",
    "from datetime import datetime\n"
   ]
  },
  {
   "cell_type": "code",
   "execution_count": 237,
   "metadata": {},
   "outputs": [],
   "source": [
    "# Add the Resources path variables:\n",
    "NY_data = \"NewYork_ data-by-day.csv\"\n",
    "SP1_data = \"Comparativo-ciudades.csv\"\n",
    "SP2_data = \"Sao Paulo 2-cases-brazil-cities-time.csv\"\n",
    "Weather_data = \"Weather Data-fa037ddb81b7f7f0a0d1a0ebd131858e.csv\"\n"
   ]
  },
  {
   "cell_type": "code",
   "execution_count": 164,
   "metadata": {},
   "outputs": [],
   "source": [
    "# Read the files and store into Pandas Dataframes using directly the read_csv function that converts excel data into the dataframe\n",
    "NYCovid_df = pd.read_csv(NY_data, parse_dates=['date_of_interest'],  encoding=\"ISO-8859-1\",low_memory=False)\n"
   ]
  },
  {
   "cell_type": "code",
   "execution_count": 165,
   "metadata": {},
   "outputs": [
    {
     "data": {
      "text/html": [
       "<div>\n",
       "<style scoped>\n",
       "    .dataframe tbody tr th:only-of-type {\n",
       "        vertical-align: middle;\n",
       "    }\n",
       "\n",
       "    .dataframe tbody tr th {\n",
       "        vertical-align: top;\n",
       "    }\n",
       "\n",
       "    .dataframe thead th {\n",
       "        text-align: right;\n",
       "    }\n",
       "</style>\n",
       "<table border=\"1\" class=\"dataframe\">\n",
       "  <thead>\n",
       "    <tr style=\"text-align: right;\">\n",
       "      <th></th>\n",
       "      <th>date_of_interest</th>\n",
       "      <th>CASE_COUNT</th>\n",
       "      <th>PROBABLE_CASE_COUNT</th>\n",
       "      <th>HOSPITALIZED_COUNT</th>\n",
       "      <th>DEATH_COUNT</th>\n",
       "      <th>PROBABLE_DEATH_COUNT</th>\n",
       "      <th>CASE_COUNT_7DAY_AVG</th>\n",
       "      <th>ALL_CASE_COUNT_7DAY_AVG</th>\n",
       "      <th>HOSP_COUNT_7DAY_AVG</th>\n",
       "      <th>DEATH_COUNT_7DAY_AVG</th>\n",
       "      <th>ALL_DEATH_COUNT_7DAY_AVG</th>\n",
       "    </tr>\n",
       "  </thead>\n",
       "  <tbody>\n",
       "    <tr>\n",
       "      <th>0</th>\n",
       "      <td>2020-02-29</td>\n",
       "      <td>1</td>\n",
       "      <td>0</td>\n",
       "      <td>1</td>\n",
       "      <td>0</td>\n",
       "      <td>0</td>\n",
       "      <td>0</td>\n",
       "      <td>0</td>\n",
       "      <td>0</td>\n",
       "      <td>0</td>\n",
       "      <td>0</td>\n",
       "    </tr>\n",
       "    <tr>\n",
       "      <th>1</th>\n",
       "      <td>2020-03-01</td>\n",
       "      <td>0</td>\n",
       "      <td>0</td>\n",
       "      <td>1</td>\n",
       "      <td>0</td>\n",
       "      <td>0</td>\n",
       "      <td>0</td>\n",
       "      <td>0</td>\n",
       "      <td>0</td>\n",
       "      <td>0</td>\n",
       "      <td>0</td>\n",
       "    </tr>\n",
       "    <tr>\n",
       "      <th>2</th>\n",
       "      <td>2020-03-02</td>\n",
       "      <td>0</td>\n",
       "      <td>0</td>\n",
       "      <td>2</td>\n",
       "      <td>0</td>\n",
       "      <td>0</td>\n",
       "      <td>0</td>\n",
       "      <td>0</td>\n",
       "      <td>0</td>\n",
       "      <td>0</td>\n",
       "      <td>0</td>\n",
       "    </tr>\n",
       "    <tr>\n",
       "      <th>3</th>\n",
       "      <td>2020-03-03</td>\n",
       "      <td>1</td>\n",
       "      <td>0</td>\n",
       "      <td>7</td>\n",
       "      <td>0</td>\n",
       "      <td>0</td>\n",
       "      <td>0</td>\n",
       "      <td>0</td>\n",
       "      <td>0</td>\n",
       "      <td>0</td>\n",
       "      <td>0</td>\n",
       "    </tr>\n",
       "    <tr>\n",
       "      <th>4</th>\n",
       "      <td>2020-03-04</td>\n",
       "      <td>5</td>\n",
       "      <td>0</td>\n",
       "      <td>2</td>\n",
       "      <td>0</td>\n",
       "      <td>0</td>\n",
       "      <td>0</td>\n",
       "      <td>0</td>\n",
       "      <td>0</td>\n",
       "      <td>0</td>\n",
       "      <td>0</td>\n",
       "    </tr>\n",
       "  </tbody>\n",
       "</table>\n",
       "</div>"
      ],
      "text/plain": [
       "  date_of_interest  CASE_COUNT  PROBABLE_CASE_COUNT  HOSPITALIZED_COUNT  \\\n",
       "0       2020-02-29           1                    0                   1   \n",
       "1       2020-03-01           0                    0                   1   \n",
       "2       2020-03-02           0                    0                   2   \n",
       "3       2020-03-03           1                    0                   7   \n",
       "4       2020-03-04           5                    0                   2   \n",
       "\n",
       "   DEATH_COUNT  PROBABLE_DEATH_COUNT  CASE_COUNT_7DAY_AVG  \\\n",
       "0            0                     0                    0   \n",
       "1            0                     0                    0   \n",
       "2            0                     0                    0   \n",
       "3            0                     0                    0   \n",
       "4            0                     0                    0   \n",
       "\n",
       "   ALL_CASE_COUNT_7DAY_AVG  HOSP_COUNT_7DAY_AVG  DEATH_COUNT_7DAY_AVG  \\\n",
       "0                        0                    0                     0   \n",
       "1                        0                    0                     0   \n",
       "2                        0                    0                     0   \n",
       "3                        0                    0                     0   \n",
       "4                        0                    0                     0   \n",
       "\n",
       "   ALL_DEATH_COUNT_7DAY_AVG  \n",
       "0                         0  \n",
       "1                         0  \n",
       "2                         0  \n",
       "3                         0  \n",
       "4                         0  "
      ]
     },
     "execution_count": 165,
     "metadata": {},
     "output_type": "execute_result"
    }
   ],
   "source": [
    "NYCovid_df.head()"
   ]
  },
  {
   "cell_type": "code",
   "execution_count": 166,
   "metadata": {},
   "outputs": [],
   "source": [
    "#Drop columns not required\n",
    "NYCovid_df=NYCovid_df.drop([\"PROBABLE_CASE_COUNT\", \"HOSPITALIZED_COUNT\",\"DEATH_COUNT\",\"PROBABLE_DEATH_COUNT\",\"HOSP_COUNT_7DAY_AVG\",\"DEATH_COUNT_7DAY_AVG\",\"ALL_DEATH_COUNT_7DAY_AVG\",], axis=1)\n",
    "\n",
    "NYCovid_df['date_of_interest']= pd.to_datetime(NYCovid_df['date_of_interest'])"
   ]
  },
  {
   "cell_type": "code",
   "execution_count": 167,
   "metadata": {},
   "outputs": [
    {
     "name": "stdout",
     "output_type": "stream",
     "text": [
      "<class 'pandas.core.frame.DataFrame'>\n",
      "RangeIndex: 441 entries, 0 to 440\n",
      "Data columns (total 4 columns):\n",
      " #   Column                   Non-Null Count  Dtype         \n",
      "---  ------                   --------------  -----         \n",
      " 0   date_of_interest         441 non-null    datetime64[ns]\n",
      " 1   CASE_COUNT               441 non-null    int64         \n",
      " 2   CASE_COUNT_7DAY_AVG      441 non-null    int64         \n",
      " 3   ALL_CASE_COUNT_7DAY_AVG  441 non-null    int64         \n",
      "dtypes: datetime64[ns](1), int64(3)\n",
      "memory usage: 13.9 KB\n"
     ]
    }
   ],
   "source": [
    "NYCovid_df.info()"
   ]
  },
  {
   "cell_type": "code",
   "execution_count": 168,
   "metadata": {},
   "outputs": [],
   "source": [
    "#generate a CSV output of clean file\n",
    "NYCovid_df.to_csv (r'Cleaned\\NYCovid_dataframe.csv', index = False, header=True)"
   ]
  },
  {
   "cell_type": "markdown",
   "metadata": {},
   "source": [
    "# Sao Paulo Covid file cleanup"
   ]
  },
  {
   "cell_type": "code",
   "execution_count": 217,
   "metadata": {},
   "outputs": [
    {
     "data": {
      "text/html": [
       "<div>\n",
       "<style scoped>\n",
       "    .dataframe tbody tr th:only-of-type {\n",
       "        vertical-align: middle;\n",
       "    }\n",
       "\n",
       "    .dataframe tbody tr th {\n",
       "        vertical-align: top;\n",
       "    }\n",
       "\n",
       "    .dataframe thead th {\n",
       "        text-align: right;\n",
       "    }\n",
       "</style>\n",
       "<table border=\"1\" class=\"dataframe\">\n",
       "  <thead>\n",
       "    <tr style=\"text-align: right;\">\n",
       "      <th></th>\n",
       "      <th>Date</th>\n",
       "      <th>Country</th>\n",
       "      <th>City</th>\n",
       "      <th>Cumalative Cases</th>\n",
       "      <th>Fallecidos</th>\n",
       "      <th>Population_millions</th>\n",
       "      <th>DateCollected</th>\n",
       "      <th>CasesMillionInhab</th>\n",
       "      <th>Fallecidos millón hab</th>\n",
       "    </tr>\n",
       "  </thead>\n",
       "  <tbody>\n",
       "    <tr>\n",
       "      <th>0</th>\n",
       "      <td>2020-05-20</td>\n",
       "      <td>Argentina</td>\n",
       "      <td>Buenos Aires</td>\n",
       "      <td>4718.0</td>\n",
       "      <td>162.0</td>\n",
       "      <td>3075646</td>\n",
       "      <td>2020.0</td>\n",
       "      <td>1534.0</td>\n",
       "      <td>53.0</td>\n",
       "    </tr>\n",
       "    <tr>\n",
       "      <th>1</th>\n",
       "      <td>2020-05-20</td>\n",
       "      <td>Brasil</td>\n",
       "      <td>Brasilia</td>\n",
       "      <td>5161.0</td>\n",
       "      <td>77.0</td>\n",
       "      <td>3015268</td>\n",
       "      <td>2019.0</td>\n",
       "      <td>1712.0</td>\n",
       "      <td>26.0</td>\n",
       "    </tr>\n",
       "    <tr>\n",
       "      <th>2</th>\n",
       "      <td>2020-05-20</td>\n",
       "      <td>Chile</td>\n",
       "      <td>Santiago de Chile</td>\n",
       "      <td>41179.0</td>\n",
       "      <td>348.0</td>\n",
       "      <td>7460708</td>\n",
       "      <td>2020.0</td>\n",
       "      <td>5519.0</td>\n",
       "      <td>47.0</td>\n",
       "    </tr>\n",
       "    <tr>\n",
       "      <th>3</th>\n",
       "      <td>2020-05-21</td>\n",
       "      <td>Ecuador</td>\n",
       "      <td>Guayaquil</td>\n",
       "      <td>9392.0</td>\n",
       "      <td>911.0</td>\n",
       "      <td>2723665</td>\n",
       "      <td>2020.0</td>\n",
       "      <td>3448.0</td>\n",
       "      <td>334.0</td>\n",
       "    </tr>\n",
       "    <tr>\n",
       "      <th>4</th>\n",
       "      <td>2020-05-20</td>\n",
       "      <td>México</td>\n",
       "      <td>Ciudad de México</td>\n",
       "      <td>15844.0</td>\n",
       "      <td>1347.0</td>\n",
       "      <td>8985339</td>\n",
       "      <td>2015.0</td>\n",
       "      <td>1763.0</td>\n",
       "      <td>150.0</td>\n",
       "    </tr>\n",
       "  </tbody>\n",
       "</table>\n",
       "</div>"
      ],
      "text/plain": [
       "        Date    Country               City  Cumalative Cases  Fallecidos  \\\n",
       "0 2020-05-20  Argentina       Buenos Aires            4718.0       162.0   \n",
       "1 2020-05-20     Brasil           Brasilia            5161.0        77.0   \n",
       "2 2020-05-20      Chile  Santiago de Chile           41179.0       348.0   \n",
       "3 2020-05-21    Ecuador          Guayaquil            9392.0       911.0   \n",
       "4 2020-05-20     México   Ciudad de México           15844.0      1347.0   \n",
       "\n",
       "  Population_millions  DateCollected  CasesMillionInhab  Fallecidos millón hab  \n",
       "0             3075646         2020.0             1534.0                   53.0  \n",
       "1             3015268         2019.0             1712.0                   26.0  \n",
       "2             7460708         2020.0             5519.0                   47.0  \n",
       "3             2723665         2020.0             3448.0                  334.0  \n",
       "4             8985339         2015.0             1763.0                  150.0  "
      ]
     },
     "execution_count": 217,
     "metadata": {},
     "output_type": "execute_result"
    }
   ],
   "source": [
    "SP1_data_df = pd.read_csv(SP1_data,parse_dates=['Date'], encoding=\"ISO-8859-1\",low_memory=False)\n",
    "SP1_data_df.head()"
   ]
  },
  {
   "cell_type": "code",
   "execution_count": 218,
   "metadata": {},
   "outputs": [
    {
     "name": "stdout",
     "output_type": "stream",
     "text": [
      "<class 'pandas.core.frame.DataFrame'>\n",
      "RangeIndex: 4704 entries, 0 to 4703\n",
      "Data columns (total 9 columns):\n",
      " #   Column                 Non-Null Count  Dtype         \n",
      "---  ------                 --------------  -----         \n",
      " 0   Date                   4704 non-null   datetime64[ns]\n",
      " 1   Country                4704 non-null   object        \n",
      " 2   City                   4704 non-null   object        \n",
      " 3   Cumalative Cases       4704 non-null   float64       \n",
      " 4   Fallecidos             4704 non-null   float64       \n",
      " 5   Population_millions    4704 non-null   object        \n",
      " 6   DateCollected          4704 non-null   float64       \n",
      " 7   CasesMillionInhab      4704 non-null   float64       \n",
      " 8   Fallecidos millón hab  4704 non-null   float64       \n",
      "dtypes: datetime64[ns](1), float64(5), object(3)\n",
      "memory usage: 330.9+ KB\n"
     ]
    }
   ],
   "source": [
    "SP1_data_df.info()"
   ]
  },
  {
   "cell_type": "code",
   "execution_count": 219,
   "metadata": {},
   "outputs": [],
   "source": [
    "#Drop columns not required\n",
    "SP1_data_df=SP1_data_df.drop([\"Fallecidos\",\"Fallecidos millón hab\"], axis=1)"
   ]
  },
  {
   "cell_type": "code",
   "execution_count": 222,
   "metadata": {},
   "outputs": [],
   "source": [
    "#generate a CSV output of clean file\n",
    "SP1_data_df.to_csv (r'Cleaned\\SP1_dataframe.csv', index = False, header=True)"
   ]
  },
  {
   "cell_type": "markdown",
   "metadata": {},
   "source": [
    "# Sao Paulo2 Covid data cleanup"
   ]
  },
  {
   "cell_type": "code",
   "execution_count": 241,
   "metadata": {},
   "outputs": [],
   "source": [
    "SP2_data_df = pd.read_csv(SP2_data, parse_dates=['date'], encoding=\"ISO-8859-1\",low_memory=False)\n"
   ]
  },
  {
   "cell_type": "code",
   "execution_count": 242,
   "metadata": {},
   "outputs": [
    {
     "data": {
      "text/html": [
       "<div>\n",
       "<style scoped>\n",
       "    .dataframe tbody tr th:only-of-type {\n",
       "        vertical-align: middle;\n",
       "    }\n",
       "\n",
       "    .dataframe tbody tr th {\n",
       "        vertical-align: top;\n",
       "    }\n",
       "\n",
       "    .dataframe thead th {\n",
       "        text-align: right;\n",
       "    }\n",
       "</style>\n",
       "<table border=\"1\" class=\"dataframe\">\n",
       "  <thead>\n",
       "    <tr style=\"text-align: right;\">\n",
       "      <th></th>\n",
       "      <th>date</th>\n",
       "      <th>country</th>\n",
       "      <th>city</th>\n",
       "      <th>newCases</th>\n",
       "      <th>totalCases</th>\n",
       "      <th>totalCases_per_100k_inhabitants</th>\n",
       "    </tr>\n",
       "  </thead>\n",
       "  <tbody>\n",
       "    <tr>\n",
       "      <th>0</th>\n",
       "      <td>2020-02-25</td>\n",
       "      <td>Brazil</td>\n",
       "      <td>Sao Paulo</td>\n",
       "      <td>1</td>\n",
       "      <td>1</td>\n",
       "      <td>0.00811</td>\n",
       "    </tr>\n",
       "    <tr>\n",
       "      <th>1</th>\n",
       "      <td>2020-02-26</td>\n",
       "      <td>Brazil</td>\n",
       "      <td>Sao Paulo</td>\n",
       "      <td>0</td>\n",
       "      <td>1</td>\n",
       "      <td>0.00811</td>\n",
       "    </tr>\n",
       "    <tr>\n",
       "      <th>2</th>\n",
       "      <td>2020-02-27</td>\n",
       "      <td>Brazil</td>\n",
       "      <td>Sao Paulo</td>\n",
       "      <td>0</td>\n",
       "      <td>1</td>\n",
       "      <td>0.00811</td>\n",
       "    </tr>\n",
       "    <tr>\n",
       "      <th>3</th>\n",
       "      <td>2020-02-28</td>\n",
       "      <td>Brazil</td>\n",
       "      <td>Sao Paulo</td>\n",
       "      <td>1</td>\n",
       "      <td>2</td>\n",
       "      <td>0.01623</td>\n",
       "    </tr>\n",
       "    <tr>\n",
       "      <th>4</th>\n",
       "      <td>2020-02-29</td>\n",
       "      <td>Brazil</td>\n",
       "      <td>Sao Paulo</td>\n",
       "      <td>0</td>\n",
       "      <td>2</td>\n",
       "      <td>0.01623</td>\n",
       "    </tr>\n",
       "  </tbody>\n",
       "</table>\n",
       "</div>"
      ],
      "text/plain": [
       "        date country       city  newCases  totalCases  \\\n",
       "0 2020-02-25  Brazil  Sao Paulo         1           1   \n",
       "1 2020-02-26  Brazil  Sao Paulo         0           1   \n",
       "2 2020-02-27  Brazil  Sao Paulo         0           1   \n",
       "3 2020-02-28  Brazil  Sao Paulo         1           2   \n",
       "4 2020-02-29  Brazil  Sao Paulo         0           2   \n",
       "\n",
       "   totalCases_per_100k_inhabitants  \n",
       "0                          0.00811  \n",
       "1                          0.00811  \n",
       "2                          0.00811  \n",
       "3                          0.01623  \n",
       "4                          0.01623  "
      ]
     },
     "execution_count": 242,
     "metadata": {},
     "output_type": "execute_result"
    }
   ],
   "source": [
    "#Drop columns not required\n",
    "SP2_data_df=SP2_data_df.drop([\"epi_week\",\"state\",\"ibgeID\",\"name_RegiaoDeSaude\",\"newDeaths\",\"deaths\",\"deaths_per_100k_inhabitants\",\"deaths_by_totalCases\",\"_source\", \"last_info_date\",\"cod_RegiaoDeSaude\"  ], axis=1)\n",
    "SP2_data_df.head()"
   ]
  },
  {
   "cell_type": "code",
   "execution_count": 243,
   "metadata": {},
   "outputs": [
    {
     "data": {
      "text/plain": [
       "Sao Paulo    263\n",
       "Name: city, dtype: int64"
      ]
     },
     "execution_count": 243,
     "metadata": {},
     "output_type": "execute_result"
    }
   ],
   "source": [
    "# Display an overview of the Date column\n",
    "SP2_data_df['city'].value_counts()"
   ]
  },
  {
   "cell_type": "code",
   "execution_count": 244,
   "metadata": {},
   "outputs": [],
   "source": [
    "SP2_data_df['date'] = pd.to_datetime(SP2_data_df['date'])"
   ]
  },
  {
   "cell_type": "code",
   "execution_count": 246,
   "metadata": {},
   "outputs": [
    {
     "name": "stdout",
     "output_type": "stream",
     "text": [
      "<class 'pandas.core.frame.DataFrame'>\n",
      "RangeIndex: 263 entries, 0 to 262\n",
      "Data columns (total 6 columns):\n",
      " #   Column                           Non-Null Count  Dtype         \n",
      "---  ------                           --------------  -----         \n",
      " 0   date                             263 non-null    datetime64[ns]\n",
      " 1   country                          263 non-null    object        \n",
      " 2   city                             263 non-null    object        \n",
      " 3   newCases                         263 non-null    int64         \n",
      " 4   totalCases                       263 non-null    int64         \n",
      " 5   totalCases_per_100k_inhabitants  263 non-null    float64       \n",
      "dtypes: datetime64[ns](1), float64(1), int64(2), object(2)\n",
      "memory usage: 12.5+ KB\n"
     ]
    }
   ],
   "source": [
    "SP2_data_df.info()"
   ]
  },
  {
   "cell_type": "code",
   "execution_count": 247,
   "metadata": {},
   "outputs": [],
   "source": [
    "#generate a CSV output of clean file\n",
    "SP2_data_df.to_csv (r'Cleaned\\SP2_dataframe.csv', index = False, header=True)"
   ]
  },
  {
   "cell_type": "markdown",
   "metadata": {},
   "source": [
    "# Weather Data cleanup"
   ]
  },
  {
   "cell_type": "code",
   "execution_count": 296,
   "metadata": {},
   "outputs": [],
   "source": [
    "Weather_df = pd.read_csv(Weather_data, parse_dates=['dt_iso'], encoding=\"ISO-8859-1\",low_memory=False)"
   ]
  },
  {
   "cell_type": "code",
   "execution_count": 297,
   "metadata": {},
   "outputs": [
    {
     "data": {
      "text/html": [
       "<div>\n",
       "<style scoped>\n",
       "    .dataframe tbody tr th:only-of-type {\n",
       "        vertical-align: middle;\n",
       "    }\n",
       "\n",
       "    .dataframe tbody tr th {\n",
       "        vertical-align: top;\n",
       "    }\n",
       "\n",
       "    .dataframe thead th {\n",
       "        text-align: right;\n",
       "    }\n",
       "</style>\n",
       "<table border=\"1\" class=\"dataframe\">\n",
       "  <thead>\n",
       "    <tr style=\"text-align: right;\">\n",
       "      <th></th>\n",
       "      <th>dt_iso</th>\n",
       "      <th>city_name</th>\n",
       "      <th>lat</th>\n",
       "      <th>lon</th>\n",
       "      <th>temp</th>\n",
       "      <th>temp_min</th>\n",
       "      <th>temp_max</th>\n",
       "      <th>humidity</th>\n",
       "    </tr>\n",
       "  </thead>\n",
       "  <tbody>\n",
       "    <tr>\n",
       "      <th>0</th>\n",
       "      <td>2020-01-01 00:00:00 +0000 UTC</td>\n",
       "      <td>New York</td>\n",
       "      <td>40.712775</td>\n",
       "      <td>-74.005973</td>\n",
       "      <td>6.36</td>\n",
       "      <td>5.00</td>\n",
       "      <td>7.22</td>\n",
       "      <td>76</td>\n",
       "    </tr>\n",
       "    <tr>\n",
       "      <th>1</th>\n",
       "      <td>2020-01-01 01:00:00 +0000 UTC</td>\n",
       "      <td>New York</td>\n",
       "      <td>40.712775</td>\n",
       "      <td>-74.005973</td>\n",
       "      <td>6.52</td>\n",
       "      <td>5.34</td>\n",
       "      <td>7.22</td>\n",
       "      <td>75</td>\n",
       "    </tr>\n",
       "    <tr>\n",
       "      <th>2</th>\n",
       "      <td>2020-01-01 02:00:00 +0000 UTC</td>\n",
       "      <td>New York</td>\n",
       "      <td>40.712775</td>\n",
       "      <td>-74.005973</td>\n",
       "      <td>6.11</td>\n",
       "      <td>5.00</td>\n",
       "      <td>7.22</td>\n",
       "      <td>75</td>\n",
       "    </tr>\n",
       "    <tr>\n",
       "      <th>3</th>\n",
       "      <td>2020-01-01 03:00:00 +0000 UTC</td>\n",
       "      <td>New York</td>\n",
       "      <td>40.712775</td>\n",
       "      <td>-74.005973</td>\n",
       "      <td>5.80</td>\n",
       "      <td>5.00</td>\n",
       "      <td>6.67</td>\n",
       "      <td>75</td>\n",
       "    </tr>\n",
       "    <tr>\n",
       "      <th>4</th>\n",
       "      <td>2020-01-01 04:00:00 +0000 UTC</td>\n",
       "      <td>New York</td>\n",
       "      <td>40.712775</td>\n",
       "      <td>-74.005973</td>\n",
       "      <td>5.46</td>\n",
       "      <td>4.44</td>\n",
       "      <td>6.11</td>\n",
       "      <td>70</td>\n",
       "    </tr>\n",
       "  </tbody>\n",
       "</table>\n",
       "</div>"
      ],
      "text/plain": [
       "                          dt_iso city_name        lat        lon  temp  \\\n",
       "0  2020-01-01 00:00:00 +0000 UTC  New York  40.712775 -74.005973  6.36   \n",
       "1  2020-01-01 01:00:00 +0000 UTC  New York  40.712775 -74.005973  6.52   \n",
       "2  2020-01-01 02:00:00 +0000 UTC  New York  40.712775 -74.005973  6.11   \n",
       "3  2020-01-01 03:00:00 +0000 UTC  New York  40.712775 -74.005973  5.80   \n",
       "4  2020-01-01 04:00:00 +0000 UTC  New York  40.712775 -74.005973  5.46   \n",
       "\n",
       "   temp_min  temp_max  humidity  \n",
       "0      5.00      7.22        76  \n",
       "1      5.34      7.22        75  \n",
       "2      5.00      7.22        75  \n",
       "3      5.00      6.67        75  \n",
       "4      4.44      6.11        70  "
      ]
     },
     "execution_count": 297,
     "metadata": {},
     "output_type": "execute_result"
    }
   ],
   "source": [
    "#Drop columns not required\n",
    "Weather_df=Weather_df.drop([\"timezone\",\"feels_like\",\"pressure\",\"sea_level\",\"grnd_level\",\"wind_speed\",\"wind_deg\",\"rain_1h\", \"rain_3h\",\"snow_1h\",\"snow_3h\",\"clouds_all\",\"weather_id\",\"weather_main\",\"weather_description\",\"weather_icon\",\"dt\"], axis=1)\n",
    "Weather_df.head()"
   ]
  },
  {
   "cell_type": "code",
   "execution_count": 298,
   "metadata": {},
   "outputs": [
    {
     "data": {
      "text/plain": [
       "2020-10-30 11:00:00 +0000 UTC    5\n",
       "2021-02-02 18:00:00 +0000 UTC    5\n",
       "2020-06-07 04:00:00 +0000 UTC    4\n",
       "2021-02-07 20:00:00 +0000 UTC    4\n",
       "2021-02-02 00:00:00 +0000 UTC    4\n",
       "                                ..\n",
       "2020-09-30 18:00:00 +0000 UTC    2\n",
       "2021-02-26 19:00:00 +0000 UTC    2\n",
       "2021-03-03 23:00:00 +0000 UTC    2\n",
       "2021-01-29 15:00:00 +0000 UTC    2\n",
       "2020-05-20 02:00:00 +0000 UTC    2\n",
       "Name: dt_iso, Length: 12048, dtype: int64"
      ]
     },
     "execution_count": 298,
     "metadata": {},
     "output_type": "execute_result"
    }
   ],
   "source": [
    "Weather_df['dt_iso'].value_counts()"
   ]
  },
  {
   "cell_type": "code",
   "execution_count": 299,
   "metadata": {},
   "outputs": [],
   "source": [
    "Weather_df['dt_iso']= pd.to_datetime(Weather_df['dt_iso'], format='%Y-%m-%d %X %z UTC')"
   ]
  },
  {
   "cell_type": "code",
   "execution_count": 300,
   "metadata": {},
   "outputs": [
    {
     "name": "stdout",
     "output_type": "stream",
     "text": [
      "<class 'pandas.core.frame.DataFrame'>\n",
      "RangeIndex: 24804 entries, 0 to 24803\n",
      "Data columns (total 8 columns):\n",
      " #   Column     Non-Null Count  Dtype              \n",
      "---  ------     --------------  -----              \n",
      " 0   dt_iso     24804 non-null  datetime64[ns, UTC]\n",
      " 1   city_name  24804 non-null  object             \n",
      " 2   lat        24804 non-null  float64            \n",
      " 3   lon        24804 non-null  float64            \n",
      " 4   temp       24804 non-null  float64            \n",
      " 5   temp_min   24804 non-null  float64            \n",
      " 6   temp_max   24804 non-null  float64            \n",
      " 7   humidity   24804 non-null  int64              \n",
      "dtypes: datetime64[ns, UTC](1), float64(5), int64(1), object(1)\n",
      "memory usage: 1.5+ MB\n"
     ]
    }
   ],
   "source": [
    "Weather_df.info()"
   ]
  },
  {
   "cell_type": "code",
   "execution_count": 303,
   "metadata": {},
   "outputs": [],
   "source": [
    "Weather_df['dt_iso'] = Weather_df['dt_iso'].dt.date"
   ]
  },
  {
   "cell_type": "code",
   "execution_count": 307,
   "metadata": {},
   "outputs": [],
   "source": [
    "Weather_df['dt_iso']= pd.to_datetime(Weather_df['dt_iso'])"
   ]
  },
  {
   "cell_type": "code",
   "execution_count": 308,
   "metadata": {},
   "outputs": [
    {
     "data": {
      "text/html": [
       "<div>\n",
       "<style scoped>\n",
       "    .dataframe tbody tr th:only-of-type {\n",
       "        vertical-align: middle;\n",
       "    }\n",
       "\n",
       "    .dataframe tbody tr th {\n",
       "        vertical-align: top;\n",
       "    }\n",
       "\n",
       "    .dataframe thead th {\n",
       "        text-align: right;\n",
       "    }\n",
       "</style>\n",
       "<table border=\"1\" class=\"dataframe\">\n",
       "  <thead>\n",
       "    <tr style=\"text-align: right;\">\n",
       "      <th></th>\n",
       "      <th>dt_iso</th>\n",
       "      <th>city_name</th>\n",
       "      <th>lat</th>\n",
       "      <th>lon</th>\n",
       "      <th>temp</th>\n",
       "      <th>temp_min</th>\n",
       "      <th>temp_max</th>\n",
       "      <th>humidity</th>\n",
       "    </tr>\n",
       "  </thead>\n",
       "  <tbody>\n",
       "    <tr>\n",
       "      <th>0</th>\n",
       "      <td>2020-01-01</td>\n",
       "      <td>New York</td>\n",
       "      <td>40.712775</td>\n",
       "      <td>-74.005973</td>\n",
       "      <td>6.36</td>\n",
       "      <td>5.00</td>\n",
       "      <td>7.22</td>\n",
       "      <td>76</td>\n",
       "    </tr>\n",
       "    <tr>\n",
       "      <th>1</th>\n",
       "      <td>2020-01-01</td>\n",
       "      <td>New York</td>\n",
       "      <td>40.712775</td>\n",
       "      <td>-74.005973</td>\n",
       "      <td>6.52</td>\n",
       "      <td>5.34</td>\n",
       "      <td>7.22</td>\n",
       "      <td>75</td>\n",
       "    </tr>\n",
       "    <tr>\n",
       "      <th>2</th>\n",
       "      <td>2020-01-01</td>\n",
       "      <td>New York</td>\n",
       "      <td>40.712775</td>\n",
       "      <td>-74.005973</td>\n",
       "      <td>6.11</td>\n",
       "      <td>5.00</td>\n",
       "      <td>7.22</td>\n",
       "      <td>75</td>\n",
       "    </tr>\n",
       "    <tr>\n",
       "      <th>3</th>\n",
       "      <td>2020-01-01</td>\n",
       "      <td>New York</td>\n",
       "      <td>40.712775</td>\n",
       "      <td>-74.005973</td>\n",
       "      <td>5.80</td>\n",
       "      <td>5.00</td>\n",
       "      <td>6.67</td>\n",
       "      <td>75</td>\n",
       "    </tr>\n",
       "    <tr>\n",
       "      <th>4</th>\n",
       "      <td>2020-01-01</td>\n",
       "      <td>New York</td>\n",
       "      <td>40.712775</td>\n",
       "      <td>-74.005973</td>\n",
       "      <td>5.46</td>\n",
       "      <td>4.44</td>\n",
       "      <td>6.11</td>\n",
       "      <td>70</td>\n",
       "    </tr>\n",
       "  </tbody>\n",
       "</table>\n",
       "</div>"
      ],
      "text/plain": [
       "      dt_iso city_name        lat        lon  temp  temp_min  temp_max  \\\n",
       "0 2020-01-01  New York  40.712775 -74.005973  6.36      5.00      7.22   \n",
       "1 2020-01-01  New York  40.712775 -74.005973  6.52      5.34      7.22   \n",
       "2 2020-01-01  New York  40.712775 -74.005973  6.11      5.00      7.22   \n",
       "3 2020-01-01  New York  40.712775 -74.005973  5.80      5.00      6.67   \n",
       "4 2020-01-01  New York  40.712775 -74.005973  5.46      4.44      6.11   \n",
       "\n",
       "   humidity  \n",
       "0        76  \n",
       "1        75  \n",
       "2        75  \n",
       "3        75  \n",
       "4        70  "
      ]
     },
     "execution_count": 308,
     "metadata": {},
     "output_type": "execute_result"
    }
   ],
   "source": [
    "Weather_df.head()"
   ]
  },
  {
   "cell_type": "code",
   "execution_count": 309,
   "metadata": {},
   "outputs": [
    {
     "name": "stdout",
     "output_type": "stream",
     "text": [
      "<class 'pandas.core.frame.DataFrame'>\n",
      "RangeIndex: 24804 entries, 0 to 24803\n",
      "Data columns (total 8 columns):\n",
      " #   Column     Non-Null Count  Dtype         \n",
      "---  ------     --------------  -----         \n",
      " 0   dt_iso     24804 non-null  datetime64[ns]\n",
      " 1   city_name  24804 non-null  object        \n",
      " 2   lat        24804 non-null  float64       \n",
      " 3   lon        24804 non-null  float64       \n",
      " 4   temp       24804 non-null  float64       \n",
      " 5   temp_min   24804 non-null  float64       \n",
      " 6   temp_max   24804 non-null  float64       \n",
      " 7   humidity   24804 non-null  int64         \n",
      "dtypes: datetime64[ns](1), float64(5), int64(1), object(1)\n",
      "memory usage: 1.5+ MB\n"
     ]
    }
   ],
   "source": [
    "Weather_df.info()"
   ]
  },
  {
   "cell_type": "code",
   "execution_count": 310,
   "metadata": {},
   "outputs": [],
   "source": [
    "#generate a CSV output of clean file\n",
    "Weather_df.to_csv (r'Cleaned\\Weather_dataframe.csv', index = False, header=True)"
   ]
  },
  {
   "cell_type": "code",
   "execution_count": null,
   "metadata": {},
   "outputs": [],
   "source": []
  }
 ],
 "metadata": {
  "kernelspec": {
   "display_name": "PythonData",
   "language": "python",
   "name": "pythondata"
  },
  "language_info": {
   "codemirror_mode": {
    "name": "ipython",
    "version": 3
   },
   "file_extension": ".py",
   "mimetype": "text/x-python",
   "name": "python",
   "nbconvert_exporter": "python",
   "pygments_lexer": "ipython3",
   "version": "3.7.9"
  }
 },
 "nbformat": 4,
 "nbformat_minor": 4
}
