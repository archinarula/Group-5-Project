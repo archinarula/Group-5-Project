{
 "cells": [
  {
   "cell_type": "markdown",
   "metadata": {},
   "source": [
    "# Preface: to be changed in links"
   ]
  },
  {
   "cell_type": "markdown",
   "metadata": {},
   "source": [
    "Purpose:\n",
    "\n",
    "Covid-19 Analysis with Weather Data (Temp and Humidity) for selected two Cities- Sao Paulo(Brazil) and New York (USA) to show if these weather variables impact Covid new cases increase.\n",
    "\n",
    "Data:\n",
    "\n",
    "1. Cities Data for Sao Paulo and New York between May 2020- May 2021- Daily Total Confirmed Cases, Population, Cases per Million population\n",
    "https://github.com/archinarula/Group-5-Project/blob/main/Clean_CSV/cities_dataframe.csv\n",
    "\n",
    "2. Weather Data for Sao Paulo and New York - Daily Average Temp and Avergae Humidity\n",
    "https://github.com/archinarula/Group-5-Project/blob/main/Clean_CSV/NYC_SaoPaulo_Weather.csv\n",
    "\n"
   ]
  },
  {
   "cell_type": "markdown",
   "metadata": {},
   "source": [
    "# Dependencies and Data Load"
   ]
  },
  {
   "cell_type": "code",
   "execution_count": 73,
   "metadata": {},
   "outputs": [],
   "source": [
    "# first import the dependencies\n",
    "import pandas as pd\n",
    "import numpy as np\n",
    "import math\n",
    "import matplotlib.pyplot as plt\n",
    "import seaborn as sns\n",
    "import plotly.graph_objects as go\n",
    "from plotly.subplots import make_subplots\n",
    "%matplotlib inline"
   ]
  },
  {
   "cell_type": "markdown",
   "metadata": {},
   "source": [
    "Import the data"
   ]
  },
  {
   "cell_type": "code",
   "execution_count": 74,
   "metadata": {},
   "outputs": [],
   "source": [
    "# Add the Resources path variables:\n",
    "NY_Covid = \"Resources/NYCovid_newdata.csv\"\n",
    "SP_Covid = \"Resources/SPCovid_newdata.csv\"\n",
    "Weather= \"Resources/NY_SP_Weather_df.csv\"\n",
    "Combined_data=\"Resources/Final_combine_data.csv\"\n",
    "\n",
    "#Read CSVs and Create Dataframes:\n",
    "NYCovid_df = pd.read_csv(NY_Covid, parse_dates=['date'], encoding=\"ISO-8859-1\",low_memory=False)\n",
    "SPCovid_df = pd.read_csv(SP_Covid, parse_dates=['date'], encoding=\"ISO-8859-1\",low_memory=False)\n",
    "CitiesWeather_df = pd.read_csv(Weather, parse_dates=['date'], encoding=\"ISO-8859-1\",low_memory=False)\n",
    "Combined_df= pd.read_csv(Combined_data, parse_dates=['Reported_Date'], encoding=\"ISO-8859-1\",low_memory=False)\n"
   ]
  },
  {
   "cell_type": "markdown",
   "metadata": {},
   "source": [
    "# City Level- New Data Basic Exploration- Statistical Summary and Outlier Detections"
   ]
  },
  {
   "cell_type": "markdown",
   "metadata": {},
   "source": [
    "New York Dataset- Statistical Summary"
   ]
  },
  {
   "cell_type": "code",
   "execution_count": 75,
   "metadata": {},
   "outputs": [
    {
     "name": "stdout",
     "output_type": "stream",
     "text": [
      "(449, 4)\n"
     ]
    },
    {
     "data": {
      "text/html": [
       "<div>\n",
       "<style scoped>\n",
       "    .dataframe tbody tr th:only-of-type {\n",
       "        vertical-align: middle;\n",
       "    }\n",
       "\n",
       "    .dataframe tbody tr th {\n",
       "        vertical-align: top;\n",
       "    }\n",
       "\n",
       "    .dataframe thead th {\n",
       "        text-align: right;\n",
       "    }\n",
       "</style>\n",
       "<table border=\"1\" class=\"dataframe\">\n",
       "  <thead>\n",
       "    <tr style=\"text-align: right;\">\n",
       "      <th></th>\n",
       "      <th>date</th>\n",
       "      <th>CASE_COUNT</th>\n",
       "      <th>CASE_COUNT_7DAY_AVG</th>\n",
       "      <th>Cal_per_100K_moving7_avg_new_cases</th>\n",
       "    </tr>\n",
       "  </thead>\n",
       "  <tbody>\n",
       "    <tr>\n",
       "      <th>0</th>\n",
       "      <td>2020-02-29</td>\n",
       "      <td>1</td>\n",
       "      <td>0</td>\n",
       "      <td>0.0</td>\n",
       "    </tr>\n",
       "    <tr>\n",
       "      <th>1</th>\n",
       "      <td>2020-03-01</td>\n",
       "      <td>0</td>\n",
       "      <td>0</td>\n",
       "      <td>0.0</td>\n",
       "    </tr>\n",
       "    <tr>\n",
       "      <th>2</th>\n",
       "      <td>2020-03-02</td>\n",
       "      <td>0</td>\n",
       "      <td>0</td>\n",
       "      <td>0.0</td>\n",
       "    </tr>\n",
       "    <tr>\n",
       "      <th>3</th>\n",
       "      <td>2020-03-03</td>\n",
       "      <td>1</td>\n",
       "      <td>0</td>\n",
       "      <td>0.0</td>\n",
       "    </tr>\n",
       "    <tr>\n",
       "      <th>4</th>\n",
       "      <td>2020-03-04</td>\n",
       "      <td>5</td>\n",
       "      <td>0</td>\n",
       "      <td>0.0</td>\n",
       "    </tr>\n",
       "  </tbody>\n",
       "</table>\n",
       "</div>"
      ],
      "text/plain": [
       "        date  CASE_COUNT  CASE_COUNT_7DAY_AVG  \\\n",
       "0 2020-02-29           1                    0   \n",
       "1 2020-03-01           0                    0   \n",
       "2 2020-03-02           0                    0   \n",
       "3 2020-03-03           1                    0   \n",
       "4 2020-03-04           5                    0   \n",
       "\n",
       "   Cal_per_100K_moving7_avg_new_cases  \n",
       "0                                 0.0  \n",
       "1                                 0.0  \n",
       "2                                 0.0  \n",
       "3                                 0.0  \n",
       "4                                 0.0  "
      ]
     },
     "execution_count": 75,
     "metadata": {},
     "output_type": "execute_result"
    }
   ],
   "source": [
    "print (NYCovid_df.shape)\n",
    "NYCovid_df.head()"
   ]
  },
  {
   "cell_type": "code",
   "execution_count": 76,
   "metadata": {},
   "outputs": [
    {
     "name": "stdout",
     "output_type": "stream",
     "text": [
      "<class 'pandas.core.frame.DataFrame'>\n",
      "RangeIndex: 449 entries, 0 to 448\n",
      "Data columns (total 4 columns):\n",
      " #   Column                              Non-Null Count  Dtype         \n",
      "---  ------                              --------------  -----         \n",
      " 0   date                                449 non-null    datetime64[ns]\n",
      " 1   CASE_COUNT                          449 non-null    int64         \n",
      " 2   CASE_COUNT_7DAY_AVG                 449 non-null    int64         \n",
      " 3   Cal_per_100K_moving7_avg_new_cases  449 non-null    float64       \n",
      "dtypes: datetime64[ns](1), float64(1), int64(2)\n",
      "memory usage: 14.2 KB\n"
     ]
    }
   ],
   "source": [
    "NYCovid_df.info()"
   ]
  },
  {
   "cell_type": "code",
   "execution_count": 77,
   "metadata": {},
   "outputs": [
    {
     "data": {
      "text/html": [
       "<div>\n",
       "<style scoped>\n",
       "    .dataframe tbody tr th:only-of-type {\n",
       "        vertical-align: middle;\n",
       "    }\n",
       "\n",
       "    .dataframe tbody tr th {\n",
       "        vertical-align: top;\n",
       "    }\n",
       "\n",
       "    .dataframe thead th {\n",
       "        text-align: right;\n",
       "    }\n",
       "</style>\n",
       "<table border=\"1\" class=\"dataframe\">\n",
       "  <thead>\n",
       "    <tr style=\"text-align: right;\">\n",
       "      <th></th>\n",
       "      <th>count</th>\n",
       "      <th>mean</th>\n",
       "      <th>std</th>\n",
       "      <th>min</th>\n",
       "      <th>25%</th>\n",
       "      <th>50%</th>\n",
       "      <th>75%</th>\n",
       "      <th>max</th>\n",
       "    </tr>\n",
       "  </thead>\n",
       "  <tbody>\n",
       "    <tr>\n",
       "      <th>CASE_COUNT</th>\n",
       "      <td>449.0</td>\n",
       "      <td>1739.781737</td>\n",
       "      <td>1618.124958</td>\n",
       "      <td>0.0</td>\n",
       "      <td>372.00</td>\n",
       "      <td>1053.00</td>\n",
       "      <td>3006.00</td>\n",
       "      <td>6578.00</td>\n",
       "    </tr>\n",
       "    <tr>\n",
       "      <th>CASE_COUNT_7DAY_AVG</th>\n",
       "      <td>449.0</td>\n",
       "      <td>1737.734967</td>\n",
       "      <td>1518.874709</td>\n",
       "      <td>0.0</td>\n",
       "      <td>351.00</td>\n",
       "      <td>1093.00</td>\n",
       "      <td>2919.00</td>\n",
       "      <td>5291.00</td>\n",
       "    </tr>\n",
       "    <tr>\n",
       "      <th>Cal_per_100K_moving7_avg_new_cases</th>\n",
       "      <td>449.0</td>\n",
       "      <td>9.241292</td>\n",
       "      <td>8.077252</td>\n",
       "      <td>0.0</td>\n",
       "      <td>1.87</td>\n",
       "      <td>5.81</td>\n",
       "      <td>15.52</td>\n",
       "      <td>28.14</td>\n",
       "    </tr>\n",
       "  </tbody>\n",
       "</table>\n",
       "</div>"
      ],
      "text/plain": [
       "                                    count         mean          std  min  \\\n",
       "CASE_COUNT                          449.0  1739.781737  1618.124958  0.0   \n",
       "CASE_COUNT_7DAY_AVG                 449.0  1737.734967  1518.874709  0.0   \n",
       "Cal_per_100K_moving7_avg_new_cases  449.0     9.241292     8.077252  0.0   \n",
       "\n",
       "                                       25%      50%      75%      max  \n",
       "CASE_COUNT                          372.00  1053.00  3006.00  6578.00  \n",
       "CASE_COUNT_7DAY_AVG                 351.00  1093.00  2919.00  5291.00  \n",
       "Cal_per_100K_moving7_avg_new_cases    1.87     5.81    15.52    28.14  "
      ]
     },
     "execution_count": 77,
     "metadata": {},
     "output_type": "execute_result"
    }
   ],
   "source": [
    "#statistical summary of NY covid data\n",
    "NYCovid_df.describe().T"
   ]
  },
  {
   "cell_type": "markdown",
   "metadata": {},
   "source": [
    "Sao Paulo Dataset- Statistical Summary"
   ]
  },
  {
   "cell_type": "code",
   "execution_count": 78,
   "metadata": {},
   "outputs": [
    {
     "name": "stdout",
     "output_type": "stream",
     "text": [
      "(448, 4)\n"
     ]
    },
    {
     "data": {
      "text/html": [
       "<div>\n",
       "<style scoped>\n",
       "    .dataframe tbody tr th:only-of-type {\n",
       "        vertical-align: middle;\n",
       "    }\n",
       "\n",
       "    .dataframe tbody tr th {\n",
       "        vertical-align: top;\n",
       "    }\n",
       "\n",
       "    .dataframe thead th {\n",
       "        text-align: right;\n",
       "    }\n",
       "</style>\n",
       "<table border=\"1\" class=\"dataframe\">\n",
       "  <thead>\n",
       "    <tr style=\"text-align: right;\">\n",
       "      <th></th>\n",
       "      <th>date</th>\n",
       "      <th>new cases</th>\n",
       "      <th>Cal_avg_new_cases_7_days</th>\n",
       "      <th>avg_cases_per_100_k</th>\n",
       "    </tr>\n",
       "  </thead>\n",
       "  <tbody>\n",
       "    <tr>\n",
       "      <th>0</th>\n",
       "      <td>2020-02-25</td>\n",
       "      <td>0</td>\n",
       "      <td>0.0</td>\n",
       "      <td>0.0</td>\n",
       "    </tr>\n",
       "    <tr>\n",
       "      <th>1</th>\n",
       "      <td>2020-02-26</td>\n",
       "      <td>0</td>\n",
       "      <td>0.0</td>\n",
       "      <td>0.0</td>\n",
       "    </tr>\n",
       "    <tr>\n",
       "      <th>2</th>\n",
       "      <td>2020-02-27</td>\n",
       "      <td>0</td>\n",
       "      <td>0.0</td>\n",
       "      <td>0.0</td>\n",
       "    </tr>\n",
       "    <tr>\n",
       "      <th>3</th>\n",
       "      <td>2020-02-28</td>\n",
       "      <td>1</td>\n",
       "      <td>0.0</td>\n",
       "      <td>0.0</td>\n",
       "    </tr>\n",
       "    <tr>\n",
       "      <th>4</th>\n",
       "      <td>2020-02-29</td>\n",
       "      <td>0</td>\n",
       "      <td>0.0</td>\n",
       "      <td>0.0</td>\n",
       "    </tr>\n",
       "  </tbody>\n",
       "</table>\n",
       "</div>"
      ],
      "text/plain": [
       "        date  new cases  Cal_avg_new_cases_7_days  avg_cases_per_100_k\n",
       "0 2020-02-25          0                       0.0                  0.0\n",
       "1 2020-02-26          0                       0.0                  0.0\n",
       "2 2020-02-27          0                       0.0                  0.0\n",
       "3 2020-02-28          1                       0.0                  0.0\n",
       "4 2020-02-29          0                       0.0                  0.0"
      ]
     },
     "execution_count": 78,
     "metadata": {},
     "output_type": "execute_result"
    }
   ],
   "source": [
    "print (SPCovid_df.shape)\n",
    "SPCovid_df.head()"
   ]
  },
  {
   "cell_type": "code",
   "execution_count": 79,
   "metadata": {},
   "outputs": [
    {
     "name": "stdout",
     "output_type": "stream",
     "text": [
      "<class 'pandas.core.frame.DataFrame'>\n",
      "RangeIndex: 448 entries, 0 to 447\n",
      "Data columns (total 4 columns):\n",
      " #   Column                    Non-Null Count  Dtype         \n",
      "---  ------                    --------------  -----         \n",
      " 0   date                      448 non-null    datetime64[ns]\n",
      " 1   new cases                 448 non-null    int64         \n",
      " 2   Cal_avg_new_cases_7_days  448 non-null    float64       \n",
      " 3   avg_cases_per_100_k       448 non-null    float64       \n",
      "dtypes: datetime64[ns](1), float64(2), int64(1)\n",
      "memory usage: 14.1 KB\n"
     ]
    }
   ],
   "source": [
    "SPCovid_df.info()"
   ]
  },
  {
   "cell_type": "code",
   "execution_count": 80,
   "metadata": {},
   "outputs": [
    {
     "data": {
      "text/html": [
       "<div>\n",
       "<style scoped>\n",
       "    .dataframe tbody tr th:only-of-type {\n",
       "        vertical-align: middle;\n",
       "    }\n",
       "\n",
       "    .dataframe tbody tr th {\n",
       "        vertical-align: top;\n",
       "    }\n",
       "\n",
       "    .dataframe thead th {\n",
       "        text-align: right;\n",
       "    }\n",
       "</style>\n",
       "<table border=\"1\" class=\"dataframe\">\n",
       "  <thead>\n",
       "    <tr style=\"text-align: right;\">\n",
       "      <th></th>\n",
       "      <th>count</th>\n",
       "      <th>mean</th>\n",
       "      <th>std</th>\n",
       "      <th>min</th>\n",
       "      <th>25%</th>\n",
       "      <th>50%</th>\n",
       "      <th>75%</th>\n",
       "      <th>max</th>\n",
       "    </tr>\n",
       "  </thead>\n",
       "  <tbody>\n",
       "    <tr>\n",
       "      <th>new cases</th>\n",
       "      <td>448.0</td>\n",
       "      <td>1680.037946</td>\n",
       "      <td>1424.529381</td>\n",
       "      <td>0.0</td>\n",
       "      <td>532.2500</td>\n",
       "      <td>1366.00</td>\n",
       "      <td>2517.00</td>\n",
       "      <td>8646.00</td>\n",
       "    </tr>\n",
       "    <tr>\n",
       "      <th>Cal_avg_new_cases_7_days</th>\n",
       "      <td>448.0</td>\n",
       "      <td>1668.488839</td>\n",
       "      <td>974.334144</td>\n",
       "      <td>0.0</td>\n",
       "      <td>941.7500</td>\n",
       "      <td>1672.50</td>\n",
       "      <td>2275.25</td>\n",
       "      <td>4706.00</td>\n",
       "    </tr>\n",
       "    <tr>\n",
       "      <th>avg_cases_per_100_k</th>\n",
       "      <td>448.0</td>\n",
       "      <td>14.056518</td>\n",
       "      <td>8.208705</td>\n",
       "      <td>0.0</td>\n",
       "      <td>7.9375</td>\n",
       "      <td>14.09</td>\n",
       "      <td>19.17</td>\n",
       "      <td>39.65</td>\n",
       "    </tr>\n",
       "  </tbody>\n",
       "</table>\n",
       "</div>"
      ],
      "text/plain": [
       "                          count         mean          std  min       25%  \\\n",
       "new cases                 448.0  1680.037946  1424.529381  0.0  532.2500   \n",
       "Cal_avg_new_cases_7_days  448.0  1668.488839   974.334144  0.0  941.7500   \n",
       "avg_cases_per_100_k       448.0    14.056518     8.208705  0.0    7.9375   \n",
       "\n",
       "                              50%      75%      max  \n",
       "new cases                 1366.00  2517.00  8646.00  \n",
       "Cal_avg_new_cases_7_days  1672.50  2275.25  4706.00  \n",
       "avg_cases_per_100_k         14.09    19.17    39.65  "
      ]
     },
     "execution_count": 80,
     "metadata": {},
     "output_type": "execute_result"
    }
   ],
   "source": [
    "#statistical summary of SP covid data\n",
    "SPCovid_df.describe().T"
   ]
  },
  {
   "cell_type": "markdown",
   "metadata": {},
   "source": [
    "Weather dataset-Statistical Summary"
   ]
  },
  {
   "cell_type": "code",
   "execution_count": 81,
   "metadata": {},
   "outputs": [
    {
     "name": "stdout",
     "output_type": "stream",
     "text": [
      "(974, 16)\n"
     ]
    },
    {
     "data": {
      "text/html": [
       "<div>\n",
       "<style scoped>\n",
       "    .dataframe tbody tr th:only-of-type {\n",
       "        vertical-align: middle;\n",
       "    }\n",
       "\n",
       "    .dataframe tbody tr th {\n",
       "        vertical-align: top;\n",
       "    }\n",
       "\n",
       "    .dataframe thead th {\n",
       "        text-align: right;\n",
       "    }\n",
       "</style>\n",
       "<table border=\"1\" class=\"dataframe\">\n",
       "  <thead>\n",
       "    <tr style=\"text-align: right;\">\n",
       "      <th></th>\n",
       "      <th>date</th>\n",
       "      <th>city_name</th>\n",
       "      <th>lat</th>\n",
       "      <th>lon</th>\n",
       "      <th>temp_mean</th>\n",
       "      <th>humidity_mean</th>\n",
       "      <th>temp_min</th>\n",
       "      <th>temp_max</th>\n",
       "      <th>1_7_day_avg_temp</th>\n",
       "      <th>8_14_day_avg_temp</th>\n",
       "      <th>1_7_day_avg_humidity</th>\n",
       "      <th>8_14_day_avg_humidity</th>\n",
       "      <th>percent_change_in_temp</th>\n",
       "      <th>percent_change_in_humidity</th>\n",
       "      <th>1_15_day_avg_temp</th>\n",
       "      <th>1_15_day_avg_humidity</th>\n",
       "    </tr>\n",
       "  </thead>\n",
       "  <tbody>\n",
       "    <tr>\n",
       "      <th>0</th>\n",
       "      <td>2020-01-16</td>\n",
       "      <td>New York</td>\n",
       "      <td>40.712775</td>\n",
       "      <td>-74.005973</td>\n",
       "      <td>6.97</td>\n",
       "      <td>71.04</td>\n",
       "      <td>2.78</td>\n",
       "      <td>10.00</td>\n",
       "      <td>7.23</td>\n",
       "      <td>4.82</td>\n",
       "      <td>68.06</td>\n",
       "      <td>68.26</td>\n",
       "      <td>-50.00</td>\n",
       "      <td>0.29</td>\n",
       "      <td>5.89</td>\n",
       "      <td>67.66</td>\n",
       "    </tr>\n",
       "    <tr>\n",
       "      <th>1</th>\n",
       "      <td>2020-01-17</td>\n",
       "      <td>New York</td>\n",
       "      <td>40.712775</td>\n",
       "      <td>-74.005973</td>\n",
       "      <td>-1.48</td>\n",
       "      <td>40.42</td>\n",
       "      <td>-6.67</td>\n",
       "      <td>4.55</td>\n",
       "      <td>8.49</td>\n",
       "      <td>4.09</td>\n",
       "      <td>71.70</td>\n",
       "      <td>66.39</td>\n",
       "      <td>-107.58</td>\n",
       "      <td>-8.00</td>\n",
       "      <td>6.09</td>\n",
       "      <td>68.35</td>\n",
       "    </tr>\n",
       "    <tr>\n",
       "      <th>2</th>\n",
       "      <td>2020-01-18</td>\n",
       "      <td>New York</td>\n",
       "      <td>40.712775</td>\n",
       "      <td>-74.005973</td>\n",
       "      <td>-4.42</td>\n",
       "      <td>56.04</td>\n",
       "      <td>-7.22</td>\n",
       "      <td>1.11</td>\n",
       "      <td>7.71</td>\n",
       "      <td>3.60</td>\n",
       "      <td>67.86</td>\n",
       "      <td>64.84</td>\n",
       "      <td>-114.17</td>\n",
       "      <td>-4.66</td>\n",
       "      <td>5.77</td>\n",
       "      <td>67.14</td>\n",
       "    </tr>\n",
       "    <tr>\n",
       "      <th>3</th>\n",
       "      <td>2020-01-19</td>\n",
       "      <td>New York</td>\n",
       "      <td>40.712775</td>\n",
       "      <td>-74.005973</td>\n",
       "      <td>3.39</td>\n",
       "      <td>76.44</td>\n",
       "      <td>-1.67</td>\n",
       "      <td>7.22</td>\n",
       "      <td>5.22</td>\n",
       "      <td>4.22</td>\n",
       "      <td>65.52</td>\n",
       "      <td>61.64</td>\n",
       "      <td>-23.70</td>\n",
       "      <td>-6.29</td>\n",
       "      <td>4.98</td>\n",
       "      <td>65.66</td>\n",
       "    </tr>\n",
       "    <tr>\n",
       "      <th>4</th>\n",
       "      <td>2020-01-20</td>\n",
       "      <td>New York</td>\n",
       "      <td>40.712775</td>\n",
       "      <td>-74.005973</td>\n",
       "      <td>-2.58</td>\n",
       "      <td>45.25</td>\n",
       "      <td>-7.22</td>\n",
       "      <td>2.78</td>\n",
       "      <td>3.29</td>\n",
       "      <td>5.93</td>\n",
       "      <td>66.96</td>\n",
       "      <td>62.60</td>\n",
       "      <td>44.52</td>\n",
       "      <td>-6.96</td>\n",
       "      <td>4.63</td>\n",
       "      <td>64.44</td>\n",
       "    </tr>\n",
       "  </tbody>\n",
       "</table>\n",
       "</div>"
      ],
      "text/plain": [
       "        date city_name        lat        lon  temp_mean  humidity_mean  \\\n",
       "0 2020-01-16  New York  40.712775 -74.005973       6.97          71.04   \n",
       "1 2020-01-17  New York  40.712775 -74.005973      -1.48          40.42   \n",
       "2 2020-01-18  New York  40.712775 -74.005973      -4.42          56.04   \n",
       "3 2020-01-19  New York  40.712775 -74.005973       3.39          76.44   \n",
       "4 2020-01-20  New York  40.712775 -74.005973      -2.58          45.25   \n",
       "\n",
       "   temp_min  temp_max  1_7_day_avg_temp  8_14_day_avg_temp  \\\n",
       "0      2.78     10.00              7.23               4.82   \n",
       "1     -6.67      4.55              8.49               4.09   \n",
       "2     -7.22      1.11              7.71               3.60   \n",
       "3     -1.67      7.22              5.22               4.22   \n",
       "4     -7.22      2.78              3.29               5.93   \n",
       "\n",
       "   1_7_day_avg_humidity  8_14_day_avg_humidity  percent_change_in_temp  \\\n",
       "0                 68.06                  68.26                  -50.00   \n",
       "1                 71.70                  66.39                 -107.58   \n",
       "2                 67.86                  64.84                 -114.17   \n",
       "3                 65.52                  61.64                  -23.70   \n",
       "4                 66.96                  62.60                   44.52   \n",
       "\n",
       "   percent_change_in_humidity  1_15_day_avg_temp  1_15_day_avg_humidity  \n",
       "0                        0.29               5.89                  67.66  \n",
       "1                       -8.00               6.09                  68.35  \n",
       "2                       -4.66               5.77                  67.14  \n",
       "3                       -6.29               4.98                  65.66  \n",
       "4                       -6.96               4.63                  64.44  "
      ]
     },
     "execution_count": 81,
     "metadata": {},
     "output_type": "execute_result"
    }
   ],
   "source": [
    "print (CitiesWeather_df.shape)\n",
    "CitiesWeather_df.head()\n"
   ]
  },
  {
   "cell_type": "code",
   "execution_count": 82,
   "metadata": {},
   "outputs": [
    {
     "name": "stdout",
     "output_type": "stream",
     "text": [
      "<class 'pandas.core.frame.DataFrame'>\n",
      "RangeIndex: 974 entries, 0 to 973\n",
      "Data columns (total 16 columns):\n",
      " #   Column                      Non-Null Count  Dtype         \n",
      "---  ------                      --------------  -----         \n",
      " 0   date                        974 non-null    datetime64[ns]\n",
      " 1   city_name                   974 non-null    object        \n",
      " 2   lat                         974 non-null    float64       \n",
      " 3   lon                         974 non-null    float64       \n",
      " 4   temp_mean                   974 non-null    float64       \n",
      " 5   humidity_mean               974 non-null    float64       \n",
      " 6   temp_min                    974 non-null    float64       \n",
      " 7   temp_max                    974 non-null    float64       \n",
      " 8   1_7_day_avg_temp            974 non-null    float64       \n",
      " 9   8_14_day_avg_temp           974 non-null    float64       \n",
      " 10  1_7_day_avg_humidity        974 non-null    float64       \n",
      " 11  8_14_day_avg_humidity       974 non-null    float64       \n",
      " 12  percent_change_in_temp      974 non-null    float64       \n",
      " 13  percent_change_in_humidity  974 non-null    float64       \n",
      " 14  1_15_day_avg_temp           974 non-null    float64       \n",
      " 15  1_15_day_avg_humidity       974 non-null    float64       \n",
      "dtypes: datetime64[ns](1), float64(14), object(1)\n",
      "memory usage: 121.9+ KB\n"
     ]
    }
   ],
   "source": [
    "CitiesWeather_df.info()"
   ]
  },
  {
   "cell_type": "code",
   "execution_count": 83,
   "metadata": {},
   "outputs": [
    {
     "data": {
      "text/html": [
       "<div>\n",
       "<style scoped>\n",
       "    .dataframe tbody tr th:only-of-type {\n",
       "        vertical-align: middle;\n",
       "    }\n",
       "\n",
       "    .dataframe tbody tr th {\n",
       "        vertical-align: top;\n",
       "    }\n",
       "\n",
       "    .dataframe thead th {\n",
       "        text-align: right;\n",
       "    }\n",
       "</style>\n",
       "<table border=\"1\" class=\"dataframe\">\n",
       "  <thead>\n",
       "    <tr style=\"text-align: right;\">\n",
       "      <th></th>\n",
       "      <th>count</th>\n",
       "      <th>mean</th>\n",
       "      <th>std</th>\n",
       "      <th>min</th>\n",
       "      <th>25%</th>\n",
       "      <th>50%</th>\n",
       "      <th>75%</th>\n",
       "      <th>max</th>\n",
       "    </tr>\n",
       "  </thead>\n",
       "  <tbody>\n",
       "    <tr>\n",
       "      <th>lat</th>\n",
       "      <td>974.0</td>\n",
       "      <td>8.581127</td>\n",
       "      <td>32.148155</td>\n",
       "      <td>-23.550520</td>\n",
       "      <td>-23.550520</td>\n",
       "      <td>8.581128</td>\n",
       "      <td>40.712775</td>\n",
       "      <td>40.712775</td>\n",
       "    </tr>\n",
       "    <tr>\n",
       "      <th>lon</th>\n",
       "      <td>974.0</td>\n",
       "      <td>-60.319641</td>\n",
       "      <td>13.693363</td>\n",
       "      <td>-74.005973</td>\n",
       "      <td>-74.005973</td>\n",
       "      <td>-60.319641</td>\n",
       "      <td>-46.633309</td>\n",
       "      <td>-46.633309</td>\n",
       "    </tr>\n",
       "    <tr>\n",
       "      <th>temp_mean</th>\n",
       "      <td>974.0</td>\n",
       "      <td>16.377680</td>\n",
       "      <td>7.924567</td>\n",
       "      <td>-6.020000</td>\n",
       "      <td>11.230000</td>\n",
       "      <td>18.695000</td>\n",
       "      <td>22.420000</td>\n",
       "      <td>30.420000</td>\n",
       "    </tr>\n",
       "    <tr>\n",
       "      <th>humidity_mean</th>\n",
       "      <td>974.0</td>\n",
       "      <td>67.697782</td>\n",
       "      <td>13.004947</td>\n",
       "      <td>27.420000</td>\n",
       "      <td>59.790000</td>\n",
       "      <td>70.000000</td>\n",
       "      <td>76.780000</td>\n",
       "      <td>94.640000</td>\n",
       "    </tr>\n",
       "    <tr>\n",
       "      <th>temp_min</th>\n",
       "      <td>974.0</td>\n",
       "      <td>11.117372</td>\n",
       "      <td>7.612051</td>\n",
       "      <td>-11.110000</td>\n",
       "      <td>6.110000</td>\n",
       "      <td>13.000000</td>\n",
       "      <td>16.982500</td>\n",
       "      <td>25.560000</td>\n",
       "    </tr>\n",
       "    <tr>\n",
       "      <th>temp_max</th>\n",
       "      <td>974.0</td>\n",
       "      <td>22.772331</td>\n",
       "      <td>8.903614</td>\n",
       "      <td>-2.780000</td>\n",
       "      <td>17.780000</td>\n",
       "      <td>25.560000</td>\n",
       "      <td>29.055000</td>\n",
       "      <td>37.220000</td>\n",
       "    </tr>\n",
       "    <tr>\n",
       "      <th>1_7_day_avg_temp</th>\n",
       "      <td>974.0</td>\n",
       "      <td>16.368316</td>\n",
       "      <td>7.632859</td>\n",
       "      <td>-2.790000</td>\n",
       "      <td>10.592500</td>\n",
       "      <td>18.940000</td>\n",
       "      <td>22.457500</td>\n",
       "      <td>28.370000</td>\n",
       "    </tr>\n",
       "    <tr>\n",
       "      <th>8_14_day_avg_temp</th>\n",
       "      <td>974.0</td>\n",
       "      <td>16.353532</td>\n",
       "      <td>7.714233</td>\n",
       "      <td>-2.790000</td>\n",
       "      <td>10.440000</td>\n",
       "      <td>19.015000</td>\n",
       "      <td>22.547500</td>\n",
       "      <td>28.370000</td>\n",
       "    </tr>\n",
       "    <tr>\n",
       "      <th>1_7_day_avg_humidity</th>\n",
       "      <td>974.0</td>\n",
       "      <td>67.824815</td>\n",
       "      <td>8.111741</td>\n",
       "      <td>39.120000</td>\n",
       "      <td>63.642500</td>\n",
       "      <td>69.430000</td>\n",
       "      <td>73.210000</td>\n",
       "      <td>85.830000</td>\n",
       "    </tr>\n",
       "    <tr>\n",
       "      <th>8_14_day_avg_humidity</th>\n",
       "      <td>974.0</td>\n",
       "      <td>67.884415</td>\n",
       "      <td>8.096467</td>\n",
       "      <td>39.120000</td>\n",
       "      <td>63.650000</td>\n",
       "      <td>69.405000</td>\n",
       "      <td>73.300000</td>\n",
       "      <td>85.830000</td>\n",
       "    </tr>\n",
       "    <tr>\n",
       "      <th>percent_change_in_temp</th>\n",
       "      <td>974.0</td>\n",
       "      <td>17.167197</td>\n",
       "      <td>171.600550</td>\n",
       "      <td>-652.630000</td>\n",
       "      <td>-10.312500</td>\n",
       "      <td>0.510000</td>\n",
       "      <td>11.652500</td>\n",
       "      <td>1904.000000</td>\n",
       "    </tr>\n",
       "    <tr>\n",
       "      <th>percent_change_in_humidity</th>\n",
       "      <td>974.0</td>\n",
       "      <td>-0.932649</td>\n",
       "      <td>14.733406</td>\n",
       "      <td>-105.420000</td>\n",
       "      <td>-7.915000</td>\n",
       "      <td>0.000000</td>\n",
       "      <td>7.635000</td>\n",
       "      <td>39.820000</td>\n",
       "    </tr>\n",
       "    <tr>\n",
       "      <th>1_15_day_avg_temp</th>\n",
       "      <td>974.0</td>\n",
       "      <td>16.358799</td>\n",
       "      <td>7.545236</td>\n",
       "      <td>-1.540000</td>\n",
       "      <td>10.692500</td>\n",
       "      <td>18.765000</td>\n",
       "      <td>22.412500</td>\n",
       "      <td>28.020000</td>\n",
       "    </tr>\n",
       "    <tr>\n",
       "      <th>1_15_day_avg_humidity</th>\n",
       "      <td>974.0</td>\n",
       "      <td>67.860154</td>\n",
       "      <td>6.617854</td>\n",
       "      <td>41.550000</td>\n",
       "      <td>64.485000</td>\n",
       "      <td>68.480000</td>\n",
       "      <td>72.655000</td>\n",
       "      <td>83.000000</td>\n",
       "    </tr>\n",
       "  </tbody>\n",
       "</table>\n",
       "</div>"
      ],
      "text/plain": [
       "                            count       mean         std         min  \\\n",
       "lat                         974.0   8.581127   32.148155  -23.550520   \n",
       "lon                         974.0 -60.319641   13.693363  -74.005973   \n",
       "temp_mean                   974.0  16.377680    7.924567   -6.020000   \n",
       "humidity_mean               974.0  67.697782   13.004947   27.420000   \n",
       "temp_min                    974.0  11.117372    7.612051  -11.110000   \n",
       "temp_max                    974.0  22.772331    8.903614   -2.780000   \n",
       "1_7_day_avg_temp            974.0  16.368316    7.632859   -2.790000   \n",
       "8_14_day_avg_temp           974.0  16.353532    7.714233   -2.790000   \n",
       "1_7_day_avg_humidity        974.0  67.824815    8.111741   39.120000   \n",
       "8_14_day_avg_humidity       974.0  67.884415    8.096467   39.120000   \n",
       "percent_change_in_temp      974.0  17.167197  171.600550 -652.630000   \n",
       "percent_change_in_humidity  974.0  -0.932649   14.733406 -105.420000   \n",
       "1_15_day_avg_temp           974.0  16.358799    7.545236   -1.540000   \n",
       "1_15_day_avg_humidity       974.0  67.860154    6.617854   41.550000   \n",
       "\n",
       "                                  25%        50%        75%          max  \n",
       "lat                        -23.550520   8.581128  40.712775    40.712775  \n",
       "lon                        -74.005973 -60.319641 -46.633309   -46.633309  \n",
       "temp_mean                   11.230000  18.695000  22.420000    30.420000  \n",
       "humidity_mean               59.790000  70.000000  76.780000    94.640000  \n",
       "temp_min                     6.110000  13.000000  16.982500    25.560000  \n",
       "temp_max                    17.780000  25.560000  29.055000    37.220000  \n",
       "1_7_day_avg_temp            10.592500  18.940000  22.457500    28.370000  \n",
       "8_14_day_avg_temp           10.440000  19.015000  22.547500    28.370000  \n",
       "1_7_day_avg_humidity        63.642500  69.430000  73.210000    85.830000  \n",
       "8_14_day_avg_humidity       63.650000  69.405000  73.300000    85.830000  \n",
       "percent_change_in_temp     -10.312500   0.510000  11.652500  1904.000000  \n",
       "percent_change_in_humidity  -7.915000   0.000000   7.635000    39.820000  \n",
       "1_15_day_avg_temp           10.692500  18.765000  22.412500    28.020000  \n",
       "1_15_day_avg_humidity       64.485000  68.480000  72.655000    83.000000  "
      ]
     },
     "execution_count": 83,
     "metadata": {},
     "output_type": "execute_result"
    }
   ],
   "source": [
    "#statistical summary of Weather data of 2 cities-Sao Paolo and New York\n",
    "CitiesWeather_df.describe().T"
   ]
  },
  {
   "cell_type": "markdown",
   "metadata": {},
   "source": [
    "New York -Covid Cases outlier detection"
   ]
  },
  {
   "cell_type": "code",
   "execution_count": 71,
   "metadata": {},
   "outputs": [],
   "source": [
    "# Set x axis and tick locations for Covid cases in city plotting\n",
    "x_axis = np.arange(len(NYCovid_df))\n",
    "tick_locations = [value for value in x_axis]"
   ]
  },
  {
   "cell_type": "code",
   "execution_count": 72,
   "metadata": {
    "scrolled": false
   },
   "outputs": [
    {
     "data": {
      "text/html": [
       "<div>\n",
       "<style scoped>\n",
       "    .dataframe tbody tr th:only-of-type {\n",
       "        vertical-align: middle;\n",
       "    }\n",
       "\n",
       "    .dataframe tbody tr th {\n",
       "        vertical-align: top;\n",
       "    }\n",
       "\n",
       "    .dataframe thead th {\n",
       "        text-align: right;\n",
       "    }\n",
       "</style>\n",
       "<table border=\"1\" class=\"dataframe\">\n",
       "  <thead>\n",
       "    <tr style=\"text-align: right;\">\n",
       "      <th></th>\n",
       "      <th>date</th>\n",
       "      <th>CASE_COUNT</th>\n",
       "      <th>CASE_COUNT_7DAY_AVG</th>\n",
       "      <th>Cal_per_100K_moving7_avg_new_cases</th>\n",
       "    </tr>\n",
       "  </thead>\n",
       "  <tbody>\n",
       "    <tr>\n",
       "      <th>0</th>\n",
       "      <td>2020-02-29</td>\n",
       "      <td>1</td>\n",
       "      <td>0</td>\n",
       "      <td>0.0</td>\n",
       "    </tr>\n",
       "    <tr>\n",
       "      <th>1</th>\n",
       "      <td>2020-03-01</td>\n",
       "      <td>0</td>\n",
       "      <td>0</td>\n",
       "      <td>0.0</td>\n",
       "    </tr>\n",
       "    <tr>\n",
       "      <th>2</th>\n",
       "      <td>2020-03-02</td>\n",
       "      <td>0</td>\n",
       "      <td>0</td>\n",
       "      <td>0.0</td>\n",
       "    </tr>\n",
       "    <tr>\n",
       "      <th>3</th>\n",
       "      <td>2020-03-03</td>\n",
       "      <td>1</td>\n",
       "      <td>0</td>\n",
       "      <td>0.0</td>\n",
       "    </tr>\n",
       "    <tr>\n",
       "      <th>4</th>\n",
       "      <td>2020-03-04</td>\n",
       "      <td>5</td>\n",
       "      <td>0</td>\n",
       "      <td>0.0</td>\n",
       "    </tr>\n",
       "  </tbody>\n",
       "</table>\n",
       "</div>"
      ],
      "text/plain": [
       "        date  CASE_COUNT  CASE_COUNT_7DAY_AVG  \\\n",
       "0 2020-02-29           1                    0   \n",
       "1 2020-03-01           0                    0   \n",
       "2 2020-03-02           0                    0   \n",
       "3 2020-03-03           1                    0   \n",
       "4 2020-03-04           5                    0   \n",
       "\n",
       "   Cal_per_100K_moving7_avg_new_cases  \n",
       "0                                 0.0  \n",
       "1                                 0.0  \n",
       "2                                 0.0  \n",
       "3                                 0.0  \n",
       "4                                 0.0  "
      ]
     },
     "execution_count": 72,
     "metadata": {},
     "output_type": "execute_result"
    }
   ],
   "source": [
    "NYCovid_df.head()"
   ]
  },
  {
   "cell_type": "code",
   "execution_count": 15,
   "metadata": {},
   "outputs": [
    {
     "data": {
      "text/plain": [
       "<AxesSubplot:xlabel='CASE_COUNT'>"
      ]
     },
     "execution_count": 15,
     "metadata": {},
     "output_type": "execute_result"
    },
    {
     "data": {
      "image/png": "[encoded data removed]",
      "text/plain": [
       "<Figure size 432x288 with 1 Axes>"
      ]
     },
     "metadata": {
      "needs_background": "light"
     },
     "output_type": "display_data"
    }
   ],
   "source": [
    "#Finding Outliers in NY Covid data\n",
    "\n",
    "# This is kind of univatiate analysis if we are finding outliers in the data\n",
    "#x needs to be a numerical variable\n",
    "\n",
    "sns.boxplot(x ='CASE_COUNT', data = NYCovid_df)"
   ]
  },
  {
   "cell_type": "code",
   "execution_count": 16,
   "metadata": {
    "scrolled": false
   },
   "outputs": [
    {
     "data": {
      "text/plain": [
       "<AxesSubplot:xlabel='CASE_COUNT_7DAY_AVG'>"
      ]
     },
     "execution_count": 16,
     "metadata": {},
     "output_type": "execute_result"
    },
    {
     "data": {
      "image/png": "[encoded data removed]",
      "text/plain": [
       "<Figure size 432x288 with 1 Axes>"
      ]
     },
     "metadata": {
      "needs_background": "light"
     },
     "output_type": "display_data"
    }
   ],
   "source": [
    "sns.boxplot(x ='CASE_COUNT_7DAY_AVG', data = NYCovid_df)"
   ]
  },
  {
   "cell_type": "markdown",
   "metadata": {},
   "source": [
    "Sao Paulo Covid Cases data plotting and outlier detection"
   ]
  },
  {
   "cell_type": "code",
   "execution_count": 17,
   "metadata": {},
   "outputs": [
    {
     "data": {
      "text/html": [
       "<div>\n",
       "<style scoped>\n",
       "    .dataframe tbody tr th:only-of-type {\n",
       "        vertical-align: middle;\n",
       "    }\n",
       "\n",
       "    .dataframe tbody tr th {\n",
       "        vertical-align: top;\n",
       "    }\n",
       "\n",
       "    .dataframe thead th {\n",
       "        text-align: right;\n",
       "    }\n",
       "</style>\n",
       "<table border=\"1\" class=\"dataframe\">\n",
       "  <thead>\n",
       "    <tr style=\"text-align: right;\">\n",
       "      <th></th>\n",
       "      <th>date</th>\n",
       "      <th>new cases</th>\n",
       "      <th>Cal_avg_new_cases_7_days</th>\n",
       "      <th>avg_cases_per_100_k</th>\n",
       "    </tr>\n",
       "  </thead>\n",
       "  <tbody>\n",
       "    <tr>\n",
       "      <th>0</th>\n",
       "      <td>2020-02-25</td>\n",
       "      <td>0</td>\n",
       "      <td>0.0</td>\n",
       "      <td>0.0</td>\n",
       "    </tr>\n",
       "    <tr>\n",
       "      <th>1</th>\n",
       "      <td>2020-02-26</td>\n",
       "      <td>0</td>\n",
       "      <td>0.0</td>\n",
       "      <td>0.0</td>\n",
       "    </tr>\n",
       "    <tr>\n",
       "      <th>2</th>\n",
       "      <td>2020-02-27</td>\n",
       "      <td>0</td>\n",
       "      <td>0.0</td>\n",
       "      <td>0.0</td>\n",
       "    </tr>\n",
       "    <tr>\n",
       "      <th>3</th>\n",
       "      <td>2020-02-28</td>\n",
       "      <td>1</td>\n",
       "      <td>0.0</td>\n",
       "      <td>0.0</td>\n",
       "    </tr>\n",
       "    <tr>\n",
       "      <th>4</th>\n",
       "      <td>2020-02-29</td>\n",
       "      <td>0</td>\n",
       "      <td>0.0</td>\n",
       "      <td>0.0</td>\n",
       "    </tr>\n",
       "  </tbody>\n",
       "</table>\n",
       "</div>"
      ],
      "text/plain": [
       "        date  new cases  Cal_avg_new_cases_7_days  avg_cases_per_100_k\n",
       "0 2020-02-25          0                       0.0                  0.0\n",
       "1 2020-02-26          0                       0.0                  0.0\n",
       "2 2020-02-27          0                       0.0                  0.0\n",
       "3 2020-02-28          1                       0.0                  0.0\n",
       "4 2020-02-29          0                       0.0                  0.0"
      ]
     },
     "execution_count": 17,
     "metadata": {},
     "output_type": "execute_result"
    }
   ],
   "source": [
    "SPCovid_df.head()\n"
   ]
  },
  {
   "cell_type": "code",
   "execution_count": 20,
   "metadata": {},
   "outputs": [
    {
     "data": {
      "text/html": [
       "<div>\n",
       "<style scoped>\n",
       "    .dataframe tbody tr th:only-of-type {\n",
       "        vertical-align: middle;\n",
       "    }\n",
       "\n",
       "    .dataframe tbody tr th {\n",
       "        vertical-align: top;\n",
       "    }\n",
       "\n",
       "    .dataframe thead th {\n",
       "        text-align: right;\n",
       "    }\n",
       "</style>\n",
       "<table border=\"1\" class=\"dataframe\">\n",
       "  <thead>\n",
       "    <tr style=\"text-align: right;\">\n",
       "      <th></th>\n",
       "      <th>date</th>\n",
       "      <th>new cases</th>\n",
       "      <th>Cal_avg_new_cases_7_days</th>\n",
       "      <th>avg_cases_per_100_k</th>\n",
       "    </tr>\n",
       "  </thead>\n",
       "  <tbody>\n",
       "    <tr>\n",
       "      <th>115</th>\n",
       "      <td>2020-06-19</td>\n",
       "      <td>6877</td>\n",
       "      <td>2826.0</td>\n",
       "      <td>23.81</td>\n",
       "    </tr>\n",
       "    <tr>\n",
       "      <th>169</th>\n",
       "      <td>2020-08-12</td>\n",
       "      <td>6896</td>\n",
       "      <td>2577.0</td>\n",
       "      <td>21.71</td>\n",
       "    </tr>\n",
       "    <tr>\n",
       "      <th>170</th>\n",
       "      <td>2020-08-13</td>\n",
       "      <td>7063</td>\n",
       "      <td>3092.0</td>\n",
       "      <td>26.05</td>\n",
       "    </tr>\n",
       "    <tr>\n",
       "      <th>400</th>\n",
       "      <td>2021-03-31</td>\n",
       "      <td>8348</td>\n",
       "      <td>4073.0</td>\n",
       "      <td>34.31</td>\n",
       "    </tr>\n",
       "    <tr>\n",
       "      <th>401</th>\n",
       "      <td>2021-04-01</td>\n",
       "      <td>8646</td>\n",
       "      <td>4706.0</td>\n",
       "      <td>39.65</td>\n",
       "    </tr>\n",
       "    <tr>\n",
       "      <th>406</th>\n",
       "      <td>2021-04-06</td>\n",
       "      <td>6740</td>\n",
       "      <td>4468.0</td>\n",
       "      <td>37.64</td>\n",
       "    </tr>\n",
       "  </tbody>\n",
       "</table>\n",
       "</div>"
      ],
      "text/plain": [
       "          date  new cases  Cal_avg_new_cases_7_days  avg_cases_per_100_k\n",
       "115 2020-06-19       6877                    2826.0                23.81\n",
       "169 2020-08-12       6896                    2577.0                21.71\n",
       "170 2020-08-13       7063                    3092.0                26.05\n",
       "400 2021-03-31       8348                    4073.0                34.31\n",
       "401 2021-04-01       8646                    4706.0                39.65\n",
       "406 2021-04-06       6740                    4468.0                37.64"
      ]
     },
     "execution_count": 20,
     "metadata": {},
     "output_type": "execute_result"
    }
   ],
   "source": [
    "SPCovid_df[SPCovid_df['new cases']>6000]"
   ]
  },
  {
   "cell_type": "code",
   "execution_count": 19,
   "metadata": {},
   "outputs": [
    {
     "data": {
      "text/plain": [
       "<AxesSubplot:xlabel='new cases'>"
      ]
     },
     "execution_count": 19,
     "metadata": {},
     "output_type": "execute_result"
    },
    {
     "data": {
      "image/png": "[encoded data removed]",
      "text/plain": [
       "<Figure size 432x288 with 1 Axes>"
      ]
     },
     "metadata": {
      "needs_background": "light"
     },
     "output_type": "display_data"
    }
   ],
   "source": [
    "#Finding Outliers in Sao Paulo Covid data\n",
    "\n",
    "# This is kind of univatiate analysis if we are finding outliers in the data\n",
    "#x needs to be a numerical variable\n",
    "\n",
    "sns.boxplot(x ='new cases', data = SPCovid_df)"
   ]
  },
  {
   "cell_type": "code",
   "execution_count": 21,
   "metadata": {},
   "outputs": [
    {
     "data": {
      "text/plain": [
       "<AxesSubplot:xlabel='Cal_avg_new_cases_7_days'>"
      ]
     },
     "execution_count": 21,
     "metadata": {},
     "output_type": "execute_result"
    },
    {
     "data": {
      "image/png": "[encoded data removed]",
      "text/plain": [
       "<Figure size 432x288 with 1 Axes>"
      ]
     },
     "metadata": {
      "needs_background": "light"
     },
     "output_type": "display_data"
    }
   ],
   "source": [
    "sns.boxplot(x ='Cal_avg_new_cases_7_days', data = SPCovid_df)\n",
    "#sns.boxplot(x ='avg_cases_per_100_k', data = SPCovid_df)"
   ]
  },
  {
   "cell_type": "code",
   "execution_count": 22,
   "metadata": {
    "scrolled": true
   },
   "outputs": [
    {
     "data": {
      "text/html": [
       "<div>\n",
       "<style scoped>\n",
       "    .dataframe tbody tr th:only-of-type {\n",
       "        vertical-align: middle;\n",
       "    }\n",
       "\n",
       "    .dataframe tbody tr th {\n",
       "        vertical-align: top;\n",
       "    }\n",
       "\n",
       "    .dataframe thead th {\n",
       "        text-align: right;\n",
       "    }\n",
       "</style>\n",
       "<table border=\"1\" class=\"dataframe\">\n",
       "  <thead>\n",
       "    <tr style=\"text-align: right;\">\n",
       "      <th></th>\n",
       "      <th>date</th>\n",
       "      <th>new cases</th>\n",
       "      <th>Cal_avg_new_cases_7_days</th>\n",
       "      <th>avg_cases_per_100_k</th>\n",
       "    </tr>\n",
       "  </thead>\n",
       "  <tbody>\n",
       "    <tr>\n",
       "      <th>401</th>\n",
       "      <td>2021-04-01</td>\n",
       "      <td>8646</td>\n",
       "      <td>4706.0</td>\n",
       "      <td>39.65</td>\n",
       "    </tr>\n",
       "    <tr>\n",
       "      <th>402</th>\n",
       "      <td>2021-04-02</td>\n",
       "      <td>3743</td>\n",
       "      <td>4635.0</td>\n",
       "      <td>39.05</td>\n",
       "    </tr>\n",
       "    <tr>\n",
       "      <th>406</th>\n",
       "      <td>2021-04-06</td>\n",
       "      <td>6740</td>\n",
       "      <td>4468.0</td>\n",
       "      <td>37.64</td>\n",
       "    </tr>\n",
       "  </tbody>\n",
       "</table>\n",
       "</div>"
      ],
      "text/plain": [
       "          date  new cases  Cal_avg_new_cases_7_days  avg_cases_per_100_k\n",
       "401 2021-04-01       8646                    4706.0                39.65\n",
       "402 2021-04-02       3743                    4635.0                39.05\n",
       "406 2021-04-06       6740                    4468.0                37.64"
      ]
     },
     "execution_count": 22,
     "metadata": {},
     "output_type": "execute_result"
    }
   ],
   "source": [
    "SPCovid_df[SPCovid_df['Cal_avg_new_cases_7_days']>4300]\n",
    "#SPCovid_df[SPCovid_df['avg_cases_per_100_k']>35]"
   ]
  },
  {
   "cell_type": "code",
   "execution_count": 28,
   "metadata": {},
   "outputs": [
    {
     "data": {
      "text/plain": [
       "<AxesSubplot:xlabel='1_7_day_avg_temp'>"
      ]
     },
     "execution_count": 28,
     "metadata": {},
     "output_type": "execute_result"
    },
    {
     "data": {
      "image/png": "[encoded data removed]",
      "text/plain": [
       "<Figure size 432x288 with 1 Axes>"
      ]
     },
     "metadata": {
      "needs_background": "light"
     },
     "output_type": "display_data"
    }
   ],
   "source": [
    "#Finding Outliers in NY Tempreture data\n",
    "\n",
    "# This is kind of univatiate analysis if we are finding outliers in the data\n",
    "#x needs to be a numerical variable\n",
    "\n",
    "sns.boxplot(x ='1_7_day_avg_temp', data = NYWeatherTemp_df)"
   ]
  },
  {
   "cell_type": "code",
   "execution_count": 31,
   "metadata": {},
   "outputs": [
    {
     "data": {
      "text/plain": [
       "<AxesSubplot:xlabel='humidity_mean'>"
      ]
     },
     "execution_count": 31,
     "metadata": {},
     "output_type": "execute_result"
    },
    {
     "data": {
      "image/png": "[encoded data removed]",
      "text/plain": [
       "<Figure size 432x288 with 1 Axes>"
      ]
     },
     "metadata": {
      "needs_background": "light"
     },
     "output_type": "display_data"
    }
   ],
   "source": [
    "#Finding Outliers in NY Humidity data\n",
    "\n",
    "# This is kind of univatiate analysis if we are finding outliers in the data\n",
    "#x needs to be a numerical variable\n",
    "\n",
    "sns.boxplot(x ='humidity_mean', data = NYWeatherHumidity_df)"
   ]
  },
  {
   "cell_type": "code",
   "execution_count": 32,
   "metadata": {},
   "outputs": [
    {
     "data": {
      "text/plain": [
       "<AxesSubplot:xlabel='1_7_day_avg_humidity'>"
      ]
     },
     "execution_count": 32,
     "metadata": {},
     "output_type": "execute_result"
    },
    {
     "data": {
      "image/png": "[encoded data removed]",
      "text/plain": [
       "<Figure size 432x288 with 1 Axes>"
      ]
     },
     "metadata": {
      "needs_background": "light"
     },
     "output_type": "display_data"
    }
   ],
   "source": [
    "sns.boxplot(x ='1_7_day_avg_humidity', data = NYWeatherHumidity_df)"
   ]
  },
  {
   "cell_type": "code",
   "execution_count": 35,
   "metadata": {},
   "outputs": [
    {
     "data": {
      "text/plain": [
       "<AxesSubplot:xlabel='temp_mean'>"
      ]
     },
     "execution_count": 35,
     "metadata": {},
     "output_type": "execute_result"
    },
    {
     "data": {
      "image/png": "[encoded data removed]",
      "text/plain": [
       "<Figure size 432x288 with 1 Axes>"
      ]
     },
     "metadata": {
      "needs_background": "light"
     },
     "output_type": "display_data"
    }
   ],
   "source": [
    "#Finding Outliers in Sao Paulo Temp data\n",
    "\n",
    "# This is kind of univatiate analysis if we are finding outliers in the data\n",
    "#x needs to be a numerical variable\n",
    "\n",
    "sns.boxplot(x ='temp_mean', data = SPWeatherTemp_df)"
   ]
  },
  {
   "cell_type": "code",
   "execution_count": 36,
   "metadata": {},
   "outputs": [
    {
     "data": {
      "text/html": [
       "<div>\n",
       "<style scoped>\n",
       "    .dataframe tbody tr th:only-of-type {\n",
       "        vertical-align: middle;\n",
       "    }\n",
       "\n",
       "    .dataframe tbody tr th {\n",
       "        vertical-align: top;\n",
       "    }\n",
       "\n",
       "    .dataframe thead th {\n",
       "        text-align: right;\n",
       "    }\n",
       "</style>\n",
       "<table border=\"1\" class=\"dataframe\">\n",
       "  <thead>\n",
       "    <tr style=\"text-align: right;\">\n",
       "      <th></th>\n",
       "      <th>date</th>\n",
       "      <th>temp_mean</th>\n",
       "      <th>1_7_day_avg_temp</th>\n",
       "      <th>8_14_day_avg_temp</th>\n",
       "      <th>1_15_day_avg_temp</th>\n",
       "    </tr>\n",
       "  </thead>\n",
       "  <tbody>\n",
       "    <tr>\n",
       "      <th>218</th>\n",
       "      <td>2020-08-21</td>\n",
       "      <td>10.92</td>\n",
       "      <td>18.70</td>\n",
       "      <td>18.95</td>\n",
       "      <td>18.67</td>\n",
       "    </tr>\n",
       "    <tr>\n",
       "      <th>219</th>\n",
       "      <td>2020-08-22</td>\n",
       "      <td>10.44</td>\n",
       "      <td>17.08</td>\n",
       "      <td>19.70</td>\n",
       "      <td>18.30</td>\n",
       "    </tr>\n",
       "  </tbody>\n",
       "</table>\n",
       "</div>"
      ],
      "text/plain": [
       "          date  temp_mean  1_7_day_avg_temp  8_14_day_avg_temp  \\\n",
       "218 2020-08-21      10.92             18.70              18.95   \n",
       "219 2020-08-22      10.44             17.08              19.70   \n",
       "\n",
       "     1_15_day_avg_temp  \n",
       "218              18.67  \n",
       "219              18.30  "
      ]
     },
     "execution_count": 36,
     "metadata": {},
     "output_type": "execute_result"
    }
   ],
   "source": [
    "#SPWeatherTemp_df[SPWeatherTemp_df['temp_mean']>29]\n",
    "SPWeatherTemp_df[SPWeatherTemp_df['temp_mean']<12.5]"
   ]
  },
  {
   "cell_type": "code",
   "execution_count": 39,
   "metadata": {},
   "outputs": [
    {
     "data": {
      "text/plain": [
       "<AxesSubplot:xlabel='humidity_mean'>"
      ]
     },
     "execution_count": 39,
     "metadata": {},
     "output_type": "execute_result"
    },
    {
     "data": {
      "image/png": "[encoded data removed]",
      "text/plain": [
       "<Figure size 432x288 with 1 Axes>"
      ]
     },
     "metadata": {
      "needs_background": "light"
     },
     "output_type": "display_data"
    }
   ],
   "source": [
    "#Finding Outliers in Sao Paulo Humidity data\n",
    "\n",
    "# This is kind of univatiate analysis if we are finding outliers in the data\n",
    "#x needs to be a numerical variable\n",
    "\n",
    "sns.boxplot(x ='humidity_mean', data = SPWeatherHumidity_df)"
   ]
  },
  {
   "cell_type": "code",
   "execution_count": 40,
   "metadata": {},
   "outputs": [
    {
     "data": {
      "text/html": [
       "<div>\n",
       "<style scoped>\n",
       "    .dataframe tbody tr th:only-of-type {\n",
       "        vertical-align: middle;\n",
       "    }\n",
       "\n",
       "    .dataframe tbody tr th {\n",
       "        vertical-align: top;\n",
       "    }\n",
       "\n",
       "    .dataframe thead th {\n",
       "        text-align: right;\n",
       "    }\n",
       "</style>\n",
       "<table border=\"1\" class=\"dataframe\">\n",
       "  <thead>\n",
       "    <tr style=\"text-align: right;\">\n",
       "      <th></th>\n",
       "      <th>date</th>\n",
       "      <th>humidity_mean</th>\n",
       "      <th>1_7_day_avg_humidity</th>\n",
       "      <th>8_14_day_avg_humidity</th>\n",
       "      <th>1_15_day_avg_humidity</th>\n",
       "    </tr>\n",
       "  </thead>\n",
       "  <tbody>\n",
       "    <tr>\n",
       "      <th>11</th>\n",
       "      <td>2020-01-27</td>\n",
       "      <td>47.50</td>\n",
       "      <td>77.20</td>\n",
       "      <td>79.78</td>\n",
       "      <td>78.90</td>\n",
       "    </tr>\n",
       "    <tr>\n",
       "      <th>174</th>\n",
       "      <td>2020-07-08</td>\n",
       "      <td>43.08</td>\n",
       "      <td>66.87</td>\n",
       "      <td>72.67</td>\n",
       "      <td>68.60</td>\n",
       "    </tr>\n",
       "    <tr>\n",
       "      <th>240</th>\n",
       "      <td>2020-09-12</td>\n",
       "      <td>42.33</td>\n",
       "      <td>65.00</td>\n",
       "      <td>63.65</td>\n",
       "      <td>64.56</td>\n",
       "    </tr>\n",
       "    <tr>\n",
       "      <th>241</th>\n",
       "      <td>2020-09-13</td>\n",
       "      <td>46.12</td>\n",
       "      <td>61.83</td>\n",
       "      <td>64.55</td>\n",
       "      <td>62.86</td>\n",
       "    </tr>\n",
       "    <tr>\n",
       "      <th>242</th>\n",
       "      <td>2020-09-14</td>\n",
       "      <td>38.29</td>\n",
       "      <td>60.12</td>\n",
       "      <td>65.11</td>\n",
       "      <td>62.05</td>\n",
       "    </tr>\n",
       "    <tr>\n",
       "      <th>255</th>\n",
       "      <td>2020-09-27</td>\n",
       "      <td>42.38</td>\n",
       "      <td>73.50</td>\n",
       "      <td>59.58</td>\n",
       "      <td>64.92</td>\n",
       "    </tr>\n",
       "    <tr>\n",
       "      <th>260</th>\n",
       "      <td>2020-10-02</td>\n",
       "      <td>35.71</td>\n",
       "      <td>59.47</td>\n",
       "      <td>73.58</td>\n",
       "      <td>66.59</td>\n",
       "    </tr>\n",
       "  </tbody>\n",
       "</table>\n",
       "</div>"
      ],
      "text/plain": [
       "          date  humidity_mean  1_7_day_avg_humidity  8_14_day_avg_humidity  \\\n",
       "11  2020-01-27          47.50                 77.20                  79.78   \n",
       "174 2020-07-08          43.08                 66.87                  72.67   \n",
       "240 2020-09-12          42.33                 65.00                  63.65   \n",
       "241 2020-09-13          46.12                 61.83                  64.55   \n",
       "242 2020-09-14          38.29                 60.12                  65.11   \n",
       "255 2020-09-27          42.38                 73.50                  59.58   \n",
       "260 2020-10-02          35.71                 59.47                  73.58   \n",
       "\n",
       "     1_15_day_avg_humidity  \n",
       "11                   78.90  \n",
       "174                  68.60  \n",
       "240                  64.56  \n",
       "241                  62.86  \n",
       "242                  62.05  \n",
       "255                  64.92  \n",
       "260                  66.59  "
      ]
     },
     "execution_count": 40,
     "metadata": {},
     "output_type": "execute_result"
    }
   ],
   "source": [
    "SPWeatherHumidity_df[SPWeatherHumidity_df['humidity_mean']<50]\n"
   ]
  },
  {
   "cell_type": "code",
   "execution_count": null,
   "metadata": {},
   "outputs": [],
   "source": []
  }
 ],
 "metadata": {
  "kernelspec": {
   "display_name": "PythonData",
   "language": "python",
   "name": "pythondata"
  },
  "language_info": {
   "codemirror_mode": {
    "name": "ipython",
    "version": 3
   },
   "file_extension": ".py",
   "mimetype": "text/x-python",
   "name": "python",
   "nbconvert_exporter": "python",
   "pygments_lexer": "ipython3",
   "version": "3.7.9"
  }
 },
 "nbformat": 4,
 "nbformat_minor": 4
}
